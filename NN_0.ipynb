{
  "cells": [
    {
      "cell_type": "markdown",
      "metadata": {
        "id": "view-in-github",
        "colab_type": "text"
      },
      "source": [
        "<a href=\"https://colab.research.google.com/github/Kasrakko/PyTorch-Deep-Learning/blob/main/NN_0.ipynb\" target=\"_parent\"><img src=\"https://colab.research.google.com/assets/colab-badge.svg\" alt=\"Open In Colab\"/></a>"
      ]
    },
    {
      "cell_type": "code",
      "execution_count": null,
      "metadata": {
        "colab": {
          "base_uri": "https://localhost:8080/"
        },
        "id": "9nILu7RjuQbe",
        "outputId": "8ecab40a-fa98-470e-a779-3d2c836581e4"
      },
      "outputs": [
        {
          "name": "stdout",
          "output_type": "stream",
          "text": [
            "Wed Feb  1 06:07:32 2023       \n",
            "+-----------------------------------------------------------------------------+\n",
            "| NVIDIA-SMI 510.47.03    Driver Version: 510.47.03    CUDA Version: 11.6     |\n",
            "|-------------------------------+----------------------+----------------------+\n",
            "| GPU  Name        Persistence-M| Bus-Id        Disp.A | Volatile Uncorr. ECC |\n",
            "| Fan  Temp  Perf  Pwr:Usage/Cap|         Memory-Usage | GPU-Util  Compute M. |\n",
            "|                               |                      |               MIG M. |\n",
            "|===============================+======================+======================|\n",
            "|   0  Tesla T4            Off  | 00000000:00:04.0 Off |                    0 |\n",
            "| N/A   65C    P0    28W /  70W |      0MiB / 15360MiB |      0%      Default |\n",
            "|                               |                      |                  N/A |\n",
            "+-------------------------------+----------------------+----------------------+\n",
            "                                                                               \n",
            "+-----------------------------------------------------------------------------+\n",
            "| Processes:                                                                  |\n",
            "|  GPU   GI   CI        PID   Type   Process name                  GPU Memory |\n",
            "|        ID   ID                                                   Usage      |\n",
            "|=============================================================================|\n",
            "|  No running processes found                                                 |\n",
            "+-----------------------------------------------------------------------------+\n"
          ]
        }
      ],
      "source": [
        "# GPU Info\n",
        "!nvidia-smi"
      ]
    },
    {
      "cell_type": "code",
      "execution_count": null,
      "metadata": {
        "colab": {
          "base_uri": "https://localhost:8080/"
        },
        "id": "y04nM3PGuQfc",
        "outputId": "55bfba8c-cba5-496d-ce2d-f31691ef29b1"
      },
      "outputs": [
        {
          "name": "stdout",
          "output_type": "stream",
          "text": [
            "1.13.1+cu116\n"
          ]
        }
      ],
      "source": [
        "# Basics Imports\n",
        "import torch\n",
        "import pandas as pd\n",
        "import numpy as np\n",
        "import matplotlib.pyplot as plt\n",
        "print(torch.__version__)"
      ]
    },
    {
      "cell_type": "markdown",
      "metadata": {
        "id": "BaVcsjEDvoCu"
      },
      "source": [
        "## **Tensors**"
      ]
    },
    {
      "cell_type": "markdown",
      "metadata": {
        "id": "nJhMIkwVvtVL"
      },
      "source": [
        "### Creating tensor"
      ]
    },
    {
      "cell_type": "code",
      "execution_count": null,
      "metadata": {
        "colab": {
          "base_uri": "https://localhost:8080/"
        },
        "id": "7SnvcY9pvKm3",
        "outputId": "fbbbce97-ea41-4553-98f7-872911565de4"
      },
      "outputs": [
        {
          "data": {
            "text/plain": [
              "tensor(7)"
            ]
          },
          "execution_count": 3,
          "metadata": {},
          "output_type": "execute_result"
        }
      ],
      "source": [
        "# Scalar\n",
        "scalar = torch.tensor(7)\n",
        "scalar"
      ]
    },
    {
      "cell_type": "code",
      "execution_count": null,
      "metadata": {
        "colab": {
          "base_uri": "https://localhost:8080/"
        },
        "id": "X1T0d-DAwJco",
        "outputId": "18833059-ee62-4fab-9d10-90ae6089b39a"
      },
      "outputs": [
        {
          "data": {
            "text/plain": [
              "0"
            ]
          },
          "execution_count": 4,
          "metadata": {},
          "output_type": "execute_result"
        }
      ],
      "source": [
        "\n",
        "scalar.ndim"
      ]
    },
    {
      "cell_type": "code",
      "execution_count": null,
      "metadata": {
        "colab": {
          "base_uri": "https://localhost:8080/"
        },
        "id": "umipmM40wbLc",
        "outputId": "56e31f90-6641-4a83-b14a-22e533e4c8a1"
      },
      "outputs": [
        {
          "data": {
            "text/plain": [
              "7"
            ]
          },
          "execution_count": 5,
          "metadata": {},
          "output_type": "execute_result"
        }
      ],
      "source": [
        "# Get tensor back as python int\n",
        "scalar.item()"
      ]
    },
    {
      "cell_type": "code",
      "execution_count": null,
      "metadata": {
        "colab": {
          "base_uri": "https://localhost:8080/"
        },
        "id": "eEFhR6cjwiPU",
        "outputId": "8f39f9af-9395-42f6-cc32-fe3cc8875ef7"
      },
      "outputs": [
        {
          "data": {
            "text/plain": [
              "tensor([4, 4])"
            ]
          },
          "execution_count": 6,
          "metadata": {},
          "output_type": "execute_result"
        }
      ],
      "source": [
        "# Vector\n",
        "vector = torch.tensor([4,4])\n",
        "vector"
      ]
    },
    {
      "cell_type": "code",
      "execution_count": null,
      "metadata": {
        "colab": {
          "base_uri": "https://localhost:8080/"
        },
        "id": "hDyWvLVww6Of",
        "outputId": "a450c6bc-6d44-41db-ea1f-8634b8626001"
      },
      "outputs": [
        {
          "data": {
            "text/plain": [
              "1"
            ]
          },
          "execution_count": 7,
          "metadata": {},
          "output_type": "execute_result"
        }
      ],
      "source": [
        "vector.ndim"
      ]
    },
    {
      "cell_type": "code",
      "execution_count": null,
      "metadata": {
        "colab": {
          "base_uri": "https://localhost:8080/"
        },
        "id": "bP8tsbCgw_10",
        "outputId": "3bb154aa-36a6-4497-cad0-104b4e92d2d9"
      },
      "outputs": [
        {
          "data": {
            "text/plain": [
              "torch.Size([2])"
            ]
          },
          "execution_count": 8,
          "metadata": {},
          "output_type": "execute_result"
        }
      ],
      "source": [
        "vector.shape"
      ]
    },
    {
      "cell_type": "code",
      "execution_count": null,
      "metadata": {
        "colab": {
          "base_uri": "https://localhost:8080/"
        },
        "id": "imuZYwcSxB9J",
        "outputId": "bc4a5f0e-f29e-48b5-b751-bdffed111410"
      },
      "outputs": [
        {
          "data": {
            "text/plain": [
              "tensor([[4, 5],\n",
              "        [6, 9]])"
            ]
          },
          "execution_count": 9,
          "metadata": {},
          "output_type": "execute_result"
        }
      ],
      "source": [
        "# Matrix\n",
        "matrix = torch.tensor([[4,5],\n",
        "                      [6,9]])\n",
        "matrix"
      ]
    },
    {
      "cell_type": "code",
      "execution_count": null,
      "metadata": {
        "colab": {
          "base_uri": "https://localhost:8080/"
        },
        "id": "xVffIjBExZtZ",
        "outputId": "48d48992-c760-4a14-9deb-bdde997c036f"
      },
      "outputs": [
        {
          "data": {
            "text/plain": [
              "2"
            ]
          },
          "execution_count": 10,
          "metadata": {},
          "output_type": "execute_result"
        }
      ],
      "source": [
        "matrix.ndim"
      ]
    },
    {
      "cell_type": "code",
      "execution_count": null,
      "metadata": {
        "colab": {
          "base_uri": "https://localhost:8080/"
        },
        "id": "dHRkDb8zxjDS",
        "outputId": "e367f48e-ed80-4e34-f088-cb785261e793"
      },
      "outputs": [
        {
          "data": {
            "text/plain": [
              "torch.Size([2, 2])"
            ]
          },
          "execution_count": 11,
          "metadata": {},
          "output_type": "execute_result"
        }
      ],
      "source": [
        "matrix.shape"
      ]
    },
    {
      "cell_type": "code",
      "execution_count": null,
      "metadata": {
        "colab": {
          "base_uri": "https://localhost:8080/"
        },
        "id": "sVQpMKycxqmj",
        "outputId": "44b05d3b-0d20-40dc-bee5-f3bb820e554c"
      },
      "outputs": [
        {
          "data": {
            "text/plain": [
              "tensor([[[ 1,  2,  3],\n",
              "         [ 5,  6,  7],\n",
              "         [ 8,  9, 10]]])"
            ]
          },
          "execution_count": 12,
          "metadata": {},
          "output_type": "execute_result"
        }
      ],
      "source": [
        "# Tensor \n",
        "tensor = torch.tensor([[[1,2,3],\n",
        "                        [5,6,7],\n",
        "                        [8,9,10]]])\n",
        "tensor"
      ]
    },
    {
      "cell_type": "code",
      "execution_count": null,
      "metadata": {
        "colab": {
          "base_uri": "https://localhost:8080/"
        },
        "id": "g9TyNfYbyDkP",
        "outputId": "4da4c3c0-e689-42df-d6c8-9b71ce020cfc"
      },
      "outputs": [
        {
          "name": "stdout",
          "output_type": "stream",
          "text": [
            "Dimentions of matrix 3\n",
            "Shape of matrix torch.Size([1, 3, 3])\n"
          ]
        }
      ],
      "source": [
        "print(f\"Dimentions of matrix {tensor.ndim}\")\n",
        "print(f\"Shape of matrix {tensor.shape}\")"
      ]
    },
    {
      "cell_type": "markdown",
      "metadata": {
        "id": "kCrEyTfY0vCA"
      },
      "source": [
        "### Random tensors"
      ]
    },
    {
      "cell_type": "code",
      "execution_count": null,
      "metadata": {
        "colab": {
          "base_uri": "https://localhost:8080/"
        },
        "id": "3GdfM6jj0zzR",
        "outputId": "ac7fff26-1ef2-4269-d1ff-f0d050131f5c"
      },
      "outputs": [
        {
          "data": {
            "text/plain": [
              "tensor([[0.5052, 0.6817, 0.3348, 0.8355],\n",
              "        [0.0221, 0.4050, 0.8797, 0.5018],\n",
              "        [0.7874, 0.8303, 0.8848, 0.8839]])"
            ]
          },
          "execution_count": 14,
          "metadata": {},
          "output_type": "execute_result"
        }
      ],
      "source": [
        "# Create a random tensor of size and shape\n",
        "random_tensor = torch.rand(3,4)\n",
        "random_tensor"
      ]
    },
    {
      "cell_type": "code",
      "execution_count": null,
      "metadata": {
        "colab": {
          "base_uri": "https://localhost:8080/"
        },
        "id": "M9yPihEn106R",
        "outputId": "947e9d6a-e62d-485d-ba42-ad2c3c246ece"
      },
      "outputs": [
        {
          "data": {
            "text/plain": [
              "torch.Size([3, 4])"
            ]
          },
          "execution_count": 15,
          "metadata": {},
          "output_type": "execute_result"
        }
      ],
      "source": [
        "random_tensor.size()"
      ]
    },
    {
      "cell_type": "code",
      "execution_count": null,
      "metadata": {
        "colab": {
          "base_uri": "https://localhost:8080/"
        },
        "id": "BcoBTPmO16rR",
        "outputId": "7a9c746f-565a-4925-8f9b-8758d2acfb37"
      },
      "outputs": [
        {
          "name": "stdout",
          "output_type": "stream",
          "text": [
            "Dimentions of matrix 3\n",
            "Shape of matrix torch.Size([224, 224, 3])\n"
          ]
        }
      ],
      "source": [
        "# Create a random tensor with similar shape to an image tensor\n",
        "random_image_size_tensor = torch.rand(size=(224, 224, 3))#height, weight, colour chaneles\n",
        "print(f\"Dimentions of matrix {random_image_size_tensor.ndim}\")\n",
        "print(f\"Shape of matrix {random_image_size_tensor.shape}\")"
      ]
    },
    {
      "cell_type": "markdown",
      "metadata": {
        "id": "eAqFaSWX3a11"
      },
      "source": [
        "### Zeros and ones"
      ]
    },
    {
      "cell_type": "code",
      "execution_count": null,
      "metadata": {
        "colab": {
          "base_uri": "https://localhost:8080/"
        },
        "id": "e55TGGEj3dmd",
        "outputId": "caafec3e-2be8-4462-bce3-be3d44e4878c"
      },
      "outputs": [
        {
          "data": {
            "text/plain": [
              "tensor([[0., 0., 0., 0.],\n",
              "        [0., 0., 0., 0.],\n",
              "        [0., 0., 0., 0.]])"
            ]
          },
          "execution_count": 17,
          "metadata": {},
          "output_type": "execute_result"
        }
      ],
      "source": [
        "# Create zeroes tensor\n",
        "zeros = torch.zeros(3,4)\n",
        "zeros"
      ]
    },
    {
      "cell_type": "code",
      "execution_count": null,
      "metadata": {
        "colab": {
          "base_uri": "https://localhost:8080/"
        },
        "id": "mSGgCPuD3own",
        "outputId": "9f156321-277a-4907-d892-29bb2c1cd838"
      },
      "outputs": [
        {
          "data": {
            "text/plain": [
              "tensor([[1., 1., 1., 1., 1.],\n",
              "        [1., 1., 1., 1., 1.],\n",
              "        [1., 1., 1., 1., 1.],\n",
              "        [1., 1., 1., 1., 1.]])"
            ]
          },
          "execution_count": 18,
          "metadata": {},
          "output_type": "execute_result"
        }
      ],
      "source": [
        "# Create tensor of ones\n",
        "ones = torch.ones(4,5)\n",
        "ones"
      ]
    },
    {
      "cell_type": "markdown",
      "metadata": {
        "id": "MVk7Hons4YuX"
      },
      "source": [
        "### Creating a range of tensor and tensor-like"
      ]
    },
    {
      "cell_type": "code",
      "execution_count": null,
      "metadata": {
        "colab": {
          "base_uri": "https://localhost:8080/"
        },
        "id": "unx2BZbL33r8",
        "outputId": "b20ee478-fff7-43bb-a42e-ed0dc8fec511"
      },
      "outputs": [
        {
          "data": {
            "text/plain": [
              "tensor([  0,   5,  10,  15,  20,  25,  30,  35,  40,  45,  50,  55,  60,  65,\n",
              "         70,  75,  80,  85,  90,  95, 100])"
            ]
          },
          "execution_count": 19,
          "metadata": {},
          "output_type": "execute_result"
        }
      ],
      "source": [
        "# Use torch.range()\\arange()\n",
        "torch.arange(0,101, 5) # torch.arange(start, end, step)"
      ]
    },
    {
      "cell_type": "code",
      "execution_count": null,
      "metadata": {
        "colab": {
          "base_uri": "https://localhost:8080/"
        },
        "id": "_BeaB7H_4Qar",
        "outputId": "4fbf16fa-07e2-493b-f0c9-6173f78fca47"
      },
      "outputs": [
        {
          "data": {
            "text/plain": [
              "tensor([0, 0, 0, 0, 0, 0, 0, 0, 0, 0, 0, 0, 0, 0, 0, 0, 0, 0, 0, 0, 0])"
            ]
          },
          "execution_count": 20,
          "metadata": {},
          "output_type": "execute_result"
        }
      ],
      "source": [
        "# Creating tensor like\n",
        "zeros_tensor_like = torch.zeros_like(input=torch.arange(0,101, 5))\n",
        "zeros_tensor_like"
      ]
    },
    {
      "cell_type": "markdown",
      "metadata": {
        "id": "TAaRZFgU55Uz"
      },
      "source": [
        "### Tensor datatypes\n",
        "**Note:** Tensor datatype is one of the three big errors with pytorch and deeplearning\n",
        "1. Tensors not right datatype  `tensor.dtype`\n",
        "2. Tensors not right shape `tensor.shape`\n",
        "3. tensors not on the right device   `tensor.device`"
      ]
    },
    {
      "cell_type": "code",
      "execution_count": null,
      "metadata": {
        "colab": {
          "base_uri": "https://localhost:8080/"
        },
        "id": "GRYQD5Kf59JC",
        "outputId": "c478154b-c807-4c0e-d312-96124b4b0dc3"
      },
      "outputs": [
        {
          "data": {
            "text/plain": [
              "tensor([3., 5., 9.])"
            ]
          },
          "execution_count": 21,
          "metadata": {},
          "output_type": "execute_result"
        }
      ],
      "source": [
        "# Float 32 tensor\n",
        "float_32_tensor = torch.tensor([3.0, 5.0, 9.0],\n",
        "                               dtype=None, # What dtype is the tensor\n",
        "                               device=None, # What device is tensor on it\n",
        "                               requires_grad=False # if you want pytorch track your gradient or not\n",
        "                               )\n",
        "float_32_tensor"
      ]
    },
    {
      "cell_type": "code",
      "execution_count": null,
      "metadata": {
        "colab": {
          "base_uri": "https://localhost:8080/"
        },
        "id": "oSxoH8Us78Dn",
        "outputId": "eb257147-72cb-4e19-9c94-87c7e96ccd5e"
      },
      "outputs": [
        {
          "data": {
            "text/plain": [
              "tensor([ 9., 25., 81.], dtype=torch.float64)"
            ]
          },
          "execution_count": 22,
          "metadata": {},
          "output_type": "execute_result"
        }
      ],
      "source": [
        "float_64_tensor = float_32_tensor.type(torch.double) * float_32_tensor.type(torch.double)\n",
        "float_64_tensor"
      ]
    },
    {
      "cell_type": "markdown",
      "metadata": {
        "id": "2xQ31mEoLRKf"
      },
      "source": [
        "### Manipulating tensors (tensor opratins)\n",
        "\n",
        "Tensor oprations :\n",
        "  * Addition\n",
        "  * Subtraction\n",
        "  * Multiplication\n",
        "  * Division\n",
        "  * Matrix multiplicatin"
      ]
    },
    {
      "cell_type": "code",
      "execution_count": null,
      "metadata": {
        "colab": {
          "base_uri": "https://localhost:8080/"
        },
        "id": "PX0BdC1oLT4U",
        "outputId": "89daa062-827a-4da6-e0c8-38d6f29e88f5"
      },
      "outputs": [
        {
          "data": {
            "text/plain": [
              "tensor([11, 12, 13])"
            ]
          },
          "execution_count": 23,
          "metadata": {},
          "output_type": "execute_result"
        }
      ],
      "source": [
        "# Create a tensor\n",
        "tensor = torch.tensor([1,2,3])\n",
        "tensor + 10"
      ]
    },
    {
      "cell_type": "code",
      "execution_count": null,
      "metadata": {
        "colab": {
          "base_uri": "https://localhost:8080/"
        },
        "id": "BJVNHparMSmA",
        "outputId": "3af60088-e666-4d72-9d31-7a7a9c2f4990"
      },
      "outputs": [
        {
          "data": {
            "text/plain": [
              "tensor([[10.0003, 10.9135, 10.8343],\n",
              "        [10.7676, 10.5092, 10.9123],\n",
              "        [10.9600, 10.6517, 10.7064],\n",
              "        [10.5990, 10.7130, 10.2221]])"
            ]
          },
          "execution_count": 24,
          "metadata": {},
          "output_type": "execute_result"
        }
      ],
      "source": [
        "# Check with rand\n",
        "tensor = torch.rand(4, 3)\n",
        "tensor = tensor + 10\n",
        "tensor"
      ]
    },
    {
      "cell_type": "code",
      "execution_count": null,
      "metadata": {
        "colab": {
          "base_uri": "https://localhost:8080/"
        },
        "id": "cwiORGMhMbZa",
        "outputId": "787d8972-3087-4c3f-b2d4-45589d44951a"
      },
      "outputs": [
        {
          "data": {
            "text/plain": [
              "tensor([[1000.0334, 1091.3505, 1083.4340],\n",
              "        [1076.7556, 1050.9158, 1091.2295],\n",
              "        [1095.9962, 1065.1707, 1070.6442],\n",
              "        [1059.9030, 1071.2996, 1022.2063]])"
            ]
          },
          "execution_count": 25,
          "metadata": {},
          "output_type": "execute_result"
        }
      ],
      "source": [
        "# Multiplying tensor\n",
        "tensor = tensor * 100\n",
        "tensor"
      ]
    },
    {
      "cell_type": "code",
      "execution_count": null,
      "metadata": {
        "colab": {
          "base_uri": "https://localhost:8080/"
        },
        "id": "RouGlopyMsk5",
        "outputId": "eb7d4b76-9d3f-4966-86a7-67c7bb64b70a"
      },
      "outputs": [
        {
          "data": {
            "text/plain": [
              "tensor([[ 990.0334, 1081.3505, 1073.4340],\n",
              "        [1066.7556, 1040.9158, 1081.2295],\n",
              "        [1085.9962, 1055.1707, 1060.6442],\n",
              "        [1049.9030, 1061.2996, 1012.2063]])"
            ]
          },
          "execution_count": 26,
          "metadata": {},
          "output_type": "execute_result"
        }
      ],
      "source": [
        "# Subtraction\n",
        "tensor = tensor - 10\n",
        "tensor"
      ]
    },
    {
      "cell_type": "code",
      "execution_count": null,
      "metadata": {
        "colab": {
          "base_uri": "https://localhost:8080/"
        },
        "id": "wwbRKlfxNAMz",
        "outputId": "9666448d-d104-416d-be96-a380a3615552"
      },
      "outputs": [
        {
          "data": {
            "text/plain": [
              "tensor([[ 9900.3340, 10813.5049, 10734.3398],\n",
              "        [10667.5566, 10409.1582, 10812.2949],\n",
              "        [10859.9619, 10551.7070, 10606.4414],\n",
              "        [10499.0293, 10612.9961, 10122.0625]])"
            ]
          },
          "execution_count": 27,
          "metadata": {},
          "output_type": "execute_result"
        }
      ],
      "source": [
        "# Try with pytorch built-in functions\n",
        "tensor = torch.mul(tensor, 10)\n",
        "tensor"
      ]
    },
    {
      "cell_type": "markdown",
      "metadata": {
        "id": "J3OeDQhHNiHx"
      },
      "source": [
        "***Note***\n",
        "\n",
        "Learn more about built-in functions"
      ]
    },
    {
      "cell_type": "markdown",
      "metadata": {
        "id": "b5XLEiGINznI"
      },
      "source": [
        "### Matrix multiplying\n",
        "* Two main ways to do this in deeplearning\n",
        "  * Element-wise multiplication\n",
        "  * Matrix multiplication (Dot product)\n",
        "These are two main rules that performing mtrix multiplication needs to satisfy:\n",
        "  * the **iner dimensions** must match:\n",
        "    * `(3, 2) @ (3, 2)` wont work\n",
        "    * `(2, 3) @ (3, 2)` will work\n",
        "    * `(3, 2) @ (2, 3)` will work\n",
        "  * The resulting matrix has the shape of the **outer dimension**\n",
        "    * `(2, 3) @ (3, 2)` -> `(2, 2)`\n",
        "    * `(3, 2) @ (2, 3)` -> `(3, 3)`"
      ]
    },
    {
      "cell_type": "code",
      "execution_count": null,
      "metadata": {
        "colab": {
          "base_uri": "https://localhost:8080/"
        },
        "id": "8gaW11JaVyPm",
        "outputId": "3db444e3-459e-413c-b5d4-91fbb33b2a05"
      },
      "outputs": [
        {
          "data": {
            "text/plain": [
              "tensor([[0.4826, 0.6886, 0.2855],\n",
              "        [0.4156, 0.3777, 0.2151],\n",
              "        [0.3436, 0.9838, 0.2738]])"
            ]
          },
          "execution_count": 28,
          "metadata": {},
          "output_type": "execute_result"
        }
      ],
      "source": [
        "# torch.matmul(torch.rand(3, 2), torch.rand(3, 2))\n",
        "torch.matmul(torch.rand(3, 2), torch.rand(2, 3))"
      ]
    },
    {
      "cell_type": "code",
      "execution_count": null,
      "metadata": {
        "colab": {
          "base_uri": "https://localhost:8080/"
        },
        "id": "jU0Z9Mz3N42e",
        "outputId": "65701ba9-7545-4b29-9c59-e8cd4432f5a5"
      },
      "outputs": [
        {
          "name": "stdout",
          "output_type": "stream",
          "text": [
            "{tensor([100, 400, 900])}\n",
            "{tensor([100, 200, 300])}\n"
          ]
        }
      ],
      "source": [
        "# Element-wise \n",
        "tensor = torch.tensor([10, 20, 30])\n",
        "print({tensor * tensor})\n",
        "print({tensor * 10})"
      ]
    },
    {
      "cell_type": "code",
      "execution_count": null,
      "metadata": {
        "colab": {
          "base_uri": "https://localhost:8080/"
        },
        "id": "bVwJfoi8O_Lr",
        "outputId": "df7df430-e0a8-4bad-b910-fcaa9c3bbab8"
      },
      "outputs": [
        {
          "name": "stdout",
          "output_type": "stream",
          "text": [
            "CPU times: user 634 µs, sys: 1.16 ms, total: 1.8 ms\n",
            "Wall time: 4.15 ms\n"
          ]
        },
        {
          "data": {
            "text/plain": [
              "tensor(1400)"
            ]
          },
          "execution_count": 30,
          "metadata": {},
          "output_type": "execute_result"
        }
      ],
      "source": [
        "# Matrix Multiplying\n",
        "%%time\n",
        "torch.matmul(tensor, tensor)"
      ]
    },
    {
      "cell_type": "code",
      "execution_count": null,
      "metadata": {
        "colab": {
          "base_uri": "https://localhost:8080/"
        },
        "id": "lTz11iGXPv-y",
        "outputId": "2e467c73-8fef-4b46-f89e-86a89d3f8f2b"
      },
      "outputs": [
        {
          "data": {
            "text/plain": [
              "1400"
            ]
          },
          "execution_count": 31,
          "metadata": {},
          "output_type": "execute_result"
        }
      ],
      "source": [
        "# Code what happen by hand\n",
        "10*10 + 20*20 + 30*30"
      ]
    },
    {
      "cell_type": "code",
      "execution_count": null,
      "metadata": {
        "colab": {
          "base_uri": "https://localhost:8080/"
        },
        "id": "5A8ueK3JQPcv",
        "outputId": "8d451d9c-bd08-4aab-f057-0cb91bca6802"
      },
      "outputs": [
        {
          "name": "stdout",
          "output_type": "stream",
          "text": [
            "CPU times: user 1.55 ms, sys: 1.14 ms, total: 2.7 ms\n",
            "Wall time: 2.3 ms\n"
          ]
        },
        {
          "data": {
            "text/plain": [
              "tensor(1400)"
            ]
          },
          "execution_count": 32,
          "metadata": {},
          "output_type": "execute_result"
        }
      ],
      "source": [
        "# With for loop\n",
        "%%time\n",
        "value = 0\n",
        "for i in range(len(tensor)):\n",
        "  value += tensor[i] * tensor[i]\n",
        "value"
      ]
    },
    {
      "cell_type": "markdown",
      "metadata": {
        "id": "i0meYleaRyYH"
      },
      "source": [
        "### One of the the most common errors in deeplearning: **Shape error**"
      ]
    },
    {
      "cell_type": "markdown",
      "metadata": {
        "id": "7MzwQY3Do0aN"
      },
      "source": [
        "# Shapes for matrix multiplication\n",
        "tensor_A = torch.tensor([[1, 2],\n",
        "                         [3, 4],\n",
        "                         [5, 6]])\n",
        "tensor_B = torch.tensor([[7, 10],\n",
        "                         [8, 11],\n",
        "                         [9, 12]])\n",
        "torch.mm(tensor_A, tensor_B) # `torch.matmul()` == `torch.mm()`"
      ]
    },
    {
      "cell_type": "code",
      "execution_count": null,
      "metadata": {
        "id": "Ytu2gHKlZ5uQ"
      },
      "outputs": [],
      "source": [
        "# tensor_A.shape, tensor_B.shape"
      ]
    },
    {
      "cell_type": "markdown",
      "metadata": {
        "id": "dKjl2W5daoOw"
      },
      "source": [
        "To fix our tensor sahpe issue we can minipulate one of our tensor using a **transpose**\n",
        "\n",
        "A **transpose** switches the axes or Dimentions of a given tensor "
      ]
    },
    {
      "cell_type": "code",
      "execution_count": null,
      "metadata": {
        "colab": {
          "base_uri": "https://localhost:8080/",
          "height": 165
        },
        "id": "cAKmcccdaphR",
        "outputId": "ef7a1638-1ec7-4a8c-985c-7b193d56a499"
      },
      "outputs": [
        {
          "ename": "NameError",
          "evalue": "ignored",
          "output_type": "error",
          "traceback": [
            "\u001b[0;31m---------------------------------------------------------------------------\u001b[0m",
            "\u001b[0;31mNameError\u001b[0m                                 Traceback (most recent call last)",
            "\u001b[0;32m<ipython-input-35-1d4e48cd994b>\u001b[0m in \u001b[0;36m<module>\u001b[0;34m\u001b[0m\n\u001b[0;32m----> 1\u001b[0;31m \u001b[0mtensor_B\u001b[0m\u001b[0;34m.\u001b[0m\u001b[0mT\u001b[0m\u001b[0;34m,\u001b[0m \u001b[0mtensor_B\u001b[0m\u001b[0;34m.\u001b[0m\u001b[0mT\u001b[0m\u001b[0;34m.\u001b[0m\u001b[0mshape\u001b[0m\u001b[0;34m\u001b[0m\u001b[0;34m\u001b[0m\u001b[0m\n\u001b[0m",
            "\u001b[0;31mNameError\u001b[0m: name 'tensor_B' is not defined"
          ]
        }
      ],
      "source": [
        "# tensor_B.T, tensor_B.T.shape"
      ]
    },
    {
      "cell_type": "code",
      "execution_count": null,
      "metadata": {
        "colab": {
          "base_uri": "https://localhost:8080/",
          "height": 165
        },
        "id": "-tVxDe6mauiS",
        "outputId": "a0211bc1-1c5e-41cb-fa5a-bffd91deb888"
      },
      "outputs": [
        {
          "ename": "NameError",
          "evalue": "ignored",
          "output_type": "error",
          "traceback": [
            "\u001b[0;31m---------------------------------------------------------------------------\u001b[0m",
            "\u001b[0;31mNameError\u001b[0m                                 Traceback (most recent call last)",
            "\u001b[0;32m<ipython-input-36-0869d6b352a6>\u001b[0m in \u001b[0;36m<module>\u001b[0;34m\u001b[0m\n\u001b[0;32m----> 1\u001b[0;31m \u001b[0mtorch\u001b[0m\u001b[0;34m.\u001b[0m\u001b[0mmm\u001b[0m\u001b[0;34m(\u001b[0m\u001b[0mtensor_A\u001b[0m\u001b[0;34m,\u001b[0m \u001b[0mtensor_B\u001b[0m\u001b[0;34m.\u001b[0m\u001b[0mT\u001b[0m\u001b[0;34m)\u001b[0m\u001b[0;34m.\u001b[0m\u001b[0mshape\u001b[0m\u001b[0;34m\u001b[0m\u001b[0;34m\u001b[0m\u001b[0m\n\u001b[0m",
            "\u001b[0;31mNameError\u001b[0m: name 'tensor_A' is not defined"
          ]
        }
      ],
      "source": [
        " # torch.mm(tensor_A, tensor_B.T).shape"
      ]
    },
    {
      "cell_type": "markdown",
      "metadata": {
        "id": "GhxTQGCydRiU"
      },
      "source": [
        "### Finding the min, max, mean, sum, etc (tensor aggregation)"
      ]
    },
    {
      "cell_type": "code",
      "execution_count": null,
      "metadata": {
        "colab": {
          "base_uri": "https://localhost:8080/"
        },
        "id": "eSdBIHMwdbZa",
        "outputId": "68330016-ad12-4dea-8fea-f383effe6fb9"
      },
      "outputs": [
        {
          "data": {
            "text/plain": [
              "tensor([ 0, 10, 20, 30, 40, 50, 60, 70, 80, 90])"
            ]
          },
          "execution_count": 37,
          "metadata": {},
          "output_type": "execute_result"
        }
      ],
      "source": [
        "# Create a tensor\n",
        "x = torch.arange(0, 100, 10)\n",
        "x\n"
      ]
    },
    {
      "cell_type": "code",
      "execution_count": null,
      "metadata": {
        "colab": {
          "base_uri": "https://localhost:8080/"
        },
        "id": "I--sHiW7drnT",
        "outputId": "90cdd728-ef8a-4cd3-9fc6-d82a2080bf28"
      },
      "outputs": [
        {
          "data": {
            "text/plain": [
              "(tensor(0), tensor(0))"
            ]
          },
          "execution_count": 38,
          "metadata": {},
          "output_type": "execute_result"
        }
      ],
      "source": [
        "# Find the min\n",
        "torch.min(x), x.min()"
      ]
    },
    {
      "cell_type": "code",
      "execution_count": null,
      "metadata": {
        "id": "R3vS75vKdxq-"
      },
      "outputs": [],
      "source": [
        "# Find mean\n",
        "torch.mean(x.type(torch.float32)), x.type(torch.float32).mean()\n",
        " #Input dtype must be either a floating point or complex dtype. Got: Long"
      ]
    },
    {
      "cell_type": "code",
      "execution_count": null,
      "metadata": {
        "colab": {
          "base_uri": "https://localhost:8080/"
        },
        "id": "KgaYeEMHd9Gl",
        "outputId": "2a3573d1-3566-4d62-df27-3afb2fd1f3a8"
      },
      "outputs": [
        {
          "data": {
            "text/plain": [
              "(tensor(450), tensor(450))"
            ]
          },
          "execution_count": 39,
          "metadata": {},
          "output_type": "execute_result"
        }
      ],
      "source": [
        "  # Find the sum\n",
        "  torch.sum(x), x.sum()"
      ]
    },
    {
      "cell_type": "markdown",
      "metadata": {
        "id": "oauiQdA_oSTI"
      },
      "source": [
        "### Finding the posotional MIN & MAX"
      ]
    },
    {
      "cell_type": "code",
      "execution_count": null,
      "metadata": {
        "colab": {
          "base_uri": "https://localhost:8080/"
        },
        "id": "h9VavZLEoa9y",
        "outputId": "c76157aa-b380-4ebb-9553-e64739bab2f9"
      },
      "outputs": [
        {
          "data": {
            "text/plain": [
              "tensor([ 0, 10, 20, 30, 40, 50, 60, 70, 80, 90])"
            ]
          },
          "execution_count": 40,
          "metadata": {},
          "output_type": "execute_result"
        }
      ],
      "source": [
        "x"
      ]
    },
    {
      "cell_type": "code",
      "execution_count": null,
      "metadata": {
        "colab": {
          "base_uri": "https://localhost:8080/"
        },
        "id": "dkY3vlfZof5k",
        "outputId": "e4f19ce3-94c2-4c9c-c630-450029988146"
      },
      "outputs": [
        {
          "data": {
            "text/plain": [
              "tensor(0)"
            ]
          },
          "execution_count": 41,
          "metadata": {},
          "output_type": "execute_result"
        }
      ],
      "source": [
        "x[0]"
      ]
    },
    {
      "cell_type": "code",
      "execution_count": null,
      "metadata": {
        "colab": {
          "base_uri": "https://localhost:8080/"
        },
        "id": "Z0rSG9nko7-2",
        "outputId": "8d797734-6d45-4a03-ef0f-713a6f4e1c4b"
      },
      "outputs": [
        {
          "data": {
            "text/plain": [
              "tensor(9)"
            ]
          },
          "execution_count": 42,
          "metadata": {},
          "output_type": "execute_result"
        }
      ],
      "source": [
        "# Finding the position of min and max with argmin() and argmax()\n",
        "x.argmax()"
      ]
    },
    {
      "cell_type": "markdown",
      "metadata": {
        "id": "VoNzadTgpoRE"
      },
      "source": [
        "### Reshaping, stacking, squeezing and unsequeezing tensors\n",
        "* Reshaping - reshape an iput tensor to a defined shape\n",
        "* View - Return a view of an input tensor of certian shape but keep the same memory as the original tensor\n",
        "* Stacking - combine multiple tensors on top of each other (vStack)\n",
        "** Note: ** there is also 'hStack' \n",
        "* Squuezing - remove all '1' dimensions from a tensor\n",
        "* Unsqueezing - add a '1' dimension to a target tensor\n",
        "* Permute - return a view of the input with dimensions permuted  (swapped) in a certain way"
      ]
    },
    {
      "cell_type": "code",
      "execution_count": null,
      "metadata": {
        "colab": {
          "base_uri": "https://localhost:8080/"
        },
        "id": "81zAJDw7rGj9",
        "outputId": "97e2b889-17e7-40a2-8e30-77c96e5a75ae"
      },
      "outputs": [
        {
          "data": {
            "text/plain": [
              "(torch.Size([10]), tensor([ 1,  2,  3,  4,  5,  6,  7,  8,  9, 10]))"
            ]
          },
          "execution_count": 43,
          "metadata": {},
          "output_type": "execute_result"
        }
      ],
      "source": [
        "# Create a tensor\n",
        "tensor = torch.arange(1, 11)\n",
        "tensor.shape , tensor"
      ]
    },
    {
      "cell_type": "code",
      "execution_count": null,
      "metadata": {
        "colab": {
          "base_uri": "https://localhost:8080/"
        },
        "id": "SorFXEkErWSJ",
        "outputId": "3cc28519-e98f-48f6-82e0-c8a6487f0c0a"
      },
      "outputs": [
        {
          "data": {
            "text/plain": [
              "(tensor([[ 1,  2,  3,  4,  5,  6,  7,  8,  9, 10]]),\n",
              " torch.Size([1, 10]),\n",
              " tensor([[ 1,  2],\n",
              "         [ 3,  4],\n",
              "         [ 5,  6],\n",
              "         [ 7,  8],\n",
              "         [ 9, 10]]))"
            ]
          },
          "execution_count": 44,
          "metadata": {},
          "output_type": "execute_result"
        }
      ],
      "source": [
        "# Add an extra dimension\n",
        "tensor_reshaped = tensor.reshape(1, 10)\n",
        "tensor_reshaped_H = tensor.reshape(5, 2)\n",
        "tensor_reshaped, tensor_reshaped.shape, tensor_reshaped_H\n",
        "# shape '[1, 7]' is invalid for input of size 10"
      ]
    },
    {
      "cell_type": "markdown",
      "metadata": {
        "id": "y1vc5141sj00"
      },
      "source": [
        "*** Note: ***\n",
        "when we have 10 elements we can reshape the tensor with every combination of multiplying number which are equal to 10.\n",
        "like (1, 10), (2, 5), (5, 2), (10, 1)"
      ]
    },
    {
      "cell_type": "code",
      "execution_count": null,
      "metadata": {
        "id": "zIlGtbcOrk2E"
      },
      "outputs": [],
      "source": [
        "# Change the view \n",
        "tensor_changed_view = tensor.view(1, 10)\n",
        "tensor_changed_view"
      ]
    },
    {
      "cell_type": "code",
      "execution_count": null,
      "metadata": {
        "colab": {
          "base_uri": "https://localhost:8080/"
        },
        "id": "Z6MonfWLt7YJ",
        "outputId": "e0decd8c-a3e2-4891-efec-73b6ac29ad32"
      },
      "outputs": [
        {
          "data": {
            "text/plain": [
              "(tensor([[ 1, 85,  3,  4,  5,  6,  7,  8,  9, 10]]),\n",
              " tensor([ 1, 85,  3,  4,  5,  6,  7,  8,  9, 10]))"
            ]
          },
          "execution_count": 46,
          "metadata": {},
          "output_type": "execute_result"
        }
      ],
      "source": [
        "# Changing tensor_changed_view changes ***tensor*** (becuase a view of the tensor shares the same memory as the original input)\n",
        "tensor_changed_view[:, 1] = 85\n",
        "tensor_changed_view, tensor"
      ]
    },
    {
      "cell_type": "code",
      "execution_count": null,
      "metadata": {
        "colab": {
          "base_uri": "https://localhost:8080/"
        },
        "id": "mDPGmwH5ufln",
        "outputId": "eb09ec5e-399a-4752-f357-ed54089448b0"
      },
      "outputs": [
        {
          "data": {
            "text/plain": [
              "(tensor([[ 0, 10, 20, 30, 40, 50, 60, 70, 80, 90],\n",
              "         [ 0, 10, 20, 30, 40, 50, 60, 70, 80, 90],\n",
              "         [ 0, 10, 20, 30, 40, 50, 60, 70, 80, 90],\n",
              "         [ 0, 10, 20, 30, 40, 50, 60, 70, 80, 90]]), tensor([[ 0,  0,  0,  0],\n",
              "         [10, 10, 10, 10],\n",
              "         [20, 20, 20, 20],\n",
              "         [30, 30, 30, 30],\n",
              "         [40, 40, 40, 40],\n",
              "         [50, 50, 50, 50],\n",
              "         [60, 60, 60, 60],\n",
              "         [70, 70, 70, 70],\n",
              "         [80, 80, 80, 80],\n",
              "         [90, 90, 90, 90]]))"
            ]
          },
          "execution_count": 47,
          "metadata": {},
          "output_type": "execute_result"
        }
      ],
      "source": [
        "# Stack funtion in torch\n",
        "tensor_stacked = torch.stack([x, x, x, x])\n",
        "tensor_stacked_with_dim = torch.stack([x, x, x, x], dim=1)\n",
        "tensor_stacked, tensor_stacked_with_dim"
      ]
    },
    {
      "cell_type": "code",
      "execution_count": null,
      "metadata": {
        "colab": {
          "base_uri": "https://localhost:8080/"
        },
        "id": "aizF4aaOvTjj",
        "outputId": "bbe644a4-5fc8-4674-9c9b-e45f8b23b8e0"
      },
      "outputs": [
        {
          "data": {
            "text/plain": [
              "tensor([[ 1, 85,  3,  4,  5,  6,  7,  8,  9, 10]])"
            ]
          },
          "execution_count": 48,
          "metadata": {},
          "output_type": "execute_result"
        }
      ],
      "source": [
        "  # torch.squeeze() -> removes a single dimension from a target tensor\n",
        "tensor_reshaped"
      ]
    },
    {
      "cell_type": "code",
      "execution_count": null,
      "metadata": {
        "id": "lpfelXqfn610"
      },
      "outputs": [],
      "source": []
    },
    {
      "cell_type": "code",
      "execution_count": null,
      "metadata": {
        "colab": {
          "base_uri": "https://localhost:8080/"
        },
        "id": "16NtV2jbAXOO",
        "outputId": "07ffd464-1355-4c51-8e81-11ccc7d2aab4"
      },
      "outputs": [
        {
          "data": {
            "text/plain": [
              "(tensor([ 1, 85,  3,  4,  5,  6,  7,  8,  9, 10]), torch.Size([10]))"
            ]
          },
          "execution_count": 49,
          "metadata": {},
          "output_type": "execute_result"
        }
      ],
      "source": [
        "tensor_squeezed = tensor_reshaped.squeeze()\n",
        "tensor_squeezed,tensor_squeezed.shape"
      ]
    },
    {
      "cell_type": "code",
      "execution_count": null,
      "metadata": {
        "colab": {
          "base_uri": "https://localhost:8080/"
        },
        "id": "7dYZ8QkoAndY",
        "outputId": "5e122bff-359b-4bcd-9369-f0c47e619025"
      },
      "outputs": [
        {
          "name": "stdout",
          "output_type": "stream",
          "text": [
            "tensor reshaped form = tensor([[ 1, 85,  3,  4,  5,  6,  7,  8,  9, 10]]) \n",
            " and the shape is torch.Size([1, 10])\n",
            "tensor reshaped squeezed = tensor([ 1, 85,  3,  4,  5,  6,  7,  8,  9, 10]) \n",
            " and the shape is torch.Size([10])\n"
          ]
        }
      ],
      "source": [
        "print(f\"tensor reshaped form = {tensor_reshaped} \\n and the shape is {tensor_reshaped.shape}\")\n",
        "print(f\"tensor reshaped squeezed = {tensor_squeezed} \\n and the shape is {tensor_squeezed.shape}\")"
      ]
    },
    {
      "cell_type": "code",
      "execution_count": null,
      "metadata": {
        "colab": {
          "base_uri": "https://localhost:8080/"
        },
        "id": "3YYMeSk3A1hf",
        "outputId": "d78d5afc-4890-4ef8-d1e5-e97b1336b1c8"
      },
      "outputs": [
        {
          "name": "stdout",
          "output_type": "stream",
          "text": [
            "tensor reshaped form = tensor([[ 1, 85,  3,  4,  5,  6,  7,  8,  9, 10]]) \n",
            " and the shape is torch.Size([1, 10])\n",
            "tensor reshaped squeezed = tensor([[[ 1, 85,  3,  4,  5,  6,  7,  8,  9, 10]]]) \n",
            " and the shape is torch.Size([1, 1, 10])\n",
            "tensor reshaped squeezed = tensor([[[ 1, 85,  3,  4,  5,  6,  7,  8,  9, 10]]]) \n",
            " and the shape is torch.Size([1, 1, 10])\n"
          ]
        }
      ],
      "source": [
        "# Example with Unsqueezed -> add a single dimension to target tensor\n",
        "tensor_reshaped_Unsqueezed_dim0 = tensor_reshaped.unsqueeze(dim=0)\n",
        "tensor_reshaped_Unsqueezed_dim1 = tensor_reshaped.unsqueeze(dim=1)\n",
        "print(f\"tensor reshaped form = {tensor_reshaped} \\n and the shape is {tensor_reshaped.shape}\")\n",
        "print(f\"tensor reshaped squeezed = {tensor_reshaped_Unsqueezed_dim0} \\n and the shape is {tensor_reshaped_Unsqueezed_dim0.shape}\")\n",
        "print(f\"tensor reshaped squeezed = {tensor_reshaped_Unsqueezed_dim1} \\n and the shape is {tensor_reshaped_Unsqueezed_dim1.shape}\")"
      ]
    },
    {
      "cell_type": "code",
      "execution_count": null,
      "metadata": {
        "colab": {
          "base_uri": "https://localhost:8080/"
        },
        "id": "10JUaqkaB2RH",
        "outputId": "348a0f00-9d14-45a5-e757-59ff89dcc71d"
      },
      "outputs": [
        {
          "name": "stdout",
          "output_type": "stream",
          "text": [
            "tensor new form =\n",
            " tensor([[0.0537, 0.1657, 0.0544, 0.5320],\n",
            "        [0.7455, 0.6281, 0.0371, 0.0325],\n",
            "        [0.5358, 0.9613, 0.3609, 0.7547]]) \n",
            " and the shape is torch.Size([3, 4])\n",
            "\n",
            "tensor new squeezed with dim=0 =\n",
            " tensor([[[0.0537, 0.1657, 0.0544, 0.5320],\n",
            "         [0.7455, 0.6281, 0.0371, 0.0325],\n",
            "         [0.5358, 0.9613, 0.3609, 0.7547]]]) \n",
            " and the shape is torch.Size([1, 3, 4])\n",
            "\n",
            "tensor new squeezed with dim=1 =\n",
            " tensor([[[0.0537, 0.1657, 0.0544, 0.5320]],\n",
            "\n",
            "        [[0.7455, 0.6281, 0.0371, 0.0325]],\n",
            "\n",
            "        [[0.5358, 0.9613, 0.3609, 0.7547]]]) \n",
            " and the shape is torch.Size([3, 1, 4])\n",
            "\n",
            "tensor new squeezed with dim=2 =\n",
            " tensor([[[0.0537],\n",
            "         [0.1657],\n",
            "         [0.0544],\n",
            "         [0.5320]],\n",
            "\n",
            "        [[0.7455],\n",
            "         [0.6281],\n",
            "         [0.0371],\n",
            "         [0.0325]],\n",
            "\n",
            "        [[0.5358],\n",
            "         [0.9613],\n",
            "         [0.3609],\n",
            "         [0.7547]]]) \n",
            " and the shape is torch.Size([3, 4, 1])\n",
            "\n"
          ]
        }
      ],
      "source": [
        "# $Example with 3*4 dimension\n",
        "tensor_new = torch.rand(3, 4)\n",
        "tensor_new_Unsqueezed_dim0 = tensor_new.unsqueeze(dim=0)\n",
        "tensor_new_Unsqueezed_dim1 = tensor_new.unsqueeze(dim=1)\n",
        "tensor_new_Unsqueezed_dim2 = tensor_new.unsqueeze(dim=2)\n",
        "print(f\"tensor new form =\\n {tensor_new} \\n and the shape is {tensor_new.shape}\\n\")\n",
        "print(f\"tensor new squeezed with dim=0 =\\n {tensor_new_Unsqueezed_dim0} \\n and the shape is {tensor_new_Unsqueezed_dim0.shape}\\n\")\n",
        "print(f\"tensor new squeezed with dim=1 =\\n {tensor_new_Unsqueezed_dim1} \\n and the shape is {tensor_new_Unsqueezed_dim1.shape}\\n\")\n",
        "print(f\"tensor new squeezed with dim=2 =\\n {tensor_new_Unsqueezed_dim2} \\n and the shape is {tensor_new_Unsqueezed_dim2.shape}\\n\")"
      ]
    },
    {
      "cell_type": "markdown",
      "metadata": {
        "id": "jnvCzi4cEmbJ"
      },
      "source": [
        "*** Note: ***\n",
        "\n",
        "So when we add a single dimension to ***dim=0***, the math explenation is we add a big matrix to the whole matrix.\n",
        "\n",
        "But when we add a single dimension to ***dim=1***, the math explenation is we add a single matrix to each raw of our matrix"
      ]
    },
    {
      "cell_type": "code",
      "execution_count": null,
      "metadata": {
        "colab": {
          "base_uri": "https://localhost:8080/"
        },
        "id": "lkxyLEDmCn4O",
        "outputId": "f0c83633-5fbf-4aa5-f279-5c41bd25599e"
      },
      "outputs": [
        {
          "name": "stdout",
          "output_type": "stream",
          "text": [
            "The original tensor of exaple image:\n",
            "tensor([[[0.5126, 0.9205, 0.5179],\n",
            "         [0.0540, 0.3117, 0.7218],\n",
            "         [0.8611, 0.1877, 0.3953],\n",
            "         ...,\n",
            "         [0.2821, 0.0574, 0.1909],\n",
            "         [0.6549, 0.4683, 0.8488],\n",
            "         [0.7501, 0.2391, 0.8438]],\n",
            "\n",
            "        [[0.1604, 0.8284, 0.9283],\n",
            "         [0.1800, 0.3645, 0.1511],\n",
            "         [0.7655, 0.8838, 0.6204],\n",
            "         ...,\n",
            "         [0.9228, 0.4196, 0.0399],\n",
            "         [0.4073, 0.7893, 0.9549],\n",
            "         [0.6519, 0.5810, 0.0687]],\n",
            "\n",
            "        [[0.8437, 0.5797, 0.1078],\n",
            "         [0.5744, 0.7895, 0.4881],\n",
            "         [0.5107, 0.1151, 0.9535],\n",
            "         ...,\n",
            "         [0.7884, 0.7933, 0.7003],\n",
            "         [0.2494, 0.1168, 0.0095],\n",
            "         [0.3076, 0.2551, 0.6661]],\n",
            "\n",
            "        ...,\n",
            "\n",
            "        [[0.4909, 0.6998, 0.8860],\n",
            "         [0.1914, 0.4143, 0.4003],\n",
            "         [0.4870, 0.5898, 0.1156],\n",
            "         ...,\n",
            "         [0.2375, 0.9508, 0.0410],\n",
            "         [0.3513, 0.6145, 0.5448],\n",
            "         [0.6049, 0.0845, 0.6090]],\n",
            "\n",
            "        [[0.6440, 0.3546, 0.3120],\n",
            "         [0.1614, 0.1297, 0.7840],\n",
            "         [0.9158, 0.1430, 0.5401],\n",
            "         ...,\n",
            "         [0.0377, 0.3186, 0.6120],\n",
            "         [0.3343, 0.4558, 0.6402],\n",
            "         [0.2336, 0.4629, 0.9858]],\n",
            "\n",
            "        [[0.2000, 0.2151, 0.2517],\n",
            "         [0.6190, 0.1984, 0.9350],\n",
            "         [0.2267, 0.5734, 0.4319],\n",
            "         ...,\n",
            "         [0.7052, 0.1078, 0.0280],\n",
            "         [0.9063, 0.4777, 0.3111],\n",
            "         [0.5883, 0.8312, 0.3000]]])\n",
            " and the dimension is torch.Size([224, 224, 3])\n",
            "\n",
            "The permuted tensor of exaple image:\n",
            "tensor([[[0.5126, 0.0540, 0.8611,  ..., 0.2821, 0.6549, 0.7501],\n",
            "         [0.1604, 0.1800, 0.7655,  ..., 0.9228, 0.4073, 0.6519],\n",
            "         [0.8437, 0.5744, 0.5107,  ..., 0.7884, 0.2494, 0.3076],\n",
            "         ...,\n",
            "         [0.4909, 0.1914, 0.4870,  ..., 0.2375, 0.3513, 0.6049],\n",
            "         [0.6440, 0.1614, 0.9158,  ..., 0.0377, 0.3343, 0.2336],\n",
            "         [0.2000, 0.6190, 0.2267,  ..., 0.7052, 0.9063, 0.5883]],\n",
            "\n",
            "        [[0.9205, 0.3117, 0.1877,  ..., 0.0574, 0.4683, 0.2391],\n",
            "         [0.8284, 0.3645, 0.8838,  ..., 0.4196, 0.7893, 0.5810],\n",
            "         [0.5797, 0.7895, 0.1151,  ..., 0.7933, 0.1168, 0.2551],\n",
            "         ...,\n",
            "         [0.6998, 0.4143, 0.5898,  ..., 0.9508, 0.6145, 0.0845],\n",
            "         [0.3546, 0.1297, 0.1430,  ..., 0.3186, 0.4558, 0.4629],\n",
            "         [0.2151, 0.1984, 0.5734,  ..., 0.1078, 0.4777, 0.8312]],\n",
            "\n",
            "        [[0.5179, 0.7218, 0.3953,  ..., 0.1909, 0.8488, 0.8438],\n",
            "         [0.9283, 0.1511, 0.6204,  ..., 0.0399, 0.9549, 0.0687],\n",
            "         [0.1078, 0.4881, 0.9535,  ..., 0.7003, 0.0095, 0.6661],\n",
            "         ...,\n",
            "         [0.8860, 0.4003, 0.1156,  ..., 0.0410, 0.5448, 0.6090],\n",
            "         [0.3120, 0.7840, 0.5401,  ..., 0.6120, 0.6402, 0.9858],\n",
            "         [0.2517, 0.9350, 0.4319,  ..., 0.0280, 0.3111, 0.3000]]])\n",
            " and the dimension is torch.Size([3, 224, 224])\n",
            "\n",
            "So we permute a [0, 1, 2] matrix dimesions to [2, 0, 1]\n"
          ]
        }
      ],
      "source": [
        "# torch.permute() -> rearange the dimensions of the target tensor in a specified  order\n",
        "tensor_image = torch.rand(224, 224, 3)\n",
        "\n",
        "# Permute the dimensions\n",
        "tensor_image_permuted = tensor_image.permute(2, 0, 1)\n",
        "print(f\"The original tensor of exaple image:\\n{tensor_image}\\n and the dimension is {tensor_image.shape}\\n\")\n",
        "print(f\"The permuted tensor of exaple image:\\n{tensor_image_permuted}\\n and the dimension is {tensor_image_permuted.shape}\\n\")\n",
        "print(\"So we permute a [0, 1, 2] matrix dimesions to [2, 0, 1]\")\n"
      ]
    },
    {
      "cell_type": "code",
      "execution_count": null,
      "metadata": {
        "colab": {
          "base_uri": "https://localhost:8080/"
        },
        "id": "FO9oJzRJGq14",
        "outputId": "cb9142c5-3428-4c71-dcec-d83fd7f58d78"
      },
      "outputs": [
        {
          "data": {
            "text/plain": [
              "tensor(85.)"
            ]
          },
          "execution_count": 55,
          "metadata": {},
          "output_type": "execute_result"
        }
      ],
      "source": [
        "tensor_image[0, 0, 0] = 85\n",
        "tensor_image_permuted[0, 0, 0]\n",
        "# So the permute is a view so any change on original will apllyed in permuted matrix"
      ]
    },
    {
      "cell_type": "code",
      "execution_count": null,
      "metadata": {
        "colab": {
          "base_uri": "https://localhost:8080/"
        },
        "id": "IupvP5BPI5BV",
        "outputId": "61471590-2559-47ef-9cd5-a58a880c2dcd"
      },
      "outputs": [
        {
          "data": {
            "text/plain": [
              "tensor(86.)"
            ]
          },
          "execution_count": 54,
          "metadata": {},
          "output_type": "execute_result"
        }
      ],
      "source": [
        "tensor_image_permuted[0, 0, 0] = 86\n",
        "tensor_image[0, 0, 0]\n",
        "# and its also true for opposite "
      ]
    },
    {
      "cell_type": "markdown",
      "metadata": {
        "id": "ihiya_CjpUD6"
      },
      "source": [
        "## Pytorch VS Numpy tensors\n",
        "Pytorch -> Numpy ==> `tensor.numpy()`and also we can add `type()`\n",
        "\n",
        "\n",
        "Numpy -> Pytorch ==> `torch.from_numpy(array)` and also we can add `type()`\n"
      ]
    },
    {
      "cell_type": "code",
      "execution_count": null,
      "metadata": {
        "colab": {
          "base_uri": "https://localhost:8080/"
        },
        "id": "JtnqRlZmpbJ6",
        "outputId": "c1fffe45-22fe-410e-be75-b4d97007d0d5"
      },
      "outputs": [
        {
          "data": {
            "text/plain": [
              "(array([1., 2., 3., 4., 5., 6., 7.]), tensor([1., 2., 3., 4., 5., 6., 7.]))"
            ]
          },
          "execution_count": 62,
          "metadata": {},
          "output_type": "execute_result"
        }
      ],
      "source": [
        "# Numpy array to tensor\n",
        "array = np.arange(1.0, 8.0)\n",
        "tensor = torch.from_numpy(array).type(torch.float32)\n",
        "array, tensor"
      ]
    },
    {
      "cell_type": "code",
      "execution_count": null,
      "metadata": {
        "colab": {
          "base_uri": "https://localhost:8080/"
        },
        "id": "NOkjBBj6p_eQ",
        "outputId": "39d28939-6f44-433c-83e6-a35ae2b198cd"
      },
      "outputs": [
        {
          "data": {
            "text/plain": [
              "(array([3., 4., 5., 6., 7., 8., 9.]), tensor([1., 2., 3., 4., 5., 6., 7.]))"
            ]
          },
          "execution_count": 64,
          "metadata": {},
          "output_type": "execute_result"
        }
      ],
      "source": [
        "# Apply change on original array has no effect on tensor\n",
        "array +=1\n",
        "array, tensor"
      ]
    },
    {
      "cell_type": "code",
      "execution_count": null,
      "metadata": {
        "colab": {
          "base_uri": "https://localhost:8080/"
        },
        "id": "-TfQd99YsFlv",
        "outputId": "a4d9463c-fdac-4c7c-d6b4-b9ff53a78e0f"
      },
      "outputs": [
        {
          "data": {
            "text/plain": [
              "(tensor([[1., 1.],\n",
              "         [1., 1.],\n",
              "         [1., 1.]]), array([1., 2., 3., 4., 5., 6., 7.], dtype=float32))"
            ]
          },
          "execution_count": 69,
          "metadata": {},
          "output_type": "execute_result"
        }
      ],
      "source": [
        "# Tensor to Numpy array\n",
        "tensor_sample = torch.ones([3,2])\n",
        "tensor_sample\n",
        "numpy_tensor = tensor.numpy()\n",
        "tensor_sample, numpy_tensor"
      ]
    },
    {
      "cell_type": "code",
      "execution_count": null,
      "metadata": {
        "colab": {
          "base_uri": "https://localhost:8080/"
        },
        "id": "H_7p4uTcsdEy",
        "outputId": "0bc74f36-0633-437c-8ad0-fb0d0a9ece7e"
      },
      "outputs": [
        {
          "data": {
            "text/plain": [
              "(tensor([[10., 10.],\n",
              "         [10., 10.],\n",
              "         [10., 10.]]), array([1., 2., 3., 4., 5., 6., 7.], dtype=float32))"
            ]
          },
          "execution_count": 70,
          "metadata": {},
          "output_type": "execute_result"
        }
      ],
      "source": [
        "# Apply change on original tensor has no effect on array\n",
        "tensor_sample +=9\n",
        "tensor_sample, numpy_tensor"
      ]
    },
    {
      "cell_type": "markdown",
      "metadata": {
        "id": "Rc6U-po9t6BC"
      },
      "source": [
        "## Reproducbility (trying to take random out of random)\n",
        "\n"
      ]
    },
    {
      "cell_type": "code",
      "execution_count": null,
      "metadata": {
        "colab": {
          "base_uri": "https://localhost:8080/"
        },
        "id": "oGKF7Fo_u0XX",
        "outputId": "9b5a8c5f-8477-4f6f-f65d-3cae14da7a26"
      },
      "outputs": [
        {
          "name": "stdout",
          "output_type": "stream",
          "text": [
            "tensor([[0.5190, 0.3004, 0.8503, 0.3069],\n",
            "        [0.5184, 0.2196, 0.8291, 0.8460],\n",
            "        [0.4080, 0.4180, 0.8430, 0.2439]])\n",
            "\n",
            "\n",
            "tensor([[0.9269, 0.4124, 0.6524, 0.0646],\n",
            "        [0.4987, 0.9846, 0.4806, 0.7994],\n",
            "        [0.5687, 0.0893, 0.7436, 0.2964]])\n",
            "\n",
            "\n"
          ]
        },
        {
          "data": {
            "text/plain": [
              "tensor([[False, False, False, False],\n",
              "        [False, False, False, False],\n",
              "        [False, False, False, False]])"
            ]
          },
          "execution_count": 76,
          "metadata": {},
          "output_type": "execute_result"
        }
      ],
      "source": [
        "# Create two random tensors\n",
        "random_tensor_A = torch.rand(3, 4)\n",
        "random_tensor_B = torch.rand(3, 4)\n",
        "print(random_tensor_A)\n",
        "print(\"\\n\")\n",
        "print(random_tensor_B)\n",
        "print(\"\\n\")\n",
        "random_tensor_A == random_tensor_B"
      ]
    },
    {
      "cell_type": "code",
      "execution_count": null,
      "metadata": {
        "colab": {
          "base_uri": "https://localhost:8080/"
        },
        "id": "RboqqYZuvJ8e",
        "outputId": "2567e81f-71a3-4d06-9611-4db749e9d51a"
      },
      "outputs": [
        {
          "output_type": "stream",
          "name": "stdout",
          "text": [
            "tensor([[0.1869, 0.9613, 0.6834, 0.8988],\n",
            "        [0.0505, 0.5555, 0.7861, 0.0566],\n",
            "        [0.7842, 0.1480, 0.0388, 0.1037]])\n",
            "\n",
            "\n",
            "tensor([[0.1869, 0.9613, 0.6834, 0.8988],\n",
            "        [0.0505, 0.5555, 0.7861, 0.0566],\n",
            "        [0.7842, 0.1480, 0.0388, 0.1037]])\n",
            "\n",
            "\n"
          ]
        },
        {
          "output_type": "execute_result",
          "data": {
            "text/plain": [
              "tensor([[True, True, True, True],\n",
              "        [True, True, True, True],\n",
              "        [True, True, True, True]])"
            ]
          },
          "metadata": {},
          "execution_count": 86
        }
      ],
      "source": [
        " # Set the random seed\n",
        "RANDOM_SEED = 45\n",
        "torch.manual_seed(RANDOM_SEED)\n",
        "random_tensor_c = torch.rand(3, 4)\n",
        "torch.manual_seed(RANDOM_SEED)\n",
        "random_tensor_d = torch.rand(3, 4)\n",
        "print(random_tensor_c)\n",
        "print(\"\\n\")\n",
        "print(random_tensor_d)\n",
        "print(\"\\n\")\n",
        "random_tensor_c == random_tensor_d"
      ]
    },
    {
      "cell_type": "code",
      "source": [
        "# Basics Imports\n",
        "import torch\n",
        "import pandas as pd\n",
        "import numpy as np\n",
        "import matplotlib.pyplot as plt"
      ],
      "metadata": {
        "id": "Xl78AdiBEq5k"
      },
      "execution_count": 1,
      "outputs": []
    },
    {
      "cell_type": "markdown",
      "source": [
        "## Runinng tensors on the GPU"
      ],
      "metadata": {
        "id": "cp2y_mcdEyf5"
      }
    },
    {
      "cell_type": "markdown",
      "source": [
        "### Getting GPu \n",
        "First and easy way is colab PRO\n"
      ],
      "metadata": {
        "id": "ptG-HvrRE70C"
      }
    },
    {
      "cell_type": "code",
      "source": [
        "# Check for GPU access in pytorch\n",
        "torch.cuda.is_available()"
      ],
      "metadata": {
        "colab": {
          "base_uri": "https://localhost:8080/"
        },
        "id": "kzoeMMNxFw54",
        "outputId": "c9017b0f-8362-4b4a-e73f-67cfed065d9a"
      },
      "execution_count": 3,
      "outputs": [
        {
          "output_type": "execute_result",
          "data": {
            "text/plain": [
              "True"
            ]
          },
          "metadata": {},
          "execution_count": 3
        }
      ]
    },
    {
      "cell_type": "code",
      "source": [
        "# Swtup device agnostic code `torch.device(\"cuda\"/ \"cpu\")`'\n",
        "device = 'cuda' if torch.cuda.is_available() else \"cpu\"\n",
        "device"
      ],
      "metadata": {
        "colab": {
          "base_uri": "https://localhost:8080/",
          "height": 36
        },
        "id": "4H7NIpjgF-GN",
        "outputId": "07dfc23e-4524-4a1e-e091-e764ea0f9303"
      },
      "execution_count": 8,
      "outputs": [
        {
          "output_type": "execute_result",
          "data": {
            "text/plain": [
              "'cuda'"
            ],
            "application/vnd.google.colaboratory.intrinsic+json": {
              "type": "string"
            }
          },
          "metadata": {},
          "execution_count": 8
        }
      ]
    },
    {
      "cell_type": "markdown",
      "source": [
        "##  Putting tensor and models on the GPU"
      ],
      "metadata": {
        "id": "jlEWA4inHBGy"
      }
    },
    {
      "cell_type": "code",
      "source": [
        " # Create tensor as defualt on the cpu\n",
        " tensor = torch.tensor([1, 2, 3])\n",
        " # tensor not on gpu\n",
        " tensor, tensor.device"
      ],
      "metadata": {
        "colab": {
          "base_uri": "https://localhost:8080/"
        },
        "id": "KB3NdiajHDmN",
        "outputId": "de1aece6-89b4-4af5-a0c6-5dfc42464fdf"
      },
      "execution_count": 12,
      "outputs": [
        {
          "output_type": "execute_result",
          "data": {
            "text/plain": [
              "(tensor([1, 2, 3]), device(type='cpu'))"
            ]
          },
          "metadata": {},
          "execution_count": 12
        }
      ]
    },
    {
      "cell_type": "code",
      "source": [
        "# Move tensor to GPU\n",
        "tensor_on_gpu = tensor.to(device)\n",
        "tensor_on_gpu"
      ],
      "metadata": {
        "colab": {
          "base_uri": "https://localhost:8080/"
        },
        "id": "3Cvkf8dHHYiR",
        "outputId": "599f6ea2-0ae1-4213-927e-b4e36d4addf8"
      },
      "execution_count": 13,
      "outputs": [
        {
          "output_type": "execute_result",
          "data": {
            "text/plain": [
              "tensor([1, 2, 3], device='cuda:0')"
            ]
          },
          "metadata": {},
          "execution_count": 13
        }
      ]
    },
    {
      "cell_type": "code",
      "source": [
        "# Moving tensor back to the cpu, if tesnor is on the GPu cant transformed to Numpy\n",
        "### tensor_on_gpu.numpy()\n",
        "# To fix this we bring back the tensor to cpu\n",
        "\n",
        "tensor_back = tensor_on_gpu.cpu().numpy()\n",
        "tensor_back"
      ],
      "metadata": {
        "colab": {
          "base_uri": "https://localhost:8080/"
        },
        "id": "zGwZaaY2Huf7",
        "outputId": "c61a8fab-2214-42b9-a4fa-b922a20b2a1f"
      },
      "execution_count": 20,
      "outputs": [
        {
          "output_type": "execute_result",
          "data": {
            "text/plain": [
              "array([1, 2, 3])"
            ]
          },
          "metadata": {},
          "execution_count": 20
        }
      ]
    },
    {
      "cell_type": "code",
      "source": [
        "### End of the basics learning "
      ],
      "metadata": {
        "id": "9J9TBn22IThP"
      },
      "execution_count": 21,
      "outputs": []
    }
  ],
  "metadata": {
    "accelerator": "GPU",
    "colab": {
      "provenance": [],
      "collapsed_sections": [
        "ptG-HvrRE70C"
      ],
      "authorship_tag": "ABX9TyM4CtvyJiUjjpd1RwAhqdFo",
      "include_colab_link": true
    },
    "gpuClass": "standard",
    "kernelspec": {
      "display_name": "Python 3",
      "name": "python3"
    },
    "language_info": {
      "name": "python"
    }
  },
  "nbformat": 4,
  "nbformat_minor": 0
}