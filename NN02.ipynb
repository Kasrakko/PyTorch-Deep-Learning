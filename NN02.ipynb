{
  "nbformat": 4,
  "nbformat_minor": 0,
  "metadata": {
    "colab": {
      "provenance": [],
      "authorship_tag": "ABX9TyPJ32HUz6ryZjoeAtpdKg+M",
      "include_colab_link": true
    },
    "kernelspec": {
      "name": "python3",
      "display_name": "Python 3"
    },
    "language_info": {
      "name": "python"
    },
    "accelerator": "GPU",
    "gpuClass": "standard"
  },
  "cells": [
    {
      "cell_type": "markdown",
      "metadata": {
        "id": "view-in-github",
        "colab_type": "text"
      },
      "source": [
        "<a href=\"https://colab.research.google.com/github/Kasrakko/PyTorch-Deep-Learning/blob/main/NN02.ipynb\" target=\"_parent\"><img src=\"https://colab.research.google.com/assets/colab-badge.svg\" alt=\"Open In Colab\"/></a>"
      ]
    },
    {
      "cell_type": "code",
      "execution_count": 1,
      "metadata": {
        "colab": {
          "base_uri": "https://localhost:8080/",
          "height": 36
        },
        "id": "w9R5NiNS6RtB",
        "outputId": "945323de-bfae-4c70-ae52-8ae0e3da59f5"
      },
      "outputs": [
        {
          "output_type": "execute_result",
          "data": {
            "text/plain": [
              "'1.13.1+cu116'"
            ],
            "application/vnd.google.colaboratory.intrinsic+json": {
              "type": "string"
            }
          },
          "metadata": {},
          "execution_count": 1
        }
      ],
      "source": [
        "import torch \n",
        "from torch import nn\n",
        "import pandas as pd\n",
        "import numpy as np\n",
        "import matplotlib.pyplot as plt\n",
        "torch.__version__"
      ]
    },
    {
      "cell_type": "code",
      "source": [
        "device = \"cuda\" if torch.cuda.is_available() else \"cpu\"\n",
        "print(f\"Using device: {device}\")"
      ],
      "metadata": {
        "colab": {
          "base_uri": "https://localhost:8080/"
        },
        "id": "CTXZrtJQ6b7T",
        "outputId": "efec4837-a058-484b-a4e2-5b063a99a68b"
      },
      "execution_count": 2,
      "outputs": [
        {
          "output_type": "stream",
          "name": "stdout",
          "text": [
            "Using device: cuda\n"
          ]
        }
      ]
    },
    {
      "cell_type": "markdown",
      "source": [
        "## Neural network classificiation pyTorch"
      ],
      "metadata": {
        "id": "0ShvX9Vq7b3x"
      }
    },
    {
      "cell_type": "code",
      "source": [
        " import sklearn\n",
        " from sklearn.datasets import make_circles\n"
      ],
      "metadata": {
        "id": "VARLIqgzBQvI"
      },
      "execution_count": 3,
      "outputs": []
    },
    {
      "cell_type": "code",
      "source": [
        "# make 1000 samples \n",
        "n_samples = 1000\n",
        "\n",
        "# Create Create circles \n",
        "X, y = make_circles(n_samples,\n",
        "                    noise = 0.03,\n",
        "                    random_state=42)\n",
        "len(X), len(y),"
      ],
      "metadata": {
        "colab": {
          "base_uri": "https://localhost:8080/"
        },
        "id": "CxNUYBLJB2YK",
        "outputId": "a18fb103-ed56-49a3-afa6-5d030d7ca570"
      },
      "execution_count": 4,
      "outputs": [
        {
          "output_type": "execute_result",
          "data": {
            "text/plain": [
              "(1000, 1000)"
            ]
          },
          "metadata": {},
          "execution_count": 4
        }
      ]
    },
    {
      "cell_type": "code",
      "source": [
        "print(f\"print first 5 sample of X:\\n{X[:5]}\\n\")\n",
        "print(f\"print first 5 sample of y:\\n{y[:5]}\")"
      ],
      "metadata": {
        "colab": {
          "base_uri": "https://localhost:8080/"
        },
        "id": "7ep5w7jBCkri",
        "outputId": "b41c1146-6aee-4203-efa6-2047284512ea"
      },
      "execution_count": 5,
      "outputs": [
        {
          "output_type": "stream",
          "name": "stdout",
          "text": [
            "print first 5 sample of X:\n",
            "[[ 0.75424625  0.23148074]\n",
            " [-0.75615888  0.15325888]\n",
            " [-0.81539193  0.17328203]\n",
            " [-0.39373073  0.69288277]\n",
            " [ 0.44220765 -0.89672343]]\n",
            "\n",
            "print first 5 sample of y:\n",
            "[1 1 1 1 0]\n"
          ]
        }
      ]
    },
    {
      "cell_type": "code",
      "source": [
        "# Making data frame of circles data with pandas\n",
        "circles = pd.DataFrame({\"X1\": X[:, 0], \n",
        "                        \"X2\": X[:, 1],\n",
        "                        \"label\": y})\n",
        "circles.head(10)"
      ],
      "metadata": {
        "colab": {
          "base_uri": "https://localhost:8080/",
          "height": 363
        },
        "id": "_ro-BdE9C04Z",
        "outputId": "0058f153-5370-4a98-f3b8-7ebdee7a5104"
      },
      "execution_count": 6,
      "outputs": [
        {
          "output_type": "execute_result",
          "data": {
            "text/plain": [
              "         X1        X2  label\n",
              "0  0.754246  0.231481      1\n",
              "1 -0.756159  0.153259      1\n",
              "2 -0.815392  0.173282      1\n",
              "3 -0.393731  0.692883      1\n",
              "4  0.442208 -0.896723      0\n",
              "5 -0.479646  0.676435      1\n",
              "6 -0.013648  0.803349      1\n",
              "7  0.771513  0.147760      1\n",
              "8 -0.169322 -0.793456      1\n",
              "9 -0.121486  1.021509      0"
            ],
            "text/html": [
              "\n",
              "  <div id=\"df-b207485c-a020-4f12-a2b4-2554647a1bb6\">\n",
              "    <div class=\"colab-df-container\">\n",
              "      <div>\n",
              "<style scoped>\n",
              "    .dataframe tbody tr th:only-of-type {\n",
              "        vertical-align: middle;\n",
              "    }\n",
              "\n",
              "    .dataframe tbody tr th {\n",
              "        vertical-align: top;\n",
              "    }\n",
              "\n",
              "    .dataframe thead th {\n",
              "        text-align: right;\n",
              "    }\n",
              "</style>\n",
              "<table border=\"1\" class=\"dataframe\">\n",
              "  <thead>\n",
              "    <tr style=\"text-align: right;\">\n",
              "      <th></th>\n",
              "      <th>X1</th>\n",
              "      <th>X2</th>\n",
              "      <th>label</th>\n",
              "    </tr>\n",
              "  </thead>\n",
              "  <tbody>\n",
              "    <tr>\n",
              "      <th>0</th>\n",
              "      <td>0.754246</td>\n",
              "      <td>0.231481</td>\n",
              "      <td>1</td>\n",
              "    </tr>\n",
              "    <tr>\n",
              "      <th>1</th>\n",
              "      <td>-0.756159</td>\n",
              "      <td>0.153259</td>\n",
              "      <td>1</td>\n",
              "    </tr>\n",
              "    <tr>\n",
              "      <th>2</th>\n",
              "      <td>-0.815392</td>\n",
              "      <td>0.173282</td>\n",
              "      <td>1</td>\n",
              "    </tr>\n",
              "    <tr>\n",
              "      <th>3</th>\n",
              "      <td>-0.393731</td>\n",
              "      <td>0.692883</td>\n",
              "      <td>1</td>\n",
              "    </tr>\n",
              "    <tr>\n",
              "      <th>4</th>\n",
              "      <td>0.442208</td>\n",
              "      <td>-0.896723</td>\n",
              "      <td>0</td>\n",
              "    </tr>\n",
              "    <tr>\n",
              "      <th>5</th>\n",
              "      <td>-0.479646</td>\n",
              "      <td>0.676435</td>\n",
              "      <td>1</td>\n",
              "    </tr>\n",
              "    <tr>\n",
              "      <th>6</th>\n",
              "      <td>-0.013648</td>\n",
              "      <td>0.803349</td>\n",
              "      <td>1</td>\n",
              "    </tr>\n",
              "    <tr>\n",
              "      <th>7</th>\n",
              "      <td>0.771513</td>\n",
              "      <td>0.147760</td>\n",
              "      <td>1</td>\n",
              "    </tr>\n",
              "    <tr>\n",
              "      <th>8</th>\n",
              "      <td>-0.169322</td>\n",
              "      <td>-0.793456</td>\n",
              "      <td>1</td>\n",
              "    </tr>\n",
              "    <tr>\n",
              "      <th>9</th>\n",
              "      <td>-0.121486</td>\n",
              "      <td>1.021509</td>\n",
              "      <td>0</td>\n",
              "    </tr>\n",
              "  </tbody>\n",
              "</table>\n",
              "</div>\n",
              "      <button class=\"colab-df-convert\" onclick=\"convertToInteractive('df-b207485c-a020-4f12-a2b4-2554647a1bb6')\"\n",
              "              title=\"Convert this dataframe to an interactive table.\"\n",
              "              style=\"display:none;\">\n",
              "        \n",
              "  <svg xmlns=\"http://www.w3.org/2000/svg\" height=\"24px\"viewBox=\"0 0 24 24\"\n",
              "       width=\"24px\">\n",
              "    <path d=\"M0 0h24v24H0V0z\" fill=\"none\"/>\n",
              "    <path d=\"M18.56 5.44l.94 2.06.94-2.06 2.06-.94-2.06-.94-.94-2.06-.94 2.06-2.06.94zm-11 1L8.5 8.5l.94-2.06 2.06-.94-2.06-.94L8.5 2.5l-.94 2.06-2.06.94zm10 10l.94 2.06.94-2.06 2.06-.94-2.06-.94-.94-2.06-.94 2.06-2.06.94z\"/><path d=\"M17.41 7.96l-1.37-1.37c-.4-.4-.92-.59-1.43-.59-.52 0-1.04.2-1.43.59L10.3 9.45l-7.72 7.72c-.78.78-.78 2.05 0 2.83L4 21.41c.39.39.9.59 1.41.59.51 0 1.02-.2 1.41-.59l7.78-7.78 2.81-2.81c.8-.78.8-2.07 0-2.86zM5.41 20L4 18.59l7.72-7.72 1.47 1.35L5.41 20z\"/>\n",
              "  </svg>\n",
              "      </button>\n",
              "      \n",
              "  <style>\n",
              "    .colab-df-container {\n",
              "      display:flex;\n",
              "      flex-wrap:wrap;\n",
              "      gap: 12px;\n",
              "    }\n",
              "\n",
              "    .colab-df-convert {\n",
              "      background-color: #E8F0FE;\n",
              "      border: none;\n",
              "      border-radius: 50%;\n",
              "      cursor: pointer;\n",
              "      display: none;\n",
              "      fill: #1967D2;\n",
              "      height: 32px;\n",
              "      padding: 0 0 0 0;\n",
              "      width: 32px;\n",
              "    }\n",
              "\n",
              "    .colab-df-convert:hover {\n",
              "      background-color: #E2EBFA;\n",
              "      box-shadow: 0px 1px 2px rgba(60, 64, 67, 0.3), 0px 1px 3px 1px rgba(60, 64, 67, 0.15);\n",
              "      fill: #174EA6;\n",
              "    }\n",
              "\n",
              "    [theme=dark] .colab-df-convert {\n",
              "      background-color: #3B4455;\n",
              "      fill: #D2E3FC;\n",
              "    }\n",
              "\n",
              "    [theme=dark] .colab-df-convert:hover {\n",
              "      background-color: #434B5C;\n",
              "      box-shadow: 0px 1px 3px 1px rgba(0, 0, 0, 0.15);\n",
              "      filter: drop-shadow(0px 1px 2px rgba(0, 0, 0, 0.3));\n",
              "      fill: #FFFFFF;\n",
              "    }\n",
              "  </style>\n",
              "\n",
              "      <script>\n",
              "        const buttonEl =\n",
              "          document.querySelector('#df-b207485c-a020-4f12-a2b4-2554647a1bb6 button.colab-df-convert');\n",
              "        buttonEl.style.display =\n",
              "          google.colab.kernel.accessAllowed ? 'block' : 'none';\n",
              "\n",
              "        async function convertToInteractive(key) {\n",
              "          const element = document.querySelector('#df-b207485c-a020-4f12-a2b4-2554647a1bb6');\n",
              "          const dataTable =\n",
              "            await google.colab.kernel.invokeFunction('convertToInteractive',\n",
              "                                                     [key], {});\n",
              "          if (!dataTable) return;\n",
              "\n",
              "          const docLinkHtml = 'Like what you see? Visit the ' +\n",
              "            '<a target=\"_blank\" href=https://colab.research.google.com/notebooks/data_table.ipynb>data table notebook</a>'\n",
              "            + ' to learn more about interactive tables.';\n",
              "          element.innerHTML = '';\n",
              "          dataTable['output_type'] = 'display_data';\n",
              "          await google.colab.output.renderOutput(dataTable, element);\n",
              "          const docLink = document.createElement('div');\n",
              "          docLink.innerHTML = docLinkHtml;\n",
              "          element.appendChild(docLink);\n",
              "        }\n",
              "      </script>\n",
              "    </div>\n",
              "  </div>\n",
              "  "
            ]
          },
          "metadata": {},
          "execution_count": 6
        }
      ]
    },
    {
      "cell_type": "code",
      "source": [
        "circles.label.value_counts()"
      ],
      "metadata": {
        "colab": {
          "base_uri": "https://localhost:8080/"
        },
        "id": "cwTgyZ9h7DUZ",
        "outputId": "2ee9e576-4a7e-4921-edd2-0c3e1106e95f"
      },
      "execution_count": 7,
      "outputs": [
        {
          "output_type": "execute_result",
          "data": {
            "text/plain": [
              "1    500\n",
              "0    500\n",
              "Name: label, dtype: int64"
            ]
          },
          "metadata": {},
          "execution_count": 7
        }
      ]
    },
    {
      "cell_type": "code",
      "source": [
        "# Visualize, Visualize, Visualize\n",
        "plt.scatter(x=X[:, 0],\n",
        "            y=X[:, 1],\n",
        "            c=y,\n",
        "            cmap=plt.cm.RdYlBu)   "
      ],
      "metadata": {
        "colab": {
          "base_uri": "https://localhost:8080/",
          "height": 282
        },
        "id": "OUBUk7DaDlRe",
        "outputId": "4a67ec40-72e3-49c7-d332-88effb2bfea9"
      },
      "execution_count": 8,
      "outputs": [
        {
          "output_type": "execute_result",
          "data": {
            "text/plain": [
              "<matplotlib.collections.PathCollection at 0x7f95d34773a0>"
            ]
          },
          "metadata": {},
          "execution_count": 8
        },
        {
          "output_type": "display_data",
          "data": {
            "text/plain": [
              "<Figure size 432x288 with 1 Axes>"
            ],
            "image/png": "[encoded data removed]"
          },
          "metadata": {
            "needs_background": "light"
          }
        }
      ]
    },
    {
      "cell_type": "markdown",
      "source": [
        "***Note:*** \n",
        "\n",
        "The data we are workig with is often reffred to as a toy dataset, a data set that is samll enogh to expreiment but still size sizeable enough to predict the fundamentals."
      ],
      "metadata": {
        "id": "ULb-GAGFE2Np"
      }
    },
    {
      "cell_type": "markdown",
      "source": [
        "### 1.1 Check input output shapes"
      ],
      "metadata": {
        "id": "ggvhltWnF_vF"
      }
    },
    {
      "cell_type": "code",
      "source": [
        "X.shape, y.shape"
      ],
      "metadata": {
        "colab": {
          "base_uri": "https://localhost:8080/"
        },
        "id": "-XzRBw9musdr",
        "outputId": "79627705-6e9a-4d95-f716-33db218b6f1a"
      },
      "execution_count": 9,
      "outputs": [
        {
          "output_type": "execute_result",
          "data": {
            "text/plain": [
              "((1000, 2), (1000,))"
            ]
          },
          "metadata": {},
          "execution_count": 9
        }
      ]
    },
    {
      "cell_type": "code",
      "source": [
        "# View the first example of the features and labels\n",
        "X_sample = X[0]\n",
        "y_sample = y[0]\n",
        "\n",
        "print(f\"Values for one sample of X: {X_sample}\\t and the same for y:{y_sample}\\n\")\n",
        "print(f\"Shapes for one sample of X:{X_sample.shape}\\t and the same for y:{y_sample.shape}\")"
      ],
      "metadata": {
        "colab": {
          "base_uri": "https://localhost:8080/"
        },
        "id": "OMwtN9bqvC9V",
        "outputId": "b18319be-a1ea-47a8-f758-d4380afec4ef"
      },
      "execution_count": 10,
      "outputs": [
        {
          "output_type": "stream",
          "name": "stdout",
          "text": [
            "Values for one sample of X: [0.75424625 0.23148074]\t and the same for y:1\n",
            "\n",
            "Shapes for one sample of X:(2,)\t and the same for y:()\n"
          ]
        }
      ]
    },
    {
      "cell_type": "markdown",
      "source": [
        "### 1.2 Turn data into tensor and create train and twest splits"
      ],
      "metadata": {
        "id": "z_pl2dU1v073"
      }
    },
    {
      "cell_type": "code",
      "source": [
        "# Turn data into tesnsor\n",
        "X = torch.from_numpy(X).type(torch.float)\n",
        "y = torch.from_numpy(y).type(torch.float)\n",
        "\n",
        "print(f\"the first 5 values of X:\\n {X[:5]}\\n\\n the first 5 values of y:\\n {y[:5]}\\n\\n len X:{len(X)}\\t\\t le y:{len(y)}\")"
      ],
      "metadata": {
        "colab": {
          "base_uri": "https://localhost:8080/"
        },
        "id": "zgu-5eBswLnP",
        "outputId": "d15fb68e-ce7e-4849-8ad2-3f0bbe77fcee"
      },
      "execution_count": 11,
      "outputs": [
        {
          "output_type": "stream",
          "name": "stdout",
          "text": [
            "the first 5 values of X:\n",
            " tensor([[ 0.7542,  0.2315],\n",
            "        [-0.7562,  0.1533],\n",
            "        [-0.8154,  0.1733],\n",
            "        [-0.3937,  0.6929],\n",
            "        [ 0.4422, -0.8967]])\n",
            "\n",
            " the first 5 values of y:\n",
            " tensor([1., 1., 1., 1., 0.])\n",
            "\n",
            " len X:1000\t\t le y:1000\n"
          ]
        }
      ]
    },
    {
      "cell_type": "code",
      "source": [
        "X.dtype, y.dtype"
      ],
      "metadata": {
        "colab": {
          "base_uri": "https://localhost:8080/"
        },
        "id": "40lJsphjwPhZ",
        "outputId": "758bdebb-bd06-42fb-834e-5022f9643883"
      },
      "execution_count": 12,
      "outputs": [
        {
          "output_type": "execute_result",
          "data": {
            "text/plain": [
              "(torch.float32, torch.float32)"
            ]
          },
          "metadata": {},
          "execution_count": 12
        }
      ]
    },
    {
      "cell_type": "code",
      "source": [
        "# Split data into training and test\n",
        "from sklearn.model_selection import train_test_split\n",
        "\n",
        "X_train, X_test, y_train, y_test = train_test_split(X,\n",
        "                                                    y,\n",
        "                                                    test_size=0.2,\n",
        "                                                    random_state=42) # Like the manual seed \n"
      ],
      "metadata": {
        "id": "nh4Trqc3x3AH"
      },
      "execution_count": 13,
      "outputs": []
    },
    {
      "cell_type": "code",
      "source": [
        "len(X_train), len(X_test), len(y_train), len(y_test)"
      ],
      "metadata": {
        "colab": {
          "base_uri": "https://localhost:8080/"
        },
        "id": "f1Qzm10Gy03-",
        "outputId": "c9234ad5-5e94-4737-f05a-a4481adb145d"
      },
      "execution_count": 14,
      "outputs": [
        {
          "output_type": "execute_result",
          "data": {
            "text/plain": [
              "(800, 200, 800, 200)"
            ]
          },
          "metadata": {},
          "execution_count": 14
        }
      ]
    },
    {
      "cell_type": "markdown",
      "source": [
        "## Building a model\n",
        "\n",
        "Lets build a model to classify our blue and red dots\n",
        "\n",
        "To do so, we want to:\n",
        "1. Setup device agonistic code so our will run on an accelerator (GPU)\n",
        "2. Construct the model \n",
        "3. Define loss function and optimizer\n",
        "4. Create train and test loop"
      ],
      "metadata": {
        "id": "6usbE6U4y8ro"
      }
    },
    {
      "cell_type": "markdown",
      "source": [
        "### 1. Setup constructor"
      ],
      "metadata": {
        "id": "BkkH8EuX7r5w"
      }
    },
    {
      "cell_type": "code",
      "source": [
        "# 1. Step one is check the cuda code block\n",
        "device = torch.device(\"cuda\") if torch.cuda.is_available() else \"cpu\"\n",
        "print(f\"Using device: {device}\")"
      ],
      "metadata": {
        "colab": {
          "base_uri": "https://localhost:8080/"
        },
        "id": "lKO9D2Pi0CQc",
        "outputId": "92d56e17-a8a8-4b14-dc8d-78df79374809"
      },
      "execution_count": 15,
      "outputs": [
        {
          "output_type": "stream",
          "name": "stdout",
          "text": [
            "Using device: cuda\n"
          ]
        }
      ]
    },
    {
      "cell_type": "markdown",
      "source": [
        "### 2. Create model"
      ],
      "metadata": {
        "id": "6aPxoIx_7ah9"
      }
    },
    {
      "cell_type": "code",
      "source": [
        "# 2. Create our model\n",
        "class CircleModelV0(nn.Module):\n",
        "  # 2.1 Build the constructor\n",
        "  def __init__(self):\n",
        "    super().__init__()\n",
        "    # Create nn.Linear layers capable of handling the shapes of our data\n",
        "    self.layer_1 = nn.Linear(in_features=2, out_features=5) # takes in 2 features (same shape of x (INPUT)) and unscales to 5 features\n",
        "    self.layer_2 = nn.Linear(in_features=5, out_features=1) # takes in 5 features from previous layer and outputs a single feature (same shape of y)\n",
        "\n",
        "  # 2.2 Define the forward methode\n",
        "  def forward(self, x :torch.Tensor) -> torch.Tensor:\n",
        "    return self.layer_2(self.layer_1(x)) # X -> layer_1 -> layer_2 -> y\n",
        "  \n",
        "  # 2.3 Instantiate an instance of our model class and send it to the target device\n",
        "model_0 =  CircleModelV0().to(device)\n",
        "model_0"
      ],
      "metadata": {
        "colab": {
          "base_uri": "https://localhost:8080/"
        },
        "id": "CwE_7PWD0iKu",
        "outputId": "b093e79d-26ab-4477-fc65-be623034166d"
      },
      "execution_count": 16,
      "outputs": [
        {
          "output_type": "execute_result",
          "data": {
            "text/plain": [
              "CircleModelV0(\n",
              "  (layer_1): Linear(in_features=2, out_features=5, bias=True)\n",
              "  (layer_2): Linear(in_features=5, out_features=1, bias=True)\n",
              ")"
            ]
          },
          "metadata": {},
          "execution_count": 16
        }
      ]
    },
    {
      "cell_type": "code",
      "source": [
        "model_0.state_dict()"
      ],
      "metadata": {
        "colab": {
          "base_uri": "https://localhost:8080/"
        },
        "id": "AAA_306u3_xl",
        "outputId": "a964ec2b-4a4e-4246-c89c-191efaf6877c"
      },
      "execution_count": 17,
      "outputs": [
        {
          "output_type": "execute_result",
          "data": {
            "text/plain": [
              "OrderedDict([('layer_1.weight', tensor([[ 0.0813,  0.1277],\n",
              "                      [ 0.5122, -0.2503],\n",
              "                      [-0.5325, -0.3007],\n",
              "                      [ 0.5046,  0.4482],\n",
              "                      [ 0.4132, -0.3284]], device='cuda:0')),\n",
              "             ('layer_1.bias',\n",
              "              tensor([-0.7004,  0.5571,  0.6156, -0.5058, -0.1345], device='cuda:0')),\n",
              "             ('layer_2.weight',\n",
              "              tensor([[-0.4181,  0.2680,  0.1562, -0.4020, -0.4236]], device='cuda:0')),\n",
              "             ('layer_2.bias', tensor([0.3897], device='cuda:0'))])"
            ]
          },
          "metadata": {},
          "execution_count": 17
        }
      ]
    },
    {
      "cell_type": "markdown",
      "source": [
        "### 3. Setup loss function and optimizer\n",
        "\n",
        "Whcich loos function or optimizer should you use?\n",
        "\n",
        "Based on problem is diffrent.\n",
        "\n",
        "For example, for redression you might want MAE or MSE\n",
        "\n",
        "For classification you might want binarry cross entropy loss or categorical cross entropy\n",
        "\n",
        "As a reminder, the loss function is a messure how much our model is working **wrong**\n",
        "\n",
        "And for optimizer, two of the modyt common and usefull functions are SGD and Adam.\n",
        "\n",
        "* For the loss function we are going to use `torch.nn.BCEWithLogitsLoss()`"
      ],
      "metadata": {
        "id": "P3_fsVQr5KOk"
      }
    },
    {
      "cell_type": "code",
      "source": [
        "# Setup loss function\n",
        "loss_fn = nn.BCEWithLogitsLoss() # has sigmond activation function\n",
        "\n",
        "optimizer = torch.optim.SGD(params=model_0.parameters(),\n",
        "                            lr=0.1)"
      ],
      "metadata": {
        "id": "sxXv4X237lXX"
      },
      "execution_count": 18,
      "outputs": []
    },
    {
      "cell_type": "code",
      "source": [
        "# Calculate the accuracy\n",
        "def accuracy_fn(y_true, y_preds):\n",
        "  correct = torch.eq(y_true, y_preds).sum().item()\n",
        "  acc = (correct/len(y_preds))*100\n",
        "  return acc"
      ],
      "metadata": {
        "id": "PfCsvmtMP1cW"
      },
      "execution_count": 19,
      "outputs": []
    },
    {
      "cell_type": "markdown",
      "source": [
        "### Train loop \n",
        "1. forward pass\n",
        "\n",
        "2. Calculate the loss\n",
        "\n",
        "3. Optimizer zero grad\n",
        "\n",
        "4. Losss backward(backpropagation)\n",
        "\n",
        "5. Optim step step step"
      ],
      "metadata": {
        "id": "Ggq-2IMIRG38"
      }
    },
    {
      "cell_type": "markdown",
      "source": [
        "#### Going from raw logits -> prediction probabilites -> prediction labels\n",
        "\n",
        "Our moddel out put are going to be raw logits.\n",
        "\n",
        "we can convert these logits into prediction probabilities by passing them to some kind of activation function (e.g. SIGMOID or SOFTMAX)\n",
        "\n",
        "then we can convert our models prediction probilities to prediction labels by either them rounding them or taking the `argmax()`"
      ],
      "metadata": {
        "id": "5wkiTWVjUfIi"
      }
    },
    {
      "cell_type": "code",
      "source": [
        "# View the first 5 outputs of the forward pass on the test data\n",
        "model_0.eval()\n",
        "with torch.inference_mode():\n",
        "  y_logits = model_0(X_test.to(device))[:5]\n",
        "y_logits"
      ],
      "metadata": {
        "colab": {
          "base_uri": "https://localhost:8080/"
        },
        "id": "_Wbh7gEBVYNS",
        "outputId": "2b2f4638-84e0-405a-845a-3f647ae80d11"
      },
      "execution_count": 20,
      "outputs": [
        {
          "output_type": "execute_result",
          "data": {
            "text/plain": [
              "tensor([[1.1801],\n",
              "        [0.9826],\n",
              "        [1.5053],\n",
              "        [1.0888],\n",
              "        [1.1994]], device='cuda:0')"
            ]
          },
          "metadata": {},
          "execution_count": 20
        }
      ]
    },
    {
      "cell_type": "code",
      "source": [
        "y_test[:5]"
      ],
      "metadata": {
        "colab": {
          "base_uri": "https://localhost:8080/"
        },
        "id": "A2Sm43FxXGLQ",
        "outputId": "d4cfe353-7936-4198-d5a3-987fa61c7d16"
      },
      "execution_count": 21,
      "outputs": [
        {
          "output_type": "execute_result",
          "data": {
            "text/plain": [
              "tensor([1., 0., 1., 0., 1.])"
            ]
          },
          "metadata": {},
          "execution_count": 21
        }
      ]
    },
    {
      "cell_type": "code",
      "source": [
        "# Use sigmoid activation forward on our model logits\n",
        "y_pred_probs = torch.sigmoid(y_logits)\n",
        "y_pred_probs"
      ],
      "metadata": {
        "colab": {
          "base_uri": "https://localhost:8080/"
        },
        "id": "twT8e0--XQtb",
        "outputId": "2de2eb1c-0027-4985-9d68-c8152e3906c3"
      },
      "execution_count": 22,
      "outputs": [
        {
          "output_type": "execute_result",
          "data": {
            "text/plain": [
              "tensor([[0.7650],\n",
              "        [0.7276],\n",
              "        [0.8184],\n",
              "        [0.7482],\n",
              "        [0.7684]], device='cuda:0')"
            ]
          },
          "metadata": {},
          "execution_count": 22
        }
      ]
    },
    {
      "cell_type": "code",
      "source": [
        "torch.round(y_pred_probs)"
      ],
      "metadata": {
        "colab": {
          "base_uri": "https://localhost:8080/"
        },
        "id": "YwyXyqLFXlxW",
        "outputId": "656640b5-11c4-48b7-cf7f-63fcf6fd202f"
      },
      "execution_count": 23,
      "outputs": [
        {
          "output_type": "execute_result",
          "data": {
            "text/plain": [
              "tensor([[1.],\n",
              "        [1.],\n",
              "        [1.],\n",
              "        [1.],\n",
              "        [1.]], device='cuda:0')"
            ]
          },
          "metadata": {},
          "execution_count": 23
        }
      ]
    },
    {
      "cell_type": "code",
      "source": [
        "# find the predicted labels \n",
        "y_preds = torch.round(y_pred_probs)\n",
        "\n",
        "# In full (logits -> pred prob -> pred labels)\n",
        "y_pred_labels = torch.round(torch.sigmoid(model_0(X_test.to(device))[:5]))\n",
        "\n",
        "# Check for equality\n",
        "print(torch.eq(y_preds.squeeze(), y_pred_labels.squeeze()))\n",
        "\n",
        "# Get rid of extra dimension \n",
        "y_preds.squeeze()"
      ],
      "metadata": {
        "colab": {
          "base_uri": "https://localhost:8080/"
        },
        "id": "m2FLkXiSYUQg",
        "outputId": "d3f1bb0b-5044-47df-b2d4-8d75717a5c37"
      },
      "execution_count": 24,
      "outputs": [
        {
          "output_type": "stream",
          "name": "stdout",
          "text": [
            "tensor([True, True, True, True, True], device='cuda:0')\n"
          ]
        },
        {
          "output_type": "execute_result",
          "data": {
            "text/plain": [
              "tensor([1., 1., 1., 1., 1.], device='cuda:0')"
            ]
          },
          "metadata": {},
          "execution_count": 24
        }
      ]
    },
    {
      "cell_type": "code",
      "source": [
        "y_test[:5]"
      ],
      "metadata": {
        "colab": {
          "base_uri": "https://localhost:8080/"
        },
        "id": "ZsQPMs2_ZwrP",
        "outputId": "18f15fd6-09a1-44e9-e390-17d3126b6010"
      },
      "execution_count": 25,
      "outputs": [
        {
          "output_type": "execute_result",
          "data": {
            "text/plain": [
              "tensor([1., 0., 1., 0., 1.])"
            ]
          },
          "metadata": {},
          "execution_count": 25
        }
      ]
    },
    {
      "cell_type": "code",
      "source": [
        "# define the epochs\n",
        "epochs = 100\n",
        "\n",
        "# Set data to target device\n",
        "X_train, y_train = X_train.to(device), y_train.to(device)\n",
        "X_test, y_test = X_test.to(device), y_test.to(device)\n",
        "\n",
        "# define the value for analysis\n",
        "epoch_count = []\n",
        "loss_values = []\n",
        "test_lost_values = []\n",
        "\n",
        "# bulid the training loop\n",
        "for epoch in range(epochs):\n",
        "  ### Training \n",
        "  model_0.train()\n",
        "\n",
        "  # Forward pass\n",
        "  y_logits = model_0(X_train).squeeze()\n",
        "  y_preds = torch.round(torch.sigmoid(y_logits)) # logIts -> pred probs -> pred labels\n",
        "  \n",
        "  # Calculate the loss / accuracy\n",
        "  loss = loss_fn(y_logits, y_train)\n",
        "  acc = accuracy_fn(y_true=y_train,\n",
        "                    y_preds=y_preds)\n",
        "\n",
        "  # Optimizer zero grad\n",
        "  optimizer.zero_grad()\n",
        "\n",
        "  # Loss backward\n",
        "  loss.backward()\n",
        "\n",
        "  # Optim step\n",
        "  optimizer.step()\n",
        "\n",
        "  ### Testing\n",
        "  model_0.eval()\n",
        "  # Forward pass\n",
        "  test_logits = model_0(X_test).squeeze()\n",
        "  test_preds = torch.round(torch.sigmoid(test_logits))\n",
        "\n",
        "  # Calculate the loss / accuracy\n",
        "  test_loss = loss_fn(test_logits, y_test)\n",
        "  test_acc = accuracy_fn(y_true=y_test,\n",
        "                         y_preds=test_preds)\n",
        "  \n",
        "  # PRINT WHAT HAPPENIN\n",
        "  if epoch % 10 == 0:\n",
        "    print(f\"Epochs: {epoch} | Loss: {loss:.5f}, ACC: {acc:.2f}%, | Test Loss: {test_loss:.5f}, Test ACC: {test_acc:.2f}%\")"
      ],
      "metadata": {
        "id": "8erkW4bRRfml",
        "colab": {
          "base_uri": "https://localhost:8080/"
        },
        "outputId": "e6b384a9-9083-44fa-c70a-9d3f8f184dd8"
      },
      "execution_count": 26,
      "outputs": [
        {
          "output_type": "stream",
          "name": "stdout",
          "text": [
            "Epochs: 0 | Loss: 0.86939, ACC: 50.00%, | Test Loss: 0.83374, Test ACC: 50.00%\n",
            "Epochs: 10 | Loss: 0.74078, ACC: 50.00%, | Test Loss: 0.72977, Test ACC: 50.00%\n",
            "Epochs: 20 | Loss: 0.70705, ACC: 50.00%, | Test Loss: 0.70341, Test ACC: 50.00%\n",
            "Epochs: 30 | Loss: 0.69760, ACC: 50.00%, | Test Loss: 0.69658, Test ACC: 50.00%\n",
            "Epochs: 40 | Loss: 0.69480, ACC: 54.37%, | Test Loss: 0.69489, Test ACC: 53.00%\n",
            "Epochs: 50 | Loss: 0.69391, ACC: 51.75%, | Test Loss: 0.69454, Test ACC: 52.00%\n",
            "Epochs: 60 | Loss: 0.69357, ACC: 50.88%, | Test Loss: 0.69452, Test ACC: 52.00%\n",
            "Epochs: 70 | Loss: 0.69341, ACC: 50.62%, | Test Loss: 0.69456, Test ACC: 50.00%\n",
            "Epochs: 80 | Loss: 0.69331, ACC: 51.00%, | Test Loss: 0.69461, Test ACC: 48.50%\n",
            "Epochs: 90 | Loss: 0.69325, ACC: 50.62%, | Test Loss: 0.69465, Test ACC: 50.50%\n"
          ]
        }
      ]
    },
    {
      "cell_type": "markdown",
      "source": [
        "## Make predictions and evaluation "
      ],
      "metadata": {
        "id": "fxp6czbez2Py"
      }
    },
    {
      "cell_type": "markdown",
      "source": [
        "### add extra library to pyTorch"
      ],
      "metadata": {
        "id": "5Ej0G7J1MNQN"
      }
    },
    {
      "cell_type": "code",
      "source": [
        "import requests \n",
        "from pathlib import Path\n",
        "\n",
        "# Download helper functions from learn pyTorch repo (if its not already downloaded)\n",
        "if Path(\"helper_functions.py\").is_file():\n",
        "  print(\"helper_functions.py already exists, skipping download\")\n",
        "else:\n",
        "  print(\"Downloading helper_functions.py\")\n",
        "  request = requests.get(\"https://raw.githubusercontent.com/mrdbourke/pytorch-deep-learning/main/helper_functions.py\")\n",
        "  with open(\"helper_functions.py\", \"wb\") as f:\n",
        "    f.write(request.content)\n",
        "\n",
        "from helper_functions import plot_predictions, plot_decision_boundary"
      ],
      "metadata": {
        "colab": {
          "base_uri": "https://localhost:8080/"
        },
        "id": "p6RH2rNl7gmM",
        "outputId": "ecdda8ed-1635-43b7-f284-96352d6bd627"
      },
      "execution_count": 27,
      "outputs": [
        {
          "output_type": "stream",
          "name": "stdout",
          "text": [
            "Downloading helper_functions.py\n"
          ]
        }
      ]
    },
    {
      "cell_type": "code",
      "source": [
        "# plot decision boundary of the model\n",
        "plt.figure(figsize=(12, 6))\n",
        "plt.subplot(1, 2, 1)\n",
        "plt.title(\"Trian\")\n",
        "plot_decision_boundary(model_0, X_train, y_train)\n",
        "plt.subplot(1, 2, 2)\n",
        "plt.title(\"Test\")\n",
        "plot_decision_boundary(model_0, X_test, y_test)\n"
      ],
      "metadata": {
        "colab": {
          "base_uri": "https://localhost:8080/",
          "height": 390
        },
        "id": "zUvcE_rHDvr9",
        "outputId": "804cf387-f9a3-4361-95d1-62cd005b455c"
      },
      "execution_count": 28,
      "outputs": [
        {
          "output_type": "display_data",
          "data": {
            "text/plain": [
              "<Figure size 864x432 with 2 Axes>"
            ],
            "image/png": "[encoded data removed]"
          },
          "metadata": {
            "needs_background": "light"
          }
        }
      ]
    },
    {
      "cell_type": "markdown",
      "source": [
        "## Improving a model\n",
        "\n",
        "* Add more layers - give the model more chances to learn about patterns in data\n",
        "\n",
        "* Add more hidden units (go from 5 hidden units to 10 hidden units)\n",
        "\n",
        "* Fit for longer\n",
        "\n",
        "* Changing the activation functions\n",
        "\n",
        "* Change the learning rate\n",
        "\n",
        "* change the loss function"
      ],
      "metadata": {
        "id": "-ZpDLuelGV04"
      }
    },
    {
      "cell_type": "code",
      "source": [
        "model_0.state_dict()"
      ],
      "metadata": {
        "colab": {
          "base_uri": "https://localhost:8080/"
        },
        "id": "tbA_tgrhMg5m",
        "outputId": "a03f1c82-a908-4ddc-a252-c6bbffce3c0e"
      },
      "execution_count": 29,
      "outputs": [
        {
          "output_type": "execute_result",
          "data": {
            "text/plain": [
              "OrderedDict([('layer_1.weight', tensor([[ 0.0527,  0.1192],\n",
              "                      [ 0.5304, -0.2453],\n",
              "                      [-0.5438, -0.2973],\n",
              "                      [ 0.4748,  0.4398],\n",
              "                      [ 0.3595, -0.3375]])),\n",
              "             ('layer_1.bias',\n",
              "              tensor([-0.5802,  0.4829,  0.6139, -0.3838,  0.0402])),\n",
              "             ('layer_2.weight',\n",
              "              tensor([[-0.1301,  0.1106, -0.1885, -0.1333, -0.3558]])),\n",
              "             ('layer_2.bias', tensor([-0.0478]))])"
            ]
          },
          "metadata": {},
          "execution_count": 29
        }
      ]
    },
    {
      "cell_type": "code",
      "source": [
        "# Add layer and define the layers with diffrent way\n",
        "class CircleModelV1(nn.Module):\n",
        "  def __init__(self):\n",
        "    super().__init__()\n",
        "    self.layer_1 = nn.Linear(in_features=2, out_features=10)\n",
        "    self.layer_2 = nn.Linear(in_features=10, out_features=10)\n",
        "    self.layer_3 = nn.Linear(in_features=10, out_features=1)\n",
        "\n",
        "  def forward(self, x):\n",
        "    # z = self.layer_1(x)\n",
        "    # z = self.layer_2(z)\n",
        "    # z= self.layer_3(z)\n",
        "    return self.layer_3(self.layer_2(self.layer_1(x)))\n",
        "\n",
        "model_1 = CircleModelV1().to(device)\n",
        "model_1"
      ],
      "metadata": {
        "colab": {
          "base_uri": "https://localhost:8080/"
        },
        "id": "L832ek9xOYxQ",
        "outputId": "fc8073e6-5d40-4831-e97f-fa291c055676"
      },
      "execution_count": 30,
      "outputs": [
        {
          "output_type": "execute_result",
          "data": {
            "text/plain": [
              "CircleModelV1(\n",
              "  (layer_1): Linear(in_features=2, out_features=10, bias=True)\n",
              "  (layer_2): Linear(in_features=10, out_features=10, bias=True)\n",
              "  (layer_3): Linear(in_features=10, out_features=1, bias=True)\n",
              ")"
            ]
          },
          "metadata": {},
          "execution_count": 30
        }
      ]
    },
    {
      "cell_type": "code",
      "source": [
        "model_0.state_dict()"
      ],
      "metadata": {
        "colab": {
          "base_uri": "https://localhost:8080/"
        },
        "id": "cVKIxhLFWNmR",
        "outputId": "acc27f95-cb6b-4bb8-8afc-5e9ce5c023b8"
      },
      "execution_count": 31,
      "outputs": [
        {
          "output_type": "execute_result",
          "data": {
            "text/plain": [
              "OrderedDict([('layer_1.weight', tensor([[ 0.0527,  0.1192],\n",
              "                      [ 0.5304, -0.2453],\n",
              "                      [-0.5438, -0.2973],\n",
              "                      [ 0.4748,  0.4398],\n",
              "                      [ 0.3595, -0.3375]])),\n",
              "             ('layer_1.bias',\n",
              "              tensor([-0.5802,  0.4829,  0.6139, -0.3838,  0.0402])),\n",
              "             ('layer_2.weight',\n",
              "              tensor([[-0.1301,  0.1106, -0.1885, -0.1333, -0.3558]])),\n",
              "             ('layer_2.bias', tensor([-0.0478]))])"
            ]
          },
          "metadata": {},
          "execution_count": 31
        }
      ]
    },
    {
      "cell_type": "code",
      "source": [
        "model_1.state_dict()"
      ],
      "metadata": {
        "colab": {
          "base_uri": "https://localhost:8080/"
        },
        "id": "h64ymSd-V3TA",
        "outputId": "fe42fa84-2f90-4a85-e1da-2994df71f144"
      },
      "execution_count": 32,
      "outputs": [
        {
          "output_type": "execute_result",
          "data": {
            "text/plain": [
              "OrderedDict([('layer_1.weight', tensor([[-0.2797,  0.1650],\n",
              "                      [ 0.1255, -0.2980],\n",
              "                      [ 0.1668, -0.1516],\n",
              "                      [ 0.1852,  0.5764],\n",
              "                      [-0.4327,  0.3859],\n",
              "                      [-0.5889, -0.0771],\n",
              "                      [-0.2824, -0.4435],\n",
              "                      [-0.5868,  0.4906],\n",
              "                      [-0.3480,  0.3793],\n",
              "                      [-0.1146,  0.5526]], device='cuda:0')),\n",
              "             ('layer_1.bias',\n",
              "              tensor([-0.2552, -0.5800,  0.4372, -0.1411, -0.2189,  0.5920,  0.0881, -0.4880,\n",
              "                       0.0755,  0.5347], device='cuda:0')),\n",
              "             ('layer_2.weight',\n",
              "              tensor([[ 0.2966,  0.0920, -0.0877,  0.0019,  0.2073,  0.3075, -0.2595, -0.1429,\n",
              "                        0.0132, -0.1801],\n",
              "                      [ 0.0152,  0.1970, -0.2394, -0.0526, -0.0743, -0.1690, -0.0254,  0.1014,\n",
              "                       -0.0935,  0.1676],\n",
              "                      [-0.1098, -0.0007, -0.1334,  0.3059,  0.1686,  0.2866, -0.1490, -0.1414,\n",
              "                        0.0130, -0.1768],\n",
              "                      [ 0.2855, -0.0495, -0.1968, -0.1681,  0.1852, -0.2719,  0.0318,  0.0344,\n",
              "                       -0.2558,  0.0576],\n",
              "                      [ 0.1826, -0.2776, -0.3145, -0.3063,  0.0797, -0.0798, -0.0916, -0.1065,\n",
              "                       -0.0592, -0.0702],\n",
              "                      [-0.3073, -0.3075, -0.2326, -0.1324,  0.0077, -0.1073, -0.0189, -0.0697,\n",
              "                        0.0340, -0.1083],\n",
              "                      [ 0.1539, -0.2684, -0.2957,  0.0523, -0.0713,  0.1390,  0.0200,  0.0821,\n",
              "                       -0.1341,  0.2489],\n",
              "                      [ 0.0629,  0.2194, -0.1036,  0.0055,  0.2294,  0.1493,  0.0401,  0.2312,\n",
              "                        0.0582, -0.0291],\n",
              "                      [ 0.2818, -0.0737,  0.2209, -0.1263, -0.1756, -0.0943, -0.1664,  0.2581,\n",
              "                        0.0487, -0.1626],\n",
              "                      [ 0.3039, -0.1808,  0.0830, -0.0094, -0.2606,  0.2727,  0.1189,  0.2454,\n",
              "                        0.1775, -0.0049]], device='cuda:0')),\n",
              "             ('layer_2.bias',\n",
              "              tensor([-0.2587, -0.2972, -0.0296,  0.0999, -0.2732, -0.1422,  0.1876, -0.2494,\n",
              "                      -0.1391, -0.1907], device='cuda:0')),\n",
              "             ('layer_3.weight',\n",
              "              tensor([[-0.0698, -0.0483, -0.0405, -0.2389, -0.1050,  0.0951, -0.1950, -0.1280,\n",
              "                        0.2465,  0.1558]], device='cuda:0')),\n",
              "             ('layer_3.bias', tensor([-0.1187], device='cuda:0'))])"
            ]
          },
          "metadata": {},
          "execution_count": 32
        }
      ]
    },
    {
      "cell_type": "code",
      "source": [
        "# Create a loss function\n",
        "loss_fn =  nn.BCEWithLogitsLoss()\n",
        "# Creeate an optimizer\n",
        "optimizer = torch.optim.SGD(params=model_1.parameters(),\n",
        "                            lr=0.1)"
      ],
      "metadata": {
        "id": "5bdsG4gZUfqS"
      },
      "execution_count": 33,
      "outputs": []
    },
    {
      "cell_type": "code",
      "source": [
        "# Write a training loop and evaluate loop for model_1\n",
        "torch.manual_seed(42)\n",
        "torch.cuda.manual_seed(42)\n",
        "\n",
        "epochs = 1000\n",
        "\n",
        "# Put data on the target device\n",
        "X_train, y_train = X_train.to(device), y_train.to(device)\n",
        "X_test, y_test = X_test.to(device), y_test.to(device)\n",
        "\n",
        "for epoch in range(epochs):\n",
        "  ### Training \n",
        "  model_1.train()\n",
        "  # Forward pass\n",
        "  y_logits = model_1(X_train).squeeze()\n",
        "  y_preds = torch.round(torch.sigmoid(y_logits))\n",
        "\n",
        "  # Loss function / Accuracy\n",
        "\n",
        "  loss = loss_fn(y_logits, y_train)\n",
        "  acc = accuracy_fn(y_true=y_train,\n",
        "                 y_preds=y_preds)\n",
        "  \n",
        "  # Optimizer zero grad\n",
        "  optimizer.zero_grad()\n",
        "\n",
        "  # loss backward \n",
        "  loss.backward()\n",
        "\n",
        "  # otimizer step\n",
        "  optimizer.step()\n",
        "\n",
        "  ### Testing\n",
        "  model_1.eval()\n",
        "  with torch.inference_mode():\n",
        "    # Forward pass\n",
        "    test_logits = model_1(X_test).squeeze()\n",
        "    test_preds = torch.round(torch.sigmoid(test_logits))\n",
        "\n",
        "    # Loss function / Accuracy\n",
        "    test_loss = loss_fn(test_logits, y_test)\n",
        "    test_acc = accuracy_fn(y_true=y_test,\n",
        "                      y_preds=test_preds)\n",
        "    \n",
        "    # PRINT OUT WHAT'S HAPPENING \n",
        "  if epoch % 100 == 0:\n",
        "    print(f\"Epochs: {epoch} | Loss: {loss:.5f}, ACC: {acc:.2f}%, | Test Loss: {test_loss:.5f}, Test ACC: {test_acc:.2f}%\")"
      ],
      "metadata": {
        "colab": {
          "base_uri": "https://localhost:8080/"
        },
        "id": "8TKBGhq8W0qE",
        "outputId": "447d2540-f725-45f7-a9e6-50815d69bae5"
      },
      "execution_count": 34,
      "outputs": [
        {
          "output_type": "stream",
          "name": "stdout",
          "text": [
            "Epochs: 0 | Loss: 0.69420, ACC: 40.38%, | Test Loss: 0.69309, Test ACC: 45.00%\n",
            "Epochs: 100 | Loss: 0.69319, ACC: 50.12%, | Test Loss: 0.69314, Test ACC: 46.50%\n",
            "Epochs: 200 | Loss: 0.69306, ACC: 50.88%, | Test Loss: 0.69362, Test ACC: 46.00%\n",
            "Epochs: 300 | Loss: 0.69301, ACC: 51.25%, | Test Loss: 0.69396, Test ACC: 45.50%\n",
            "Epochs: 400 | Loss: 0.69299, ACC: 51.25%, | Test Loss: 0.69420, Test ACC: 46.00%\n",
            "Epochs: 500 | Loss: 0.69299, ACC: 51.38%, | Test Loss: 0.69435, Test ACC: 46.00%\n",
            "Epochs: 600 | Loss: 0.69298, ACC: 51.62%, | Test Loss: 0.69446, Test ACC: 45.00%\n",
            "Epochs: 700 | Loss: 0.69298, ACC: 51.38%, | Test Loss: 0.69453, Test ACC: 44.50%\n",
            "Epochs: 800 | Loss: 0.69298, ACC: 51.38%, | Test Loss: 0.69458, Test ACC: 45.00%\n",
            "Epochs: 900 | Loss: 0.69298, ACC: 51.38%, | Test Loss: 0.69462, Test ACC: 45.00%\n"
          ]
        }
      ]
    },
    {
      "cell_type": "code",
      "source": [
        "# plot decision boundary of the model\n",
        "plt.figure(figsize=(12, 6))\n",
        "plt.subplot(1, 2, 1)\n",
        "plt.title(\"Trian\")\n",
        "plot_decision_boundary(model_1, X_train, y_train)\n",
        "plt.subplot(1, 2, 2)\n",
        "plt.title(\"Test\")\n",
        "plot_decision_boundary(model_1, X_test, y_test)"
      ],
      "metadata": {
        "colab": {
          "base_uri": "https://localhost:8080/",
          "height": 390
        },
        "id": "Yf4jwRhXa2hF",
        "outputId": "e27423bc-b1bd-463b-a954-753a8912906b"
      },
      "execution_count": 35,
      "outputs": [
        {
          "output_type": "display_data",
          "data": {
            "text/plain": [
              "<Figure size 864x432 with 2 Axes>"
            ],
            "image/png": "[encoded data removed]"
          },
          "metadata": {
            "needs_background": "light"
          }
        }
      ]
    },
    {
      "cell_type": "markdown",
      "source": [
        "### Preparing data to see if our model can fit a strIGHT line\n",
        "\n",
        "one way to troubleshot a large problem is to test out a smaller problem"
      ],
      "metadata": {
        "id": "Zr9KFFGkbW85"
      }
    },
    {
      "cell_type": "code",
      "source": [
        "# Make data to test \n",
        "\n",
        "weight =0.7\n",
        "bias = 0.3 \n",
        "start = 0\n",
        "end = 1\n",
        "step = 0.01\n",
        "\n",
        "# Create data\n",
        "X_regression = torch.arange(start, end, step).unsqueeze(dim=1)\n",
        "y_regression = weight * X_regression + bias\n",
        "\n",
        "# Check the data\n",
        "print(len(X_regression))\n",
        "X_regression[:5], y_regression[:5]"
      ],
      "metadata": {
        "colab": {
          "base_uri": "https://localhost:8080/"
        },
        "id": "cXePDE-F64ni",
        "outputId": "65ab037b-4521-4bd8-9726-d225814b3fa7"
      },
      "execution_count": 37,
      "outputs": [
        {
          "output_type": "stream",
          "name": "stdout",
          "text": [
            "100\n"
          ]
        },
        {
          "output_type": "execute_result",
          "data": {
            "text/plain": [
              "(tensor([[0.0000],\n",
              "         [0.0100],\n",
              "         [0.0200],\n",
              "         [0.0300],\n",
              "         [0.0400]]), tensor([[0.3000],\n",
              "         [0.3070],\n",
              "         [0.3140],\n",
              "         [0.3210],\n",
              "         [0.3280]]))"
            ]
          },
          "metadata": {},
          "execution_count": 37
        }
      ]
    },
    {
      "cell_type": "code",
      "source": [
        "# Create train and test splite\n",
        "train_split = int(0.8*len(X_regression))\n",
        "X_regression_train, y_regression_train = X_regression[:train_split], y_regression[:train_split]\n",
        "X_regression_test, y_regression_test = X_regression[train_split:], y_regression[train_split:]\n",
        "len(X_regression_train), len(X_regression_test), len(y_regression_train), len(y_regression_test)"
      ],
      "metadata": {
        "colab": {
          "base_uri": "https://localhost:8080/"
        },
        "id": "zxaFN_GN7d_1",
        "outputId": "469ce5b2-115f-4259-bad4-978dc34a9587"
      },
      "execution_count": 39,
      "outputs": [
        {
          "output_type": "execute_result",
          "data": {
            "text/plain": [
              "(80, 20, 80, 20)"
            ]
          },
          "metadata": {},
          "execution_count": 39
        }
      ]
    },
    {
      "cell_type": "code",
      "source": [
        "plot_predictions(train_data=X_regression_train,\n",
        "                     train_labels=y_regression_train,\n",
        "                     test_data=X_regression_test,\n",
        "                     test_labels=y_regression_test,\n",
        ");\n"
      ],
      "metadata": {
        "colab": {
          "base_uri": "https://localhost:8080/",
          "height": 428
        },
        "id": "_IBe_21g8YC4",
        "outputId": "d39dc3ad-5e1d-4261-b0da-a0da14ecac0a"
      },
      "execution_count": 42,
      "outputs": [
        {
          "output_type": "display_data",
          "data": {
            "text/plain": [
              "<Figure size 720x504 with 1 Axes>"
            ],
            "image/png": "[encoded data removed]"
          },
          "metadata": {
            "needs_background": "light"
          }
        }
      ]
    },
    {
      "cell_type": "code",
      "source": [
        "# Same architecture but with `nn.Sequential`\n",
        "model_2 = nn.Sequential(\n",
        "    nn.Linear(in_features=1, out_features=10),\n",
        "    nn.Linear(in_features=10, out_features=10),\n",
        "    nn.Linear(in_features=10, out_features=1)\n",
        ").to(device)\n",
        "\n",
        "model_2"
      ],
      "metadata": {
        "colab": {
          "base_uri": "https://localhost:8080/"
        },
        "id": "7MCRO-fs-aMt",
        "outputId": "1b687f2a-f7f9-4c60-f258-603d3b28eebc"
      },
      "execution_count": 47,
      "outputs": [
        {
          "output_type": "execute_result",
          "data": {
            "text/plain": [
              "Sequential(\n",
              "  (0): Linear(in_features=1, out_features=10, bias=True)\n",
              "  (1): Linear(in_features=10, out_features=10, bias=True)\n",
              "  (2): Linear(in_features=10, out_features=1, bias=True)\n",
              ")"
            ]
          },
          "metadata": {},
          "execution_count": 47
        }
      ]
    },
    {
      "cell_type": "code",
      "source": [
        "# Loos and optimizer\n",
        "loss_fn = nn.L1Loss()\n",
        "optimizer = torch.optim.SGD(params=model_2.parameters(),\n",
        "                            lr=0.001)"
      ],
      "metadata": {
        "id": "6VZnyS8JBVaH"
      },
      "execution_count": 62,
      "outputs": []
    },
    {
      "cell_type": "code",
      "source": [
        "# Train the model\n",
        "torch.manual_seed(42)\n",
        "torch.cuda.manual_seed(42)\n",
        "\n",
        "# Set the number of epochs\n",
        "epochs = 2000\n",
        "\n",
        "# Put the data on the target device\n",
        "X_regression_train, y_regression_train = X_regression_train.to(device), y_regression_train.to(device)\n",
        "X_regression_test, y_regression_test = X_regression_test.to(device), y_regression_test.to(device)\n",
        "for epoch in range(epochs):\n",
        "  ### train mode\n",
        "  model_2.train()\n",
        "  # forward pass\n",
        "  y_preds = model_2(X_regression_train)\n",
        "  # loss\n",
        "  loss = loss_fn(y_preds, y_regression_train)\n",
        "  #optim\n",
        "  optimizer.zero_grad()\n",
        "  # backward\n",
        "  loss.backward()\n",
        "  # step\n",
        "  optimizer.step()\n",
        "\n",
        "  ### Testing\n",
        "  model_2.eval()\n",
        "  with torch.inference_mode():\n",
        "    # forward pass\n",
        "    test_preds = model_2(X_regression_test)\n",
        "    # loss\n",
        "    test_loss = loss_fn(test_preds, y_regression_test)\n",
        "    # whats happenin\n",
        "  if epoch % 100 == 0:\n",
        "    print(f\"Epochs: {epoch} | Loss: {loss:.5f} | Test Loss: {test_loss:.5f}\")"
      ],
      "metadata": {
        "colab": {
          "base_uri": "https://localhost:8080/"
        },
        "id": "sZXC_mSvCGbt",
        "outputId": "50e38ea1-20b5-415b-d094-2106ab5ad70d"
      },
      "execution_count": 63,
      "outputs": [
        {
          "output_type": "stream",
          "name": "stdout",
          "text": [
            "Epochs: 0 | Loss: 0.00571 | Test Loss: 0.00215\n",
            "Epochs: 100 | Loss: 0.00011 | Test Loss: 0.00109\n",
            "Epochs: 200 | Loss: 0.00011 | Test Loss: 0.00100\n",
            "Epochs: 300 | Loss: 0.00014 | Test Loss: 0.00097\n",
            "Epochs: 400 | Loss: 0.00014 | Test Loss: 0.00088\n",
            "Epochs: 500 | Loss: 0.00017 | Test Loss: 0.00084\n",
            "Epochs: 600 | Loss: 0.00020 | Test Loss: 0.00081\n",
            "Epochs: 700 | Loss: 0.00023 | Test Loss: 0.00077\n",
            "Epochs: 800 | Loss: 0.00023 | Test Loss: 0.00069\n",
            "Epochs: 900 | Loss: 0.00026 | Test Loss: 0.00065\n",
            "Epochs: 1000 | Loss: 0.00028 | Test Loss: 0.00062\n",
            "Epochs: 1100 | Loss: 0.00031 | Test Loss: 0.00058\n",
            "Epochs: 1200 | Loss: 0.00031 | Test Loss: 0.00049\n",
            "Epochs: 1300 | Loss: 0.00034 | Test Loss: 0.00046\n",
            "Epochs: 1400 | Loss: 0.00037 | Test Loss: 0.00042\n",
            "Epochs: 1500 | Loss: 0.00040 | Test Loss: 0.00038\n",
            "Epochs: 1600 | Loss: 0.00040 | Test Loss: 0.00030\n",
            "Epochs: 1700 | Loss: 0.00043 | Test Loss: 0.00026\n",
            "Epochs: 1800 | Loss: 0.00046 | Test Loss: 0.00022\n",
            "Epochs: 1900 | Loss: 0.00049 | Test Loss: 0.00019\n"
          ]
        }
      ]
    },
    {
      "cell_type": "code",
      "source": [
        "plot_predictions(train_data = np.array(torch.tensor(X_regression_train).cpu().numpy()),\n",
        "                     train_labels = np.array(torch.tensor(y_regression_train).cpu().numpy()),\n",
        "                     test_data = np.array(torch.tensor(X_regression_test).cpu().numpy()),\n",
        "                     test_labels = np.array(torch.tensor(y_regression_test).cpu().numpy()),\n",
        "                     predictions = np.array(torch.tensor(test_preds).cpu().numpy())\n",
        ");\n"
      ],
      "metadata": {
        "colab": {
          "base_uri": "https://localhost:8080/",
          "height": 622
        },
        "id": "rdytaxROEFq-",
        "outputId": "e521c6fa-4c8d-4fe7-ab72-f08120ec43dd"
      },
      "execution_count": 80,
      "outputs": [
        {
          "output_type": "stream",
          "name": "stderr",
          "text": [
            "<ipython-input-80-a5e0b840fa8a>:1: UserWarning: To copy construct from a tensor, it is recommended to use sourceTensor.clone().detach() or sourceTensor.clone().detach().requires_grad_(True), rather than torch.tensor(sourceTensor).\n",
            "  plot_predictions(train_data = np.array(torch.tensor(X_regression_train).cpu().numpy()),\n",
            "<ipython-input-80-a5e0b840fa8a>:2: UserWarning: To copy construct from a tensor, it is recommended to use sourceTensor.clone().detach() or sourceTensor.clone().detach().requires_grad_(True), rather than torch.tensor(sourceTensor).\n",
            "  train_labels = np.array(torch.tensor(y_regression_train).cpu().numpy()),\n",
            "<ipython-input-80-a5e0b840fa8a>:3: UserWarning: To copy construct from a tensor, it is recommended to use sourceTensor.clone().detach() or sourceTensor.clone().detach().requires_grad_(True), rather than torch.tensor(sourceTensor).\n",
            "  test_data = np.array(torch.tensor(X_regression_test).cpu().numpy()),\n",
            "<ipython-input-80-a5e0b840fa8a>:4: UserWarning: To copy construct from a tensor, it is recommended to use sourceTensor.clone().detach() or sourceTensor.clone().detach().requires_grad_(True), rather than torch.tensor(sourceTensor).\n",
            "  test_labels = np.array(torch.tensor(y_regression_test).cpu().numpy()),\n",
            "<ipython-input-80-a5e0b840fa8a>:5: UserWarning: To copy construct from a tensor, it is recommended to use sourceTensor.clone().detach() or sourceTensor.clone().detach().requires_grad_(True), rather than torch.tensor(sourceTensor).\n",
            "  predictions = np.array(torch.tensor(test_preds).cpu().numpy())\n"
          ]
        },
        {
          "output_type": "display_data",
          "data": {
            "text/plain": [
              "<Figure size 720x504 with 1 Axes>"
            ],
            "image/png": "[encoded data removed]"
          },
          "metadata": {
            "needs_background": "light"
          }
        }
      ]
    },
    {
      "cell_type": "code",
      "source": [
        "len(X_regression_train), len(X_regression_test), len(y_regression_train), len(y_regression_test), len(y_preds)"
      ],
      "metadata": {
        "colab": {
          "base_uri": "https://localhost:8080/"
        },
        "id": "ddlaX--aE4n9",
        "outputId": "76124efa-6f96-409f-9306-b8dc999f6da9"
      },
      "execution_count": 77,
      "outputs": [
        {
          "output_type": "execute_result",
          "data": {
            "text/plain": [
              "(80, 20, 80, 20, 80)"
            ]
          },
          "metadata": {},
          "execution_count": 77
        }
      ]
    },
    {
      "cell_type": "code",
      "source": [],
      "metadata": {
        "id": "ZGsDWHBOGtSY"
      },
      "execution_count": null,
      "outputs": []
    }
  ]
}