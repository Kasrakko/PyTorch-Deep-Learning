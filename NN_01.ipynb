{
  "nbformat": 4,
  "nbformat_minor": 0,
  "metadata": {
    "colab": {
      "provenance": [],
      "authorship_tag": "ABX9TyPAWtPKN6C7JaKT/bkRe3pT",
      "include_colab_link": true
    },
    "kernelspec": {
      "name": "python3",
      "display_name": "Python 3"
    },
    "language_info": {
      "name": "python"
    }
  },
  "cells": [
    {
      "cell_type": "markdown",
      "metadata": {
        "id": "view-in-github",
        "colab_type": "text"
      },
      "source": [
        "<a href=\"https://colab.research.google.com/github/Kasrakko/PyTorch-Deep-Learning/blob/main/NN_01.ipynb\" target=\"_parent\"><img src=\"https://colab.research.google.com/assets/colab-badge.svg\" alt=\"Open In Colab\"/></a>"
      ]
    },
    {
      "cell_type": "code",
      "execution_count": 207,
      "metadata": {
        "id": "JTsa5tARKbH5",
        "colab": {
          "base_uri": "https://localhost:8080/",
          "height": 36
        },
        "outputId": "4b431c73-90fd-4710-9b5b-dcc873c846ca"
      },
      "outputs": [
        {
          "output_type": "execute_result",
          "data": {
            "text/plain": [
              "'1.13.1+cu116'"
            ],
            "application/vnd.google.colaboratory.intrinsic+json": {
              "type": "string"
            }
          },
          "metadata": {},
          "execution_count": 207
        }
      ],
      "source": [
        "import torch \n",
        "from torch import nn\n",
        "import pandas as pd\n",
        "import numpy as nm\n",
        "import matplotlib.pyplot as plt\n",
        "torch.__version__"
      ]
    },
    {
      "cell_type": "markdown",
      "source": [
        "***What we are doing here is:***\n",
        "\n",
        "1. data (prepare and load)\n",
        "2. building model\n",
        "3. fitting the model to data (training)\n",
        "4. making prediction and evaluting model (inference)\n",
        "5. saving and loading a model\n",
        "6. putting it all together"
      ],
      "metadata": {
        "id": "kWjS49kX7C86"
      }
    },
    {
      "cell_type": "markdown",
      "source": [
        "## Data preparing and loading\n",
        "\n",
        "Data can be anythings \n",
        "* Excel sheets \n",
        "* Image of any kind\n",
        "* Audio\n",
        "* Videos\n",
        "* Text \n",
        "* DNA\n",
        "* etc\n",
        "\n",
        "Machin learning is a game oftwo parts:\n",
        "1. Get data into a numerical representation.\n",
        "2. Build a model to learn pattern in that numerical representation \n",
        "\n",
        "To showcase this, lets create some *known* data using the linear regrrion formula."
      ],
      "metadata": {
        "id": "O9dQO6sF8akM"
      }
    },
    {
      "cell_type": "markdown",
      "source": [
        "### Get data into a numerical representation"
      ],
      "metadata": {
        "id": "pYmgpyS2-E2v"
      }
    },
    {
      "cell_type": "code",
      "source": [
        "# create *known* parameters\n",
        "weight = 0.7\n",
        "bias = 0.3\n",
        "\n",
        "# Create\n",
        "start = 0\n",
        "end = 1\n",
        "step = 0.02\n",
        "X = torch.arange(start, end, step).unsqueeze(dim=1) # Inputs\n",
        "y = weight * X + bias # Outputs\n",
        "\n",
        "print(f\"this is our X:\\n{X.squeeze()}\\n\\n \\t\\t\\t\\t And the len(X)={len(X)}\\n And here is the first 10 of X:\\n{X[:10]}\")\n",
        "print(f\"this is our y:\\n{y.squeeze()}\\n\\n \\t\\t\\t\\t And the len(y)={len(y)}\\n And here is the first 10 of y:\\n{y[:10]}\")"
      ],
      "metadata": {
        "colab": {
          "base_uri": "https://localhost:8080/"
        },
        "id": "WC9hvGhG-INN",
        "outputId": "b6a11fbc-4bd0-483b-ab08-b7202dba30a2"
      },
      "execution_count": 208,
      "outputs": [
        {
          "output_type": "stream",
          "name": "stdout",
          "text": [
            "this is our X:\n",
            "tensor([0.0000, 0.0200, 0.0400, 0.0600, 0.0800, 0.1000, 0.1200, 0.1400, 0.1600,\n",
            "        0.1800, 0.2000, 0.2200, 0.2400, 0.2600, 0.2800, 0.3000, 0.3200, 0.3400,\n",
            "        0.3600, 0.3800, 0.4000, 0.4200, 0.4400, 0.4600, 0.4800, 0.5000, 0.5200,\n",
            "        0.5400, 0.5600, 0.5800, 0.6000, 0.6200, 0.6400, 0.6600, 0.6800, 0.7000,\n",
            "        0.7200, 0.7400, 0.7600, 0.7800, 0.8000, 0.8200, 0.8400, 0.8600, 0.8800,\n",
            "        0.9000, 0.9200, 0.9400, 0.9600, 0.9800])\n",
            "\n",
            " \t\t\t\t And the len(X)=50\n",
            " And here is the first 10 of X:\n",
            "tensor([[0.0000],\n",
            "        [0.0200],\n",
            "        [0.0400],\n",
            "        [0.0600],\n",
            "        [0.0800],\n",
            "        [0.1000],\n",
            "        [0.1200],\n",
            "        [0.1400],\n",
            "        [0.1600],\n",
            "        [0.1800]])\n",
            "this is our y:\n",
            "tensor([0.3000, 0.3140, 0.3280, 0.3420, 0.3560, 0.3700, 0.3840, 0.3980, 0.4120,\n",
            "        0.4260, 0.4400, 0.4540, 0.4680, 0.4820, 0.4960, 0.5100, 0.5240, 0.5380,\n",
            "        0.5520, 0.5660, 0.5800, 0.5940, 0.6080, 0.6220, 0.6360, 0.6500, 0.6640,\n",
            "        0.6780, 0.6920, 0.7060, 0.7200, 0.7340, 0.7480, 0.7620, 0.7760, 0.7900,\n",
            "        0.8040, 0.8180, 0.8320, 0.8460, 0.8600, 0.8740, 0.8880, 0.9020, 0.9160,\n",
            "        0.9300, 0.9440, 0.9580, 0.9720, 0.9860])\n",
            "\n",
            " \t\t\t\t And the len(y)=50\n",
            " And here is the first 10 of y:\n",
            "tensor([[0.3000],\n",
            "        [0.3140],\n",
            "        [0.3280],\n",
            "        [0.3420],\n",
            "        [0.3560],\n",
            "        [0.3700],\n",
            "        [0.3840],\n",
            "        [0.3980],\n",
            "        [0.4120],\n",
            "        [0.4260]])\n"
          ]
        }
      ]
    },
    {
      "cell_type": "markdown",
      "source": [
        "### Spliting datasets to training and test sets"
      ],
      "metadata": {
        "id": "du7cOHc5_wMK"
      }
    },
    {
      "cell_type": "code",
      "source": [
        "# Create train/test split\n",
        "train_split = int(0.8 * len(X)) # 80% of data used for training set, 20% for testing \n",
        "X_train, y_train = X[:train_split], y[:train_split]\n",
        "X_test, y_test = X[train_split:], y[train_split:]\n",
        "\n",
        "len(X_train), len(y_train), len(X_test), len(y_test)"
      ],
      "metadata": {
        "colab": {
          "base_uri": "https://localhost:8080/"
        },
        "id": "vTuLaNKR_2rb",
        "outputId": "2ae08165-453d-40c1-ab69-60abf9a6daae"
      },
      "execution_count": 209,
      "outputs": [
        {
          "output_type": "execute_result",
          "data": {
            "text/plain": [
              "(40, 40, 10, 10)"
            ]
          },
          "metadata": {},
          "execution_count": 209
        }
      ]
    },
    {
      "cell_type": "markdown",
      "source": [
        "### Visualize data"
      ],
      "metadata": {
        "id": "_ya_ana-CUlr"
      }
    },
    {
      "cell_type": "code",
      "source": [
        "def plot_predictions(train_data=X_train,\n",
        "                    train_labels=y_train,\n",
        "                    test_data=X_test,\n",
        "                    test_labels=y_test,\n",
        "                    predictions=None):\n",
        "  \"\\n Plots training data, test data and compares predictions.\"\n",
        "  plt.figure(figsize=(10, 7))\n",
        "\n",
        "#plot trainig data in blue\n",
        "  plt.scatter(train_data, train_labels, c=\"b\", s=4, label=\"training data\")\n",
        "\n",
        "# plot test data in green\n",
        "  plt.scatter(test_data, test_labels, c=\"g\", s=4, label=\"testing data\")\n",
        "\n",
        "# Are there predictions?\n",
        "  if predictions is not None:\n",
        "  # plot the predictions if they exist\n",
        "    plt.scatter(test_data, predictions, c=\"r\", s=4, label=\"Predictions\")\n",
        "\n",
        "  # Show the legend\n",
        "    plt.legend(prop={\"size\" : 14});"
      ],
      "metadata": {
        "id": "s2mIblMYCZQV"
      },
      "execution_count": 210,
      "outputs": []
    },
    {
      "cell_type": "code",
      "source": [
        "plot_predictions();"
      ],
      "metadata": {
        "colab": {
          "base_uri": "https://localhost:8080/",
          "height": 428
        },
        "id": "TGgBwZNiJQCk",
        "outputId": "f596e5e4-dad4-47a6-b724-70c9d42dc910"
      },
      "execution_count": 211,
      "outputs": [
        {
          "output_type": "display_data",
          "data": {
            "text/plain": [
              "<Figure size 720x504 with 1 Axes>"
            ],
            "image/png": "[encoded data removed]"
          },
          "metadata": {
            "needs_background": "light"
          }
        }
      ]
    },
    {
      "cell_type": "code",
      "source": [
        "# Build model\n",
        "# Create a linear regrresion model\n",
        "class LinearReggresionModel(nn.Module): # Almost everything in Pytorch inherits from nn.module\n",
        "  def __init__(self):\n",
        "    super().__init__()\n",
        "    self.weights = nn.Parameter(torch.randn(1, # Starts with random weight and try to adjust it to the ideal weight     \n",
        "                                          dtype=torch.float)#pyTorch loves the data typpe torch.float32\n",
        "                                          ,requires_grad=True) # Can this parameter update via gradiant descent\n",
        "    self.bias = nn.Parameter(torch.randn(1, # Starts with random weight and try to adjust it to the ideal weight     \n",
        "                                          dtype=torch.float)#pyTorch loves the data typpe torch.float32\n",
        "                                          ,requires_grad=True) # Can this parameter update via gradiant descent\n",
        "  \n",
        "  # Forward methde\n",
        "  def forward(self, x: torch.Tensor) -> torch.Tensor: # \"x\" is input data\n",
        "    return self.weights * x + self.bias # Linear regrression formula"
      ],
      "metadata": {
        "id": "BP5E9FrsKToM"
      },
      "execution_count": 212,
      "outputs": []
    },
    {
      "cell_type": "markdown",
      "source": [
        "### pyTorch model building essentials\n",
        "\n",
        "* `nn.module` -> contains all the building for computational graph\n",
        "\n",
        "* `torch.nn.parameter` -> what parameter should our model try and learn, often a pytorch layer from torch.nn\n",
        "\n",
        "* `torch.nn.module`-> the class for all NN modules, if subclass it, you should overwrite forward()\n",
        "\n",
        "* `torch.optim` -> this where the optimizer in pyTorch live, they will helps with gradient descent \n",
        "\n",
        "* `def forward()` -> All nn.modules subclases require you to overwrite forward(), this method defines what happens in the forward computation"
      ],
      "metadata": {
        "id": "cjkB8Mbwv48X"
      }
    },
    {
      "cell_type": "markdown",
      "source": [
        " ### Checking the contests of our pyTorch model"
      ],
      "metadata": {
        "id": "JOMmsj0Yykx0"
      }
    },
    {
      "cell_type": "code",
      "source": [
        "# Create a random seed\n",
        "torch.manual_seed(42)\n",
        "#  Create an instance of the model ( this is a subclass of nn.Module)\n",
        "\n",
        "model_0 = LinearReggresionModel()\n",
        "\n",
        "# Check out the parameters\n",
        "list(model_0.parameters())"
      ],
      "metadata": {
        "colab": {
          "base_uri": "https://localhost:8080/"
        },
        "id": "tYGDXYgjyth-",
        "outputId": "8fd1e81d-9541-422c-b12e-d94dd105b1ed"
      },
      "execution_count": 213,
      "outputs": [
        {
          "output_type": "execute_result",
          "data": {
            "text/plain": [
              "[Parameter containing:\n",
              " tensor([0.3367], requires_grad=True), Parameter containing:\n",
              " tensor([0.1288], requires_grad=True)]"
            ]
          },
          "metadata": {},
          "execution_count": 213
        }
      ]
    },
    {
      "cell_type": "code",
      "source": [
        "# List named \n",
        "model_0.state_dict()"
      ],
      "metadata": {
        "colab": {
          "base_uri": "https://localhost:8080/"
        },
        "id": "JehjVv8Zh09J",
        "outputId": "f0e4a2f0-1d5d-4bdf-e835-2febfdb4cdd6"
      },
      "execution_count": 214,
      "outputs": [
        {
          "output_type": "execute_result",
          "data": {
            "text/plain": [
              "OrderedDict([('weights', tensor([0.3367])), ('bias', tensor([0.1288]))])"
            ]
          },
          "metadata": {},
          "execution_count": 214
        }
      ]
    },
    {
      "cell_type": "markdown",
      "source": [
        "### Making prediction using `torch.inferenece_mode()`\n",
        "\n",
        "To checkout model predictive model, lets see how well it predicts `y_test` based on `X_test`.\n",
        "\n",
        "when we pass data through our model, its going to run it through `forward()` method. "
      ],
      "metadata": {
        "id": "qNRwIAkTlgJz"
      }
    },
    {
      "cell_type": "code",
      "source": [
        "# Make prediction with model without infernrce_mode\n",
        "y_preds = model_0(X_test)\n",
        "y_preds, len(y_preds)"
      ],
      "metadata": {
        "colab": {
          "base_uri": "https://localhost:8080/"
        },
        "id": "EXCMMXp18S9H",
        "outputId": "85b87d75-b9ea-46ba-dacf-e6768e081c74"
      },
      "execution_count": 225,
      "outputs": [
        {
          "output_type": "execute_result",
          "data": {
            "text/plain": [
              "(tensor([[0.3982],\n",
              "         [0.4049],\n",
              "         [0.4116],\n",
              "         [0.4184],\n",
              "         [0.4251],\n",
              "         [0.4318],\n",
              "         [0.4386],\n",
              "         [0.4453],\n",
              "         [0.4520],\n",
              "         [0.4588]], grad_fn=<AddBackward0>), 10)"
            ]
          },
          "metadata": {},
          "execution_count": 225
        }
      ]
    },
    {
      "cell_type": "code",
      "source": [
        "# Make prediction with model with infrence_mode\n",
        "with torch.inference_mode():\n",
        "  y_preds = model_0(X_test)\n",
        "\n",
        "y_preds"
      ],
      "metadata": {
        "id": "w9U5LYQA4tem",
        "colab": {
          "base_uri": "https://localhost:8080/"
        },
        "outputId": "6ac26674-a592-42de-bc94-67b20f6bdd12"
      },
      "execution_count": 224,
      "outputs": [
        {
          "output_type": "execute_result",
          "data": {
            "text/plain": [
              "tensor([[0.3982],\n",
              "        [0.4049],\n",
              "        [0.4116],\n",
              "        [0.4184],\n",
              "        [0.4251],\n",
              "        [0.4318],\n",
              "        [0.4386],\n",
              "        [0.4453],\n",
              "        [0.4520],\n",
              "        [0.4588]])"
            ]
          },
          "metadata": {},
          "execution_count": 224
        }
      ]
    },
    {
      "cell_type": "code",
      "source": [
        "plot_predictions(predictions=y_preds)"
      ],
      "metadata": {
        "colab": {
          "base_uri": "https://localhost:8080/",
          "height": 428
        },
        "id": "gU1VSJoh54QE",
        "outputId": "bc8fcde2-c2b2-4a8b-c94a-f592178d1b4f"
      },
      "execution_count": 219,
      "outputs": [
        {
          "output_type": "display_data",
          "data": {
            "text/plain": [
              "<Figure size 720x504 with 1 Axes>"
            ],
            "image/png": "[encoded data removed]"
          },
          "metadata": {
            "needs_background": "light"
          }
        }
      ]
    },
    {
      "cell_type": "markdown",
      "source": [
        "### Train model \n",
        "\n",
        "Te whole idea of training is for a model to move from some **unknown** parameters (these may be random) to some **known** parameters.\n",
        "\n",
        "Or in the other word from poor representation of the data to better representation.\n",
        "\n",
        "One way to messure how poor or how wrong your model oredicts is to use loss function.\n",
        "\n",
        "THINGS WE NEED TO TRAIN:\n",
        "* **Loss finction:**  A function to messure how wrong your models oredictions are to the ideal outputs, lower is better.\n",
        "\n",
        "* **Optimizer:** Take into account the loss of the model and adjust the model's parameters.\n",
        "\n",
        "And specifically for pyTorch:\n",
        "* A train loop\n",
        "* A test loop"
      ],
      "metadata": {
        "id": "bthNY30Y73O4"
      }
    },
    {
      "cell_type": "code",
      "source": [
        " "
      ],
      "metadata": {
        "id": "WTXj7zEPLBHu"
      },
      "execution_count": null,
      "outputs": []
    }
  ]
}