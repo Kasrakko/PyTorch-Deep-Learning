{
  "nbformat": 4,
  "nbformat_minor": 0,
  "metadata": {
    "colab": {
      "provenance": [],
      "authorship_tag": "ABX9TyP45m7Cgr6ojhVFyMt2zQjc",
      "include_colab_link": true
    },
    "kernelspec": {
      "name": "python3",
      "display_name": "Python 3"
    },
    "language_info": {
      "name": "python"
    }
  },
  "cells": [
    {
      "cell_type": "markdown",
      "metadata": {
        "id": "view-in-github",
        "colab_type": "text"
      },
      "source": [
        "<a href=\"https://colab.research.google.com/github/Kasrakko/PyTorch-Deep-Learning/blob/main/NN_01.ipynb\" target=\"_parent\"><img src=\"https://colab.research.google.com/assets/colab-badge.svg\" alt=\"Open In Colab\"/></a>"
      ]
    },
    {
      "cell_type": "code",
      "execution_count": 6,
      "metadata": {
        "id": "JTsa5tARKbH5",
        "colab": {
          "base_uri": "https://localhost:8080/",
          "height": 36
        },
        "outputId": "6f553df3-56fd-43ef-8364-351c9cec936c"
      },
      "outputs": [
        {
          "output_type": "execute_result",
          "data": {
            "text/plain": [
              "'1.13.1+cu116'"
            ],
            "application/vnd.google.colaboratory.intrinsic+json": {
              "type": "string"
            }
          },
          "metadata": {},
          "execution_count": 6
        }
      ],
      "source": [
        ", torch_version\n",
        "import torch \n",
        "from torch import nn\n",
        "import pandas as pd\n",
        "import numpy as nm\n",
        "import matplotlib.pyplot as plt\n",
        "torch.__version__"
      ]
    },
    {
      "cell_type": "markdown",
      "source": [
        "***What we are doing here is:***\n",
        "\n",
        "1. data (prepare and load)\n",
        "2. building model\n",
        "3. fitting the model to data (training)\n",
        "4. making prediction and evaluting model (inference)\n",
        "5. saving and loading a model\n",
        "6. putting it all together"
      ],
      "metadata": {
        "id": "kWjS49kX7C86"
      }
    },
    {
      "cell_type": "markdown",
      "source": [
        "## Data preparing and loading\n",
        "\n",
        "Data can be anythings \n",
        "* Excel sheets \n",
        "* Image of any kind\n",
        "* Audio\n",
        "* Videos\n",
        "* Text \n",
        "* DNA\n",
        "* etc\n",
        "\n",
        "Machin learning is a game oftwo parts:\n",
        "1. Get data into a numerical representation.\n",
        "2. Build a model to learn pattern in that numerical representation \n",
        "\n",
        "To showcase this, lets create some *known* data using the linear regrrion formula."
      ],
      "metadata": {
        "id": "O9dQO6sF8akM"
      }
    },
    {
      "cell_type": "markdown",
      "source": [
        "### Get data into a numerical representation"
      ],
      "metadata": {
        "id": "pYmgpyS2-E2v"
      }
    },
    {
      "cell_type": "code",
      "source": [
        "# create *known* parameters\n",
        "weight = 0.7\n",
        "bias = 0.3\n",
        "\n",
        "# Create\n",
        "start = 0\n",
        "end = 1\n",
        "step = 0.02\n",
        "X = torch.arange(start, end, step).unsqueeze(dim=1) # Inputs\n",
        "y = weight * X + bias # Outputs\n",
        "\n",
        "X[:10], y[:10], len(X), len(y)"
      ],
      "metadata": {
        "colab": {
          "base_uri": "https://localhost:8080/"
        },
        "id": "WC9hvGhG-INN",
        "outputId": "83102167-6cf5-4f44-c31b-62a681f08c03"
      },
      "execution_count": 27,
      "outputs": [
        {
          "output_type": "execute_result",
          "data": {
            "text/plain": [
              "(tensor([[0.0000],\n",
              "         [0.0200],\n",
              "         [0.0400],\n",
              "         [0.0600],\n",
              "         [0.0800],\n",
              "         [0.1000],\n",
              "         [0.1200],\n",
              "         [0.1400],\n",
              "         [0.1600],\n",
              "         [0.1800]]), tensor([[0.3000],\n",
              "         [0.3140],\n",
              "         [0.3280],\n",
              "         [0.3420],\n",
              "         [0.3560],\n",
              "         [0.3700],\n",
              "         [0.3840],\n",
              "         [0.3980],\n",
              "         [0.4120],\n",
              "         [0.4260]]), 50, 50)"
            ]
          },
          "metadata": {},
          "execution_count": 27
        }
      ]
    },
    {
      "cell_type": "markdown",
      "source": [
        "### Spliting datasets to training and test sets"
      ],
      "metadata": {
        "id": "du7cOHc5_wMK"
      }
    },
    {
      "cell_type": "code",
      "source": [
        "# Create train/test split\n",
        "train_split = int(0.8 * len(X))\n",
        "#train_split\n",
        "X_train, y_train = X[:train_split], y[:train_split]\n",
        "X_test, y_test = X[train_split:], y[train_split:]\n",
        "len(X_train), len(X_test), len(y_train), len(y_test)"
      ],
      "metadata": {
        "colab": {
          "base_uri": "https://localhost:8080/"
        },
        "id": "vTuLaNKR_2rb",
        "outputId": "1526f716-f7fa-4cb4-a79e-8fdafb3a7122"
      },
      "execution_count": 28,
      "outputs": [
        {
          "output_type": "execute_result",
          "data": {
            "text/plain": [
              "(40, 10, 40, 10)"
            ]
          },
          "metadata": {},
          "execution_count": 28
        }
      ]
    },
    {
      "cell_type": "markdown",
      "source": [
        "### Visualize data"
      ],
      "metadata": {
        "id": "_ya_ana-CUlr"
      }
    },
    {
      "cell_type": "code",
      "source": [
        "def plot_prediction(train_data=X_train,\n",
        "                    train_labels=y_train,\n",
        "                    test_data=X_test,\n",
        "                    test_labels=y_test,\n",
        "                    predictions=None):\n",
        "  \"\\n Plots training data, test data and compares predictions.\"\n",
        "  plt.figure(figsize=(10, 7))\n",
        "\n",
        "#plot trainig data in blue\n",
        "  plt.scatter(train_data, train_labels, c=\"b\", s=4, label=\"training data\")\n",
        "\n",
        "# plot test data in green\n",
        "  plt.scatter(test_data, test_labels, c=\"g\", s=4, label=\"testing data\")\n",
        "\n",
        "# Are there predictions?\n",
        "  if predictions is not None:\n",
        "  # plot the predictions if they exist\n",
        "    plt.scatter(test_data, predictions, c=\"r\", s=4, label=\"Predictions\")\n",
        "\n",
        "  # Show the legend\n",
        "    plt.legend(prop={\"size\" : 14});"
      ],
      "metadata": {
        "id": "s2mIblMYCZQV"
      },
      "execution_count": 29,
      "outputs": []
    },
    {
      "cell_type": "code",
      "source": [
        "plot_prediction();"
      ],
      "metadata": {
        "colab": {
          "base_uri": "https://localhost:8080/",
          "height": 428
        },
        "id": "TGgBwZNiJQCk",
        "outputId": "9a5c54b5-dec7-4fdb-d368-94a52a216e4c"
      },
      "execution_count": 32,
      "outputs": [
        {
          "output_type": "display_data",
          "data": {
            "text/plain": [
              "<Figure size 720x504 with 1 Axes>"
            ],
            "image/png": "[encoded data removed]"
          },
          "metadata": {
            "needs_background": "light"
          }
        }
      ]
    },
    {
      "cell_type": "code",
      "source": [
        "# Build model\n",
        "# Create a linear regrresion model\n",
        "class LinearReggresionModel(nn.Moudule)\n",
        "  def __init__(self):\n",
        "    super().__init__()\n",
        "    self.weights = nn.Parameter(torch.rand(1, \n",
        "                                           requires_grad=True, \n",
        "                                           dtype=torch.float))\n",
        "    self.bias = nn.Parameter(torch.rand(1, \n",
        "                                           requires_grad=True, \n",
        "                                           dtype=torch.float))\n",
        "    # Forward methde\n",
        "    def forward(self, x: torch.Tensor) -> torch.Tensor:\n",
        "      return self.weights * X + self.bias "
      ],
      "metadata": {
        "id": "BP5E9FrsKToM"
      },
      "execution_count": null,
      "outputs": []
    }
  ]
}