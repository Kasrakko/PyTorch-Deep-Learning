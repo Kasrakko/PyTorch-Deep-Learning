{
  "nbformat": 4,
  "nbformat_minor": 0,
  "metadata": {
    "colab": {
      "provenance": [],
      "collapsed_sections": [
        "nJhMIkwVvtVL",
        "kCrEyTfY0vCA",
        "eAqFaSWX3a11",
        "MVk7Hons4YuX"
      ],
      "authorship_tag": "ABX9TyNIvXQqQhAFo594hHXfo+64",
      "include_colab_link": true
    },
    "kernelspec": {
      "name": "python3",
      "display_name": "Python 3"
    },
    "language_info": {
      "name": "python"
    },
    "accelerator": "GPU",
    "gpuClass": "standard"
  },
  "cells": [
    {
      "cell_type": "markdown",
      "metadata": {
        "id": "view-in-github",
        "colab_type": "text"
      },
      "source": [
        "<a href=\"https://colab.research.google.com/github/Kasrakko/PyTorch-Deep-Learning/blob/main/NN1.ipynb\" target=\"_parent\"><img src=\"https://colab.research.google.com/assets/colab-badge.svg\" alt=\"Open In Colab\"/></a>"
      ]
    },
    {
      "cell_type": "code",
      "source": [
        "# GPU Info\n",
        "!nvidia-smi"
      ],
      "metadata": {
        "id": "9nILu7RjuQbe",
        "colab": {
          "base_uri": "https://localhost:8080/"
        },
        "outputId": "305d9d16-d57b-49fb-b250-db97746abe11"
      },
      "execution_count": 2,
      "outputs": [
        {
          "output_type": "stream",
          "name": "stdout",
          "text": [
            "Mon Jan 30 09:28:28 2023       \n",
            "+-----------------------------------------------------------------------------+\n",
            "| NVIDIA-SMI 510.47.03    Driver Version: 510.47.03    CUDA Version: 11.6     |\n",
            "|-------------------------------+----------------------+----------------------+\n",
            "| GPU  Name        Persistence-M| Bus-Id        Disp.A | Volatile Uncorr. ECC |\n",
            "| Fan  Temp  Perf  Pwr:Usage/Cap|         Memory-Usage | GPU-Util  Compute M. |\n",
            "|                               |                      |               MIG M. |\n",
            "|===============================+======================+======================|\n",
            "|   0  Tesla T4            Off  | 00000000:00:04.0 Off |                    0 |\n",
            "| N/A   67C    P0    31W /  70W |      0MiB / 15360MiB |      0%      Default |\n",
            "|                               |                      |                  N/A |\n",
            "+-------------------------------+----------------------+----------------------+\n",
            "                                                                               \n",
            "+-----------------------------------------------------------------------------+\n",
            "| Processes:                                                                  |\n",
            "|  GPU   GI   CI        PID   Type   Process name                  GPU Memory |\n",
            "|        ID   ID                                                   Usage      |\n",
            "|=============================================================================|\n",
            "|  No running processes found                                                 |\n",
            "+-----------------------------------------------------------------------------+\n"
          ]
        }
      ]
    },
    {
      "cell_type": "code",
      "source": [
        "# Basics Imports\n",
        "import torch\n",
        "import pandas as pd\n",
        "import matplotlib.pyplot as plt\n",
        "print(torch.__version__)"
      ],
      "metadata": {
        "colab": {
          "base_uri": "https://localhost:8080/"
        },
        "id": "y04nM3PGuQfc",
        "outputId": "0af61b1f-33cc-4048-d77b-bc606de0c39f"
      },
      "execution_count": 3,
      "outputs": [
        {
          "output_type": "stream",
          "name": "stdout",
          "text": [
            "1.13.1+cu116\n"
          ]
        }
      ]
    },
    {
      "cell_type": "markdown",
      "source": [
        "## **Tensors**"
      ],
      "metadata": {
        "id": "BaVcsjEDvoCu"
      }
    },
    {
      "cell_type": "markdown",
      "source": [
        "### Creating tensor"
      ],
      "metadata": {
        "id": "nJhMIkwVvtVL"
      }
    },
    {
      "cell_type": "code",
      "source": [
        "# Scalar\n",
        "scalar = torch.tensor(7)\n",
        "scalar"
      ],
      "metadata": {
        "colab": {
          "base_uri": "https://localhost:8080/"
        },
        "id": "7SnvcY9pvKm3",
        "outputId": "f85ab7f3-81f5-4f0a-f685-6a5e173acf44"
      },
      "execution_count": 4,
      "outputs": [
        {
          "output_type": "execute_result",
          "data": {
            "text/plain": [
              "tensor(7)"
            ]
          },
          "metadata": {},
          "execution_count": 4
        }
      ]
    },
    {
      "cell_type": "code",
      "source": [
        "\n",
        "scalar.ndim"
      ],
      "metadata": {
        "colab": {
          "base_uri": "https://localhost:8080/"
        },
        "id": "X1T0d-DAwJco",
        "outputId": "fb2255e7-3591-4b18-ac24-9dd292eca3a1"
      },
      "execution_count": 5,
      "outputs": [
        {
          "output_type": "execute_result",
          "data": {
            "text/plain": [
              "0"
            ]
          },
          "metadata": {},
          "execution_count": 5
        }
      ]
    },
    {
      "cell_type": "code",
      "source": [
        "# Get tensor back as python int\n",
        "scalar.item()"
      ],
      "metadata": {
        "colab": {
          "base_uri": "https://localhost:8080/"
        },
        "id": "umipmM40wbLc",
        "outputId": "da14cdde-b540-4d86-d542-2a607c4e2eb3"
      },
      "execution_count": 6,
      "outputs": [
        {
          "output_type": "execute_result",
          "data": {
            "text/plain": [
              "7"
            ]
          },
          "metadata": {},
          "execution_count": 6
        }
      ]
    },
    {
      "cell_type": "code",
      "source": [
        "# Vector\n",
        "vector = torch.tensor([4,4])\n",
        "vector"
      ],
      "metadata": {
        "colab": {
          "base_uri": "https://localhost:8080/"
        },
        "id": "eEFhR6cjwiPU",
        "outputId": "996b2cf1-f60e-4eda-829c-ad719b900a96"
      },
      "execution_count": 7,
      "outputs": [
        {
          "output_type": "execute_result",
          "data": {
            "text/plain": [
              "tensor([4, 4])"
            ]
          },
          "metadata": {},
          "execution_count": 7
        }
      ]
    },
    {
      "cell_type": "code",
      "source": [
        "vector.ndim"
      ],
      "metadata": {
        "colab": {
          "base_uri": "https://localhost:8080/"
        },
        "id": "hDyWvLVww6Of",
        "outputId": "b0b9b4e1-edac-4c63-de9b-beaef6ac5cac"
      },
      "execution_count": 8,
      "outputs": [
        {
          "output_type": "execute_result",
          "data": {
            "text/plain": [
              "1"
            ]
          },
          "metadata": {},
          "execution_count": 8
        }
      ]
    },
    {
      "cell_type": "code",
      "source": [
        "vector.shape"
      ],
      "metadata": {
        "colab": {
          "base_uri": "https://localhost:8080/"
        },
        "id": "bP8tsbCgw_10",
        "outputId": "df97ef0c-5b30-40ee-88eb-ec7220d7a3e1"
      },
      "execution_count": 9,
      "outputs": [
        {
          "output_type": "execute_result",
          "data": {
            "text/plain": [
              "torch.Size([2])"
            ]
          },
          "metadata": {},
          "execution_count": 9
        }
      ]
    },
    {
      "cell_type": "code",
      "source": [
        "# Matrix\n",
        "matrix = torch.tensor([[4,5],\n",
        "                      [6,9]])\n",
        "matrix"
      ],
      "metadata": {
        "colab": {
          "base_uri": "https://localhost:8080/"
        },
        "id": "imuZYwcSxB9J",
        "outputId": "89f84f10-2043-4fda-c100-55f59a5b3dd2"
      },
      "execution_count": 10,
      "outputs": [
        {
          "output_type": "execute_result",
          "data": {
            "text/plain": [
              "tensor([[4, 5],\n",
              "        [6, 9]])"
            ]
          },
          "metadata": {},
          "execution_count": 10
        }
      ]
    },
    {
      "cell_type": "code",
      "source": [
        "matrix.ndim"
      ],
      "metadata": {
        "colab": {
          "base_uri": "https://localhost:8080/"
        },
        "id": "xVffIjBExZtZ",
        "outputId": "db693a82-3062-4f6d-ffc0-d841ae625e97"
      },
      "execution_count": 11,
      "outputs": [
        {
          "output_type": "execute_result",
          "data": {
            "text/plain": [
              "2"
            ]
          },
          "metadata": {},
          "execution_count": 11
        }
      ]
    },
    {
      "cell_type": "code",
      "source": [
        "matrix.shape"
      ],
      "metadata": {
        "colab": {
          "base_uri": "https://localhost:8080/"
        },
        "id": "dHRkDb8zxjDS",
        "outputId": "d2c6ed79-1472-4ee5-c692-8a5c60b8ca44"
      },
      "execution_count": 12,
      "outputs": [
        {
          "output_type": "execute_result",
          "data": {
            "text/plain": [
              "torch.Size([2, 2])"
            ]
          },
          "metadata": {},
          "execution_count": 12
        }
      ]
    },
    {
      "cell_type": "code",
      "source": [
        "# Tensor \n",
        "tensor = torch.tensor([[[1,2,3],\n",
        "                        [5,6,7],\n",
        "                        [8,9,10]]])\n",
        "tensor"
      ],
      "metadata": {
        "colab": {
          "base_uri": "https://localhost:8080/"
        },
        "id": "sVQpMKycxqmj",
        "outputId": "00de5277-45a9-4397-bf32-fed7efd1ab9c"
      },
      "execution_count": 13,
      "outputs": [
        {
          "output_type": "execute_result",
          "data": {
            "text/plain": [
              "tensor([[[ 1,  2,  3],\n",
              "         [ 5,  6,  7],\n",
              "         [ 8,  9, 10]]])"
            ]
          },
          "metadata": {},
          "execution_count": 13
        }
      ]
    },
    {
      "cell_type": "code",
      "source": [
        "print(f\"Dimentions of matrix {tensor.ndim}\")\n",
        "print(f\"Shape of matrix {tensor.shape}\")"
      ],
      "metadata": {
        "colab": {
          "base_uri": "https://localhost:8080/"
        },
        "id": "g9TyNfYbyDkP",
        "outputId": "0b6e9d84-44d7-4449-91da-a2be3d26a3f8"
      },
      "execution_count": 14,
      "outputs": [
        {
          "output_type": "stream",
          "name": "stdout",
          "text": [
            "Dimentions of matrix 3\n",
            "Shape of matrix torch.Size([1, 3, 3])\n"
          ]
        }
      ]
    },
    {
      "cell_type": "markdown",
      "source": [
        "### Random tensors"
      ],
      "metadata": {
        "id": "kCrEyTfY0vCA"
      }
    },
    {
      "cell_type": "code",
      "source": [
        "# Create a random tensor of size and shape\n",
        "random_tensor = torch.rand(3,4)\n",
        "random_tensor"
      ],
      "metadata": {
        "colab": {
          "base_uri": "https://localhost:8080/"
        },
        "id": "3GdfM6jj0zzR",
        "outputId": "1acb9be9-c058-42fa-bb61-9374814bdabb"
      },
      "execution_count": 15,
      "outputs": [
        {
          "output_type": "execute_result",
          "data": {
            "text/plain": [
              "tensor([[0.9594, 0.9211, 0.1978, 0.8588],\n",
              "        [0.9637, 0.3681, 0.9824, 0.6580],\n",
              "        [0.7890, 0.4114, 0.9928, 0.6578]])"
            ]
          },
          "metadata": {},
          "execution_count": 15
        }
      ]
    },
    {
      "cell_type": "code",
      "source": [
        "random_tensor.size()"
      ],
      "metadata": {
        "colab": {
          "base_uri": "https://localhost:8080/"
        },
        "id": "M9yPihEn106R",
        "outputId": "1a2e5e37-9aff-4043-cae1-635704e54487"
      },
      "execution_count": 16,
      "outputs": [
        {
          "output_type": "execute_result",
          "data": {
            "text/plain": [
              "torch.Size([3, 4])"
            ]
          },
          "metadata": {},
          "execution_count": 16
        }
      ]
    },
    {
      "cell_type": "code",
      "source": [
        "# Create a random tensor with similar shape to an image tensor\n",
        "random_image_size_tensor = torch.rand(size=(224, 224, 3))#height, weight, colour chaneles\n",
        "print(f\"Dimentions of matrix {random_image_size_tensor.ndim}\")\n",
        "print(f\"Shape of matrix {random_image_size_tensor.shape}\")"
      ],
      "metadata": {
        "colab": {
          "base_uri": "https://localhost:8080/"
        },
        "id": "BcoBTPmO16rR",
        "outputId": "3f067ffd-12d7-4bcc-8e5b-6ff0ba9f28f5"
      },
      "execution_count": 17,
      "outputs": [
        {
          "output_type": "stream",
          "name": "stdout",
          "text": [
            "Dimentions of matrix 3\n",
            "Shape of matrix torch.Size([224, 224, 3])\n"
          ]
        }
      ]
    },
    {
      "cell_type": "markdown",
      "source": [
        "### Zeros and ones"
      ],
      "metadata": {
        "id": "eAqFaSWX3a11"
      }
    },
    {
      "cell_type": "code",
      "source": [
        "# Create zeroes tensor\n",
        "zeros = torch.zeros(3,4)\n",
        "zeros"
      ],
      "metadata": {
        "colab": {
          "base_uri": "https://localhost:8080/"
        },
        "id": "e55TGGEj3dmd",
        "outputId": "830a96a4-35a7-48f0-87f2-3d6b8f853dab"
      },
      "execution_count": 18,
      "outputs": [
        {
          "output_type": "execute_result",
          "data": {
            "text/plain": [
              "tensor([[0., 0., 0., 0.],\n",
              "        [0., 0., 0., 0.],\n",
              "        [0., 0., 0., 0.]])"
            ]
          },
          "metadata": {},
          "execution_count": 18
        }
      ]
    },
    {
      "cell_type": "code",
      "source": [
        "# Create tensor of ones\n",
        "ones = torch.ones(4,5)\n",
        "ones"
      ],
      "metadata": {
        "colab": {
          "base_uri": "https://localhost:8080/"
        },
        "id": "mSGgCPuD3own",
        "outputId": "a426b6fa-7289-4dc5-b5d9-a92fc5bc9f0e"
      },
      "execution_count": 19,
      "outputs": [
        {
          "output_type": "execute_result",
          "data": {
            "text/plain": [
              "tensor([[1., 1., 1., 1., 1.],\n",
              "        [1., 1., 1., 1., 1.],\n",
              "        [1., 1., 1., 1., 1.],\n",
              "        [1., 1., 1., 1., 1.]])"
            ]
          },
          "metadata": {},
          "execution_count": 19
        }
      ]
    },
    {
      "cell_type": "markdown",
      "source": [
        "### Creating a range of tensor and tensor-like"
      ],
      "metadata": {
        "id": "MVk7Hons4YuX"
      }
    },
    {
      "cell_type": "code",
      "source": [
        "# Use torch.range()\\arange()\n",
        "torch.arange(0,101, 5) # torch.arange(start, end, step)"
      ],
      "metadata": {
        "colab": {
          "base_uri": "https://localhost:8080/"
        },
        "id": "unx2BZbL33r8",
        "outputId": "a87b4c56-4b32-46e1-dfb5-c67c6f770a49"
      },
      "execution_count": 20,
      "outputs": [
        {
          "output_type": "execute_result",
          "data": {
            "text/plain": [
              "tensor([  0,   5,  10,  15,  20,  25,  30,  35,  40,  45,  50,  55,  60,  65,\n",
              "         70,  75,  80,  85,  90,  95, 100])"
            ]
          },
          "metadata": {},
          "execution_count": 20
        }
      ]
    },
    {
      "cell_type": "code",
      "source": [
        "# Creating tensor like\n",
        "zeros_tensor_like = torch.zeros_like(input=torch.arange(0,101, 5))\n",
        "zeros_tensor_like"
      ],
      "metadata": {
        "colab": {
          "base_uri": "https://localhost:8080/"
        },
        "id": "_BeaB7H_4Qar",
        "outputId": "3225724c-4480-4328-cfb6-df941aa1c94f"
      },
      "execution_count": 21,
      "outputs": [
        {
          "output_type": "execute_result",
          "data": {
            "text/plain": [
              "tensor([0, 0, 0, 0, 0, 0, 0, 0, 0, 0, 0, 0, 0, 0, 0, 0, 0, 0, 0, 0, 0])"
            ]
          },
          "metadata": {},
          "execution_count": 21
        }
      ]
    },
    {
      "cell_type": "markdown",
      "source": [
        "### Tensor datatypes\n",
        "**Note:** Tensor datatype is one of the three big errors with pytorch and deeplearning\n",
        "1. Tensors not right datatype  `tensor.dtype`\n",
        "2. Tensors not right shape `tensor.shape`\n",
        "3. tensors not on the right device   `tensor.device`"
      ],
      "metadata": {
        "id": "TAaRZFgU55Uz"
      }
    },
    {
      "cell_type": "code",
      "source": [
        "# Float 32 tensor\n",
        "float_32_tensor = torch.tensor([3.0, 5.0, 9.0],\n",
        "                               dtype=None, # What dtype is the tensor\n",
        "                               device=None, # What device is tensor on it\n",
        "                               requires_grad=False # if you want pytorch track your gradient or not\n",
        "                               )\n",
        "float_32_tensor"
      ],
      "metadata": {
        "colab": {
          "base_uri": "https://localhost:8080/"
        },
        "id": "GRYQD5Kf59JC",
        "outputId": "472c881a-9105-46f2-b926-b64ab7351ab8"
      },
      "execution_count": 22,
      "outputs": [
        {
          "output_type": "execute_result",
          "data": {
            "text/plain": [
              "tensor([3., 5., 9.])"
            ]
          },
          "metadata": {},
          "execution_count": 22
        }
      ]
    },
    {
      "cell_type": "code",
      "source": [
        "float_64_tensor = float_32_tensor.type(torch.double) * float_32_tensor.type(torch.double)\n",
        "float_64_tensor"
      ],
      "metadata": {
        "colab": {
          "base_uri": "https://localhost:8080/"
        },
        "id": "oSxoH8Us78Dn",
        "outputId": "b26fb3a2-13e2-479d-8ecb-4fe8a04d3f9f"
      },
      "execution_count": 23,
      "outputs": [
        {
          "output_type": "execute_result",
          "data": {
            "text/plain": [
              "tensor([ 9., 25., 81.], dtype=torch.float64)"
            ]
          },
          "metadata": {},
          "execution_count": 23
        }
      ]
    },
    {
      "cell_type": "markdown",
      "source": [
        "### Manipulating tensors (tensor opratins)\n",
        "\n",
        "Tensor oprations :\n",
        "  * Addition\n",
        "  * Subtraction\n",
        "  * Multiplication\n",
        "  * Division\n",
        "  * Matrix multiplicatin"
      ],
      "metadata": {
        "id": "2xQ31mEoLRKf"
      }
    },
    {
      "cell_type": "code",
      "source": [
        "# Create a tensor\n",
        "tensor = torch.tensor([1,2,3])\n",
        "tensor + 10"
      ],
      "metadata": {
        "colab": {
          "base_uri": "https://localhost:8080/"
        },
        "id": "PX0BdC1oLT4U",
        "outputId": "db282cee-6444-4bf8-92fd-eaa89c31a273"
      },
      "execution_count": 24,
      "outputs": [
        {
          "output_type": "execute_result",
          "data": {
            "text/plain": [
              "tensor([11, 12, 13])"
            ]
          },
          "metadata": {},
          "execution_count": 24
        }
      ]
    },
    {
      "cell_type": "code",
      "source": [
        "# Check with rand\n",
        "tensor = torch.rand(4, 3)\n",
        "tensor = tensor + 10\n",
        "tensor"
      ],
      "metadata": {
        "colab": {
          "base_uri": "https://localhost:8080/"
        },
        "id": "BJVNHparMSmA",
        "outputId": "62b83413-a718-4381-cfd7-0536166831ce"
      },
      "execution_count": 25,
      "outputs": [
        {
          "output_type": "execute_result",
          "data": {
            "text/plain": [
              "tensor([[10.3112, 10.4161, 10.2064],\n",
              "        [10.0585, 10.0432, 10.8825],\n",
              "        [10.5590, 10.1491, 10.9928],\n",
              "        [10.9311, 10.6867, 10.8350]])"
            ]
          },
          "metadata": {},
          "execution_count": 25
        }
      ]
    },
    {
      "cell_type": "code",
      "source": [
        "# Multiplying tensor\n",
        "tensor = tensor * 100\n",
        "tensor"
      ],
      "metadata": {
        "colab": {
          "base_uri": "https://localhost:8080/"
        },
        "id": "cwiORGMhMbZa",
        "outputId": "d107c3ad-d2fc-4110-a6dd-158e45aff699"
      },
      "execution_count": 26,
      "outputs": [
        {
          "output_type": "execute_result",
          "data": {
            "text/plain": [
              "tensor([[1031.1191, 1041.6097, 1020.6439],\n",
              "        [1005.8535, 1004.3164, 1088.2465],\n",
              "        [1055.9033, 1014.9092, 1099.2782],\n",
              "        [1093.1072, 1068.6677, 1083.5005]])"
            ]
          },
          "metadata": {},
          "execution_count": 26
        }
      ]
    },
    {
      "cell_type": "code",
      "source": [
        "# Subtraction\n",
        "tensor = tensor - 10\n",
        "tensor"
      ],
      "metadata": {
        "colab": {
          "base_uri": "https://localhost:8080/"
        },
        "id": "RouGlopyMsk5",
        "outputId": "e1454d40-2bf8-46a7-cb21-d4fb5de35322"
      },
      "execution_count": 27,
      "outputs": [
        {
          "output_type": "execute_result",
          "data": {
            "text/plain": [
              "tensor([[1021.1191, 1031.6097, 1010.6439],\n",
              "        [ 995.8535,  994.3164, 1078.2465],\n",
              "        [1045.9033, 1004.9092, 1089.2782],\n",
              "        [1083.1072, 1058.6677, 1073.5005]])"
            ]
          },
          "metadata": {},
          "execution_count": 27
        }
      ]
    },
    {
      "cell_type": "code",
      "source": [
        "# Try with pytorch built-in functions\n",
        "tensor = torch.mul(tensor, 10)\n",
        "tensor"
      ],
      "metadata": {
        "colab": {
          "base_uri": "https://localhost:8080/"
        },
        "id": "wwbRKlfxNAMz",
        "outputId": "9ccd5afd-efce-4789-96ee-875101bc5dba"
      },
      "execution_count": 28,
      "outputs": [
        {
          "output_type": "execute_result",
          "data": {
            "text/plain": [
              "tensor([[10211.1914, 10316.0977, 10106.4395],\n",
              "        [ 9958.5342,  9943.1641, 10782.4648],\n",
              "        [10459.0332, 10049.0918, 10892.7822],\n",
              "        [10831.0723, 10586.6777, 10735.0049]])"
            ]
          },
          "metadata": {},
          "execution_count": 28
        }
      ]
    },
    {
      "cell_type": "markdown",
      "source": [
        "***Note***\n",
        "\n",
        "Learn more about built-in functions"
      ],
      "metadata": {
        "id": "J3OeDQhHNiHx"
      }
    },
    {
      "cell_type": "markdown",
      "source": [
        "### Matrix multiplying\n",
        "* Two main ways to do this in deeplearning\n",
        "  * Element-wise multiplication\n",
        "  * Matrix multiplication (Dot product)\n",
        "These are two main rules that performing mtrix multiplication needs to satisfy:\n",
        "  * the **iner dimensions** must match:\n",
        "    * `(3, 2) @ (3, 2)` wont work\n",
        "    * `(2, 3) @ (3, 2)` will work\n",
        "    * `(3, 2) @ (2, 3)` will work\n",
        "  * The resulting matrix has the shape of the **outer dimension**\n",
        "    * `(2, 3) @ (3, 2)` -> `(2, 2)`\n",
        "    * `(3, 2) @ (2, 3)` -> `(3, 3)`"
      ],
      "metadata": {
        "id": "b5XLEiGINznI"
      }
    },
    {
      "cell_type": "code",
      "source": [
        "# torch.matmul(torch.rand(3, 2), torch.rand(3, 2))\n",
        "torch.matmul(torch.rand(3, 2), torch.rand(2, 3))"
      ],
      "metadata": {
        "colab": {
          "base_uri": "https://localhost:8080/"
        },
        "id": "8gaW11JaVyPm",
        "outputId": "36fd6311-dcce-4d28-a26f-de4a47265471"
      },
      "execution_count": 29,
      "outputs": [
        {
          "output_type": "execute_result",
          "data": {
            "text/plain": [
              "tensor([[0.5777, 0.3670, 0.2484],\n",
              "        [0.1973, 0.1290, 0.0410],\n",
              "        [0.3222, 0.1686, 0.5704]])"
            ]
          },
          "metadata": {},
          "execution_count": 29
        }
      ]
    },
    {
      "cell_type": "code",
      "source": [
        "# Element-wise \n",
        "tensor = torch.tensor([10, 20, 30])\n",
        "print({tensor * tensor})\n",
        "print({tensor * 10})"
      ],
      "metadata": {
        "colab": {
          "base_uri": "https://localhost:8080/"
        },
        "id": "jU0Z9Mz3N42e",
        "outputId": "e421bd9c-f892-43e8-bc13-9d9917507c59"
      },
      "execution_count": 30,
      "outputs": [
        {
          "output_type": "stream",
          "name": "stdout",
          "text": [
            "{tensor([100, 400, 900])}\n",
            "{tensor([100, 200, 300])}\n"
          ]
        }
      ]
    },
    {
      "cell_type": "code",
      "source": [
        "# Matrix Multiplying\n",
        "%%time\n",
        "torch.matmul(tensor, tensor)"
      ],
      "metadata": {
        "colab": {
          "base_uri": "https://localhost:8080/"
        },
        "id": "bVwJfoi8O_Lr",
        "outputId": "ea9093d0-3b26-44be-b5ca-ed1cf7d8b397"
      },
      "execution_count": 31,
      "outputs": [
        {
          "output_type": "stream",
          "name": "stdout",
          "text": [
            "CPU times: user 1.3 ms, sys: 0 ns, total: 1.3 ms\n",
            "Wall time: 1.3 ms\n"
          ]
        },
        {
          "output_type": "execute_result",
          "data": {
            "text/plain": [
              "tensor(1400)"
            ]
          },
          "metadata": {},
          "execution_count": 31
        }
      ]
    },
    {
      "cell_type": "code",
      "source": [
        "# Code what happen by hand\n",
        "10*10 + 20*20 + 30*30"
      ],
      "metadata": {
        "colab": {
          "base_uri": "https://localhost:8080/"
        },
        "id": "lTz11iGXPv-y",
        "outputId": "8166b3c4-35f0-4385-bab5-a021bbc2c82d"
      },
      "execution_count": 32,
      "outputs": [
        {
          "output_type": "execute_result",
          "data": {
            "text/plain": [
              "1400"
            ]
          },
          "metadata": {},
          "execution_count": 32
        }
      ]
    },
    {
      "cell_type": "code",
      "source": [
        "# With for loop\n",
        "%%time\n",
        "value = 0\n",
        "for i in range(len(tensor)):\n",
        "  value += tensor[i] * tensor[i]\n",
        "value"
      ],
      "metadata": {
        "colab": {
          "base_uri": "https://localhost:8080/"
        },
        "id": "5A8ueK3JQPcv",
        "outputId": "a2135bc2-481e-49f1-fe45-71c524f4d812"
      },
      "execution_count": 33,
      "outputs": [
        {
          "output_type": "stream",
          "name": "stdout",
          "text": [
            "CPU times: user 468 µs, sys: 70 µs, total: 538 µs\n",
            "Wall time: 2.25 ms\n"
          ]
        },
        {
          "output_type": "execute_result",
          "data": {
            "text/plain": [
              "tensor(1400)"
            ]
          },
          "metadata": {},
          "execution_count": 33
        }
      ]
    },
    {
      "cell_type": "markdown",
      "source": [
        "### One of the the most common errors in deeplearning: **Shape error**"
      ],
      "metadata": {
        "id": "i0meYleaRyYH"
      }
    },
    {
      "cell_type": "markdown",
      "source": [
        "# Shapes for matrix multiplication\n",
        "tensor_A = torch.tensor([[1, 2],\n",
        "                         [3, 4],\n",
        "                         [5, 6]])\n",
        "tensor_B = torch.tensor([[7, 10],\n",
        "                         [8, 11],\n",
        "                         [9, 12]])\n",
        "torch.mm(tensor_A, tensor_B) # `torch.matmul()` == `torch.mm()`"
      ],
      "metadata": {
        "id": "7MzwQY3Do0aN"
      }
    },
    {
      "cell_type": "code",
      "source": [
        "tensor_A.shape, tensor_B.shape"
      ],
      "metadata": {
        "colab": {
          "base_uri": "https://localhost:8080/",
          "height": 165
        },
        "id": "Ytu2gHKlZ5uQ",
        "outputId": "03be650a-8592-4e7f-9524-28716fe691c0"
      },
      "execution_count": 34,
      "outputs": [
        {
          "output_type": "error",
          "ename": "NameError",
          "evalue": "ignored",
          "traceback": [
            "\u001b[0;31m---------------------------------------------------------------------------\u001b[0m",
            "\u001b[0;31mNameError\u001b[0m                                 Traceback (most recent call last)",
            "\u001b[0;32m<ipython-input-34-81b6cede75ea>\u001b[0m in \u001b[0;36m<module>\u001b[0;34m\u001b[0m\n\u001b[0;32m----> 1\u001b[0;31m \u001b[0mtensor_A\u001b[0m\u001b[0;34m.\u001b[0m\u001b[0mshape\u001b[0m\u001b[0;34m,\u001b[0m \u001b[0mtensor_B\u001b[0m\u001b[0;34m.\u001b[0m\u001b[0mshape\u001b[0m\u001b[0;34m\u001b[0m\u001b[0;34m\u001b[0m\u001b[0m\n\u001b[0m",
            "\u001b[0;31mNameError\u001b[0m: name 'tensor_A' is not defined"
          ]
        }
      ]
    },
    {
      "cell_type": "markdown",
      "source": [
        "To fix our tensor sahpe issue we can minipulate one of our tensor using a **transpose**\n",
        "\n",
        "A **transpose** switches the axes or Dimentions of a given tensor "
      ],
      "metadata": {
        "id": "dKjl2W5daoOw"
      }
    },
    {
      "cell_type": "code",
      "source": [
        "tensor_B.T, tensor_B.T.shape"
      ],
      "metadata": {
        "colab": {
          "base_uri": "https://localhost:8080/",
          "height": 165
        },
        "id": "cAKmcccdaphR",
        "outputId": "b0349ced-fdff-48dc-d3b0-7205d77b3e3d"
      },
      "execution_count": 35,
      "outputs": [
        {
          "output_type": "error",
          "ename": "NameError",
          "evalue": "ignored",
          "traceback": [
            "\u001b[0;31m---------------------------------------------------------------------------\u001b[0m",
            "\u001b[0;31mNameError\u001b[0m                                 Traceback (most recent call last)",
            "\u001b[0;32m<ipython-input-35-1d4e48cd994b>\u001b[0m in \u001b[0;36m<module>\u001b[0;34m\u001b[0m\n\u001b[0;32m----> 1\u001b[0;31m \u001b[0mtensor_B\u001b[0m\u001b[0;34m.\u001b[0m\u001b[0mT\u001b[0m\u001b[0;34m,\u001b[0m \u001b[0mtensor_B\u001b[0m\u001b[0;34m.\u001b[0m\u001b[0mT\u001b[0m\u001b[0;34m.\u001b[0m\u001b[0mshape\u001b[0m\u001b[0;34m\u001b[0m\u001b[0;34m\u001b[0m\u001b[0m\n\u001b[0m",
            "\u001b[0;31mNameError\u001b[0m: name 'tensor_B' is not defined"
          ]
        }
      ]
    },
    {
      "cell_type": "code",
      "source": [
        " torch.mm(tensor_A, tensor_B.T).shape"
      ],
      "metadata": {
        "colab": {
          "base_uri": "https://localhost:8080/",
          "height": 165
        },
        "id": "-tVxDe6mauiS",
        "outputId": "cba2d06a-2f47-46e8-8673-6dd253ab7a67"
      },
      "execution_count": 36,
      "outputs": [
        {
          "output_type": "error",
          "ename": "NameError",
          "evalue": "ignored",
          "traceback": [
            "\u001b[0;31m---------------------------------------------------------------------------\u001b[0m",
            "\u001b[0;31mNameError\u001b[0m                                 Traceback (most recent call last)",
            "\u001b[0;32m<ipython-input-36-0869d6b352a6>\u001b[0m in \u001b[0;36m<module>\u001b[0;34m\u001b[0m\n\u001b[0;32m----> 1\u001b[0;31m \u001b[0mtorch\u001b[0m\u001b[0;34m.\u001b[0m\u001b[0mmm\u001b[0m\u001b[0;34m(\u001b[0m\u001b[0mtensor_A\u001b[0m\u001b[0;34m,\u001b[0m \u001b[0mtensor_B\u001b[0m\u001b[0;34m.\u001b[0m\u001b[0mT\u001b[0m\u001b[0;34m)\u001b[0m\u001b[0;34m.\u001b[0m\u001b[0mshape\u001b[0m\u001b[0;34m\u001b[0m\u001b[0;34m\u001b[0m\u001b[0m\n\u001b[0m",
            "\u001b[0;31mNameError\u001b[0m: name 'tensor_A' is not defined"
          ]
        }
      ]
    },
    {
      "cell_type": "markdown",
      "source": [
        "### Finding the min, max, mean, sum, etc (tensor aggregation)"
      ],
      "metadata": {
        "id": "GhxTQGCydRiU"
      }
    },
    {
      "cell_type": "code",
      "source": [
        "# Create a tensor\n",
        "x = torch.arange(0, 100, 10)\n",
        "x\n"
      ],
      "metadata": {
        "colab": {
          "base_uri": "https://localhost:8080/"
        },
        "id": "eSdBIHMwdbZa",
        "outputId": "1a732d8b-621f-4daa-df45-902d860efb85"
      },
      "execution_count": 37,
      "outputs": [
        {
          "output_type": "execute_result",
          "data": {
            "text/plain": [
              "tensor([ 0, 10, 20, 30, 40, 50, 60, 70, 80, 90])"
            ]
          },
          "metadata": {},
          "execution_count": 37
        }
      ]
    },
    {
      "cell_type": "code",
      "source": [
        "# Find the min\n",
        "torch.min(x), x.min()"
      ],
      "metadata": {
        "colab": {
          "base_uri": "https://localhost:8080/"
        },
        "id": "I--sHiW7drnT",
        "outputId": "453bb11e-3cb8-44d6-b44c-35081e9a9daa"
      },
      "execution_count": 38,
      "outputs": [
        {
          "output_type": "execute_result",
          "data": {
            "text/plain": [
              "(tensor(0), tensor(0))"
            ]
          },
          "metadata": {},
          "execution_count": 38
        }
      ]
    },
    {
      "cell_type": "code",
      "source": [
        "# Find mean\n",
        "torch.mean(x.type(torch.float32)), x.type(torch.float32).mean()\n",
        " #Input dtype must be either a floating point or complex dtype. Got: Long"
      ],
      "metadata": {
        "colab": {
          "base_uri": "https://localhost:8080/"
        },
        "id": "R3vS75vKdxq-",
        "outputId": "33ce9ebf-ca4f-459d-8f2d-5037ff5b6fc1"
      },
      "execution_count": 39,
      "outputs": [
        {
          "output_type": "execute_result",
          "data": {
            "text/plain": [
              "(tensor(45.), tensor(45.))"
            ]
          },
          "metadata": {},
          "execution_count": 39
        }
      ]
    },
    {
      "cell_type": "code",
      "source": [
        "  # Find the sum\n",
        "  torch.sum(x), x.sum()"
      ],
      "metadata": {
        "colab": {
          "base_uri": "https://localhost:8080/"
        },
        "id": "KgaYeEMHd9Gl",
        "outputId": "8e39f88a-4a04-4a2e-d816-b84c2d36554f"
      },
      "execution_count": 40,
      "outputs": [
        {
          "output_type": "execute_result",
          "data": {
            "text/plain": [
              "(tensor(450), tensor(450))"
            ]
          },
          "metadata": {},
          "execution_count": 40
        }
      ]
    },
    {
      "cell_type": "markdown",
      "source": [
        "### Finding the posotional MIN & MAX"
      ],
      "metadata": {
        "id": "oauiQdA_oSTI"
      }
    },
    {
      "cell_type": "code",
      "source": [
        "x"
      ],
      "metadata": {
        "colab": {
          "base_uri": "https://localhost:8080/"
        },
        "id": "h9VavZLEoa9y",
        "outputId": "faaf648d-b5ac-45b3-c604-be07290f8adc"
      },
      "execution_count": 41,
      "outputs": [
        {
          "output_type": "execute_result",
          "data": {
            "text/plain": [
              "tensor([ 0, 10, 20, 30, 40, 50, 60, 70, 80, 90])"
            ]
          },
          "metadata": {},
          "execution_count": 41
        }
      ]
    },
    {
      "cell_type": "code",
      "source": [
        "x[0]"
      ],
      "metadata": {
        "colab": {
          "base_uri": "https://localhost:8080/"
        },
        "id": "dkY3vlfZof5k",
        "outputId": "874b0c10-432a-459e-bb37-fc7ff92c8742"
      },
      "execution_count": 42,
      "outputs": [
        {
          "output_type": "execute_result",
          "data": {
            "text/plain": [
              "tensor(0)"
            ]
          },
          "metadata": {},
          "execution_count": 42
        }
      ]
    },
    {
      "cell_type": "code",
      "source": [
        "# Finding the position of min and max with argmin() and argmax()\n",
        "x.argmax()"
      ],
      "metadata": {
        "colab": {
          "base_uri": "https://localhost:8080/"
        },
        "id": "Z0rSG9nko7-2",
        "outputId": "aa2398de-1a0c-4773-f79d-715a7ba6fcbd"
      },
      "execution_count": 43,
      "outputs": [
        {
          "output_type": "execute_result",
          "data": {
            "text/plain": [
              "tensor(9)"
            ]
          },
          "metadata": {},
          "execution_count": 43
        }
      ]
    },
    {
      "cell_type": "markdown",
      "source": [
        "### Reshaping, stacking, squeezing and unsequeezing tensors\n",
        "* Reshaping - reshape an iput tensor to a defined shape\n",
        "* View - Return a view of an input tensor of certian shape but keep the same memory as the original tensor\n",
        "* Stacking - combine multiple tensors on top of each other (vStack)\n",
        "** Note: ** there is also 'hStack' \n",
        "* Squuezing - remove all '1' dimensions from a tensor\n",
        "* Unsqueezing - add a '1' dimension to a target tensor\n",
        "* Permute - return a view of the input with dimensions permuted  (swapped) in a certain way"
      ],
      "metadata": {
        "id": "VoNzadTgpoRE"
      }
    },
    {
      "cell_type": "code",
      "source": [
        "# Create a tensor\n",
        "tensor = torch.arange(1, 11)\n",
        "tensor.shape , tensor"
      ],
      "metadata": {
        "colab": {
          "base_uri": "https://localhost:8080/"
        },
        "id": "81zAJDw7rGj9",
        "outputId": "de68a006-423c-4ad3-b8ef-d6e2bd59cf7c"
      },
      "execution_count": 44,
      "outputs": [
        {
          "output_type": "execute_result",
          "data": {
            "text/plain": [
              "(torch.Size([10]), tensor([ 1,  2,  3,  4,  5,  6,  7,  8,  9, 10]))"
            ]
          },
          "metadata": {},
          "execution_count": 44
        }
      ]
    },
    {
      "cell_type": "code",
      "source": [
        "# Add an extra dimension\n",
        "tensor_reshaped = tensor.reshape(1, 10)\n",
        "tensor_reshaped_H = tensor.reshape(5, 2)\n",
        "tensor_reshaped, tensor_reshaped.shape, tensor_reshaped_H\n",
        "# shape '[1, 7]' is invalid for input of size 10"
      ],
      "metadata": {
        "colab": {
          "base_uri": "https://localhost:8080/"
        },
        "id": "SorFXEkErWSJ",
        "outputId": "2115493a-1c08-46e6-a6e2-15c9901e0880"
      },
      "execution_count": 45,
      "outputs": [
        {
          "output_type": "execute_result",
          "data": {
            "text/plain": [
              "(tensor([[ 1,  2,  3,  4,  5,  6,  7,  8,  9, 10]]),\n",
              " torch.Size([1, 10]),\n",
              " tensor([[ 1,  2],\n",
              "         [ 3,  4],\n",
              "         [ 5,  6],\n",
              "         [ 7,  8],\n",
              "         [ 9, 10]]))"
            ]
          },
          "metadata": {},
          "execution_count": 45
        }
      ]
    },
    {
      "cell_type": "markdown",
      "source": [
        "*** Note: ***\n",
        "when we have 10 elements we can reshape the tensor with every combination of multiplying number which are equal to 10.\n",
        "like (1, 10), (2, 5), (5, 2), (10, 1)"
      ],
      "metadata": {
        "id": "y1vc5141sj00"
      }
    },
    {
      "cell_type": "code",
      "source": [
        "# Change the view \n",
        "tensor_changed_view = tensor.view(1, 10)\n",
        "tensor_changed_view"
      ],
      "metadata": {
        "colab": {
          "base_uri": "https://localhost:8080/"
        },
        "id": "zIlGtbcOrk2E",
        "outputId": "e7c4b69a-0f43-4c24-df34-a4456d95fea7"
      },
      "execution_count": 46,
      "outputs": [
        {
          "output_type": "execute_result",
          "data": {
            "text/plain": [
              "tensor([[ 1,  2,  3,  4,  5,  6,  7,  8,  9, 10]])"
            ]
          },
          "metadata": {},
          "execution_count": 46
        }
      ]
    },
    {
      "cell_type": "code",
      "source": [
        "# Changing tensor_changed_view changes ***tensor*** (becuase a view of the tensor shares the same memory as the original input)\n",
        "tensor_changed_view[:, 1] = 85\n",
        "tensor_changed_view, tensor"
      ],
      "metadata": {
        "colab": {
          "base_uri": "https://localhost:8080/"
        },
        "id": "Z6MonfWLt7YJ",
        "outputId": "0f33d8e8-4bb0-41c3-f2a9-1a349406d53b"
      },
      "execution_count": 47,
      "outputs": [
        {
          "output_type": "execute_result",
          "data": {
            "text/plain": [
              "(tensor([[ 1, 85,  3,  4,  5,  6,  7,  8,  9, 10]]),\n",
              " tensor([ 1, 85,  3,  4,  5,  6,  7,  8,  9, 10]))"
            ]
          },
          "metadata": {},
          "execution_count": 47
        }
      ]
    },
    {
      "cell_type": "code",
      "source": [
        "# Stack funtion in torch\n",
        "tensor_stacked = torch.stack([x, x, x, x])\n",
        "tensor_stacked_with_dim = torch.stack([x, x, x, x], dim=1)\n",
        "tensor_stacked, tensor_stacked_with_dim"
      ],
      "metadata": {
        "colab": {
          "base_uri": "https://localhost:8080/"
        },
        "id": "mDPGmwH5ufln",
        "outputId": "69f35936-78be-47ae-d7ee-bb5ce00810af"
      },
      "execution_count": 48,
      "outputs": [
        {
          "output_type": "execute_result",
          "data": {
            "text/plain": [
              "(tensor([[ 0, 10, 20, 30, 40, 50, 60, 70, 80, 90],\n",
              "         [ 0, 10, 20, 30, 40, 50, 60, 70, 80, 90],\n",
              "         [ 0, 10, 20, 30, 40, 50, 60, 70, 80, 90],\n",
              "         [ 0, 10, 20, 30, 40, 50, 60, 70, 80, 90]]), tensor([[ 0,  0,  0,  0],\n",
              "         [10, 10, 10, 10],\n",
              "         [20, 20, 20, 20],\n",
              "         [30, 30, 30, 30],\n",
              "         [40, 40, 40, 40],\n",
              "         [50, 50, 50, 50],\n",
              "         [60, 60, 60, 60],\n",
              "         [70, 70, 70, 70],\n",
              "         [80, 80, 80, 80],\n",
              "         [90, 90, 90, 90]]))"
            ]
          },
          "metadata": {},
          "execution_count": 48
        }
      ]
    },
    {
      "cell_type": "code",
      "source": [
        "  # torch.squeeze() -> removes all single dimension from a target tensor\n",
        "tensor_reshaped"
      ],
      "metadata": {
        "colab": {
          "base_uri": "https://localhost:8080/"
        },
        "id": "aizF4aaOvTjj",
        "outputId": "95f14d77-9ddf-4750-8ab5-ea8406ec1846"
      },
      "execution_count": 49,
      "outputs": [
        {
          "output_type": "execute_result",
          "data": {
            "text/plain": [
              "tensor([[ 1, 85,  3,  4,  5,  6,  7,  8,  9, 10]])"
            ]
          },
          "metadata": {},
          "execution_count": 49
        }
      ]
    },
    {
      "cell_type": "code",
      "source": [
        "tensor_squeezed = tensor_reshaped.squeeze()\n",
        "tensor_squeezed,tensor_squeezed.shape"
      ],
      "metadata": {
        "colab": {
          "base_uri": "https://localhost:8080/"
        },
        "id": "16NtV2jbAXOO",
        "outputId": "08bf3138-7211-4689-92fc-e7b237338604"
      },
      "execution_count": 55,
      "outputs": [
        {
          "output_type": "execute_result",
          "data": {
            "text/plain": [
              "(tensor([ 1, 85,  3,  4,  5,  6,  7,  8,  9, 10]), torch.Size([10]))"
            ]
          },
          "metadata": {},
          "execution_count": 55
        }
      ]
    },
    {
      "cell_type": "code",
      "source": [
        "print(f\"tensor reshaped form = {tensor_reshaped} \\n and the shape is {tensor_reshaped.shape}\")\n",
        "print(f\"tensor reshaped squeezed = {tensor_squeezed} \\n and the shape is {tensor_squeezed.shape}\")"
      ],
      "metadata": {
        "colab": {
          "base_uri": "https://localhost:8080/"
        },
        "id": "7dYZ8QkoAndY",
        "outputId": "7b9be002-ee13-46c1-b13d-95e2f7284247"
      },
      "execution_count": 59,
      "outputs": [
        {
          "output_type": "stream",
          "name": "stdout",
          "text": [
            "tensor reshaped form = tensor([[ 1, 85,  3,  4,  5,  6,  7,  8,  9, 10]]) \n",
            " and the shape is torch.Size([1, 10])\n",
            "tensor reshaped squeezed = tensor([ 1, 85,  3,  4,  5,  6,  7,  8,  9, 10]) \n",
            " and the shape is torch.Size([10])\n"
          ]
        }
      ]
    },
    {
      "cell_type": "code",
      "source": [
        "# Example with Unsqueezed -> add a single dimension to target tensor\n",
        "tensor_reshaped_Unsqueezed_dim0 = tensor_reshaped.unsqueeze(dim=0)\n",
        "tensor_reshaped_Unsqueezed_dim1 = tensor_reshaped.unsqueeze(dim=1)\n",
        "print(f\"tensor reshaped form = {tensor_reshaped} \\n and the shape is {tensor_reshaped.shape}\")\n",
        "print(f\"tensor reshaped squeezed = {tensor_reshaped_Unsqueezed_dim0} \\n and the shape is {tensor_reshaped_Unsqueezed_dim0.shape}\")\n",
        "print(f\"tensor reshaped squeezed = {tensor_reshaped_Unsqueezed_dim1} \\n and the shape is {tensor_reshaped_Unsqueezed_dim1.shape}\")"
      ],
      "metadata": {
        "colab": {
          "base_uri": "https://localhost:8080/"
        },
        "id": "3YYMeSk3A1hf",
        "outputId": "5c1d7bc0-c3eb-4833-be9e-5d0170a22816"
      },
      "execution_count": 67,
      "outputs": [
        {
          "output_type": "stream",
          "name": "stdout",
          "text": [
            "tensor reshaped form = tensor([[ 1, 85,  3,  4,  5,  6,  7,  8,  9, 10]]) \n",
            " and the shape is torch.Size([1, 10])\n",
            "tensor reshaped squeezed = tensor([[[ 1, 85,  3,  4,  5,  6,  7,  8,  9, 10]]]) \n",
            " and the shape is torch.Size([1, 1, 10])\n",
            "tensor reshaped squeezed = tensor([[[ 1, 85,  3,  4,  5,  6,  7,  8,  9, 10]]]) \n",
            " and the shape is torch.Size([1, 1, 10])\n"
          ]
        }
      ]
    },
    {
      "cell_type": "code",
      "source": [
        "# $Example with 3*4 dimension\n",
        "tensor_new = torch.rand(3, 4)\n",
        "tensor_new_Unsqueezed_dim0 = tensor_new.unsqueeze(dim=0)\n",
        "tensor_new_Unsqueezed_dim1 = tensor_new.unsqueeze(dim=1)\n",
        "tensor_new_Unsqueezed_dim2 = tensor_new.unsqueeze(dim=2)\n",
        "print(f\"tensor new form =\\n {tensor_new} \\n and the shape is {tensor_new.shape}\\n\")\n",
        "print(f\"tensor new squeezed with dim=0 =\\n {tensor_new_Unsqueezed_dim0} \\n and the shape is {tensor_new_Unsqueezed_dim0.shape}\\n\")\n",
        "print(f\"tensor new squeezed with dim=1 =\\n {tensor_new_Unsqueezed_dim1} \\n and the shape is {tensor_new_Unsqueezed_dim1.shape}\\n\")\n",
        "print(f\"tensor new squeezed with dim=2 =\\n {tensor_new_Unsqueezed_dim2} \\n and the shape is {tensor_new_Unsqueezed_dim2.shape}\\n\")"
      ],
      "metadata": {
        "colab": {
          "base_uri": "https://localhost:8080/"
        },
        "id": "10JUaqkaB2RH",
        "outputId": "0eee37e8-b365-4cbd-8de9-bd71922f3624"
      },
      "execution_count": 79,
      "outputs": [
        {
          "output_type": "stream",
          "name": "stdout",
          "text": [
            "tensor new form =\n",
            " tensor([[0.4689, 0.9505, 0.1695, 0.3069],\n",
            "        [0.7022, 0.0706, 0.0801, 0.2843],\n",
            "        [0.1230, 0.6851, 0.0620, 0.1590]]) \n",
            " and the shape is torch.Size([3, 4])\n",
            "\n",
            "tensor new squeezed with dim=0 =\n",
            " tensor([[[0.4689, 0.9505, 0.1695, 0.3069],\n",
            "         [0.7022, 0.0706, 0.0801, 0.2843],\n",
            "         [0.1230, 0.6851, 0.0620, 0.1590]]]) \n",
            " and the shape is torch.Size([1, 3, 4])\n",
            "\n",
            "tensor new squeezed with dim=1 =\n",
            " tensor([[[0.4689, 0.9505, 0.1695, 0.3069]],\n",
            "\n",
            "        [[0.7022, 0.0706, 0.0801, 0.2843]],\n",
            "\n",
            "        [[0.1230, 0.6851, 0.0620, 0.1590]]]) \n",
            " and the shape is torch.Size([3, 1, 4])\n",
            "\n",
            "tensor new squeezed with dim=2 =\n",
            " tensor([[[0.4689],\n",
            "         [0.9505],\n",
            "         [0.1695],\n",
            "         [0.3069]],\n",
            "\n",
            "        [[0.7022],\n",
            "         [0.0706],\n",
            "         [0.0801],\n",
            "         [0.2843]],\n",
            "\n",
            "        [[0.1230],\n",
            "         [0.6851],\n",
            "         [0.0620],\n",
            "         [0.1590]]]) \n",
            " and the shape is torch.Size([3, 4, 1])\n",
            "\n"
          ]
        }
      ]
    },
    {
      "cell_type": "markdown",
      "source": [
        "*** Note: ***\n",
        "\n",
        "So when we add a single dimension to ***dim=0***, the math explenation is we add a big matrix to the whole matrix.\n",
        "\n",
        "But when we add a single dimension to ***dim=1***, the math explenation is we add a single matrix to each raw of our matrix"
      ],
      "metadata": {
        "id": "jnvCzi4cEmbJ"
      }
    },
    {
      "cell_type": "code",
      "source": [
        "# torch.permute() -> rearange the dimensions of the target tensor in a specified  order\n",
        "tensor_image = torch.rand(224, 224, 3)\n",
        "\n",
        "# Permute the dimensions\n",
        "tensor_image_permuted = tensor_image.permute(2, 0, 1)\n",
        "print(f\"The original tensor of exaple image:\\n{tensor_image}\\n and the dimension is {tensor_image.shape}\\n\")\n",
        "print(f\"The permuted tensor of exaple image:\\n{tensor_image_permuted}\\n and the dimension is {tensor_image_permuted.shape}\\n\")\n",
        "print(\"So we permute a [0, 1, 2] matrix dimesions to [2, 0, 1]\")\n"
      ],
      "metadata": {
        "colab": {
          "base_uri": "https://localhost:8080/"
        },
        "id": "lkxyLEDmCn4O",
        "outputId": "62c76bc4-017a-4340-8eb0-61927f9c268c"
      },
      "execution_count": 84,
      "outputs": [
        {
          "output_type": "stream",
          "name": "stdout",
          "text": [
            "The original tensor of exaple image:\n",
            "tensor([[[0.0603, 0.5368, 0.9000],\n",
            "         [0.3555, 0.2751, 0.9075],\n",
            "         [0.1947, 0.0741, 0.1379],\n",
            "         ...,\n",
            "         [0.7104, 0.5801, 0.8449],\n",
            "         [0.8788, 0.5613, 0.5476],\n",
            "         [0.8714, 0.8797, 0.4299]],\n",
            "\n",
            "        [[0.6367, 0.5599, 0.0637],\n",
            "         [0.1489, 0.1619, 0.1610],\n",
            "         [0.3105, 0.0041, 0.3407],\n",
            "         ...,\n",
            "         [0.3195, 0.0280, 0.0391],\n",
            "         [0.4190, 0.8822, 0.1457],\n",
            "         [0.5113, 0.4150, 0.7876]],\n",
            "\n",
            "        [[0.2420, 0.3357, 0.0998],\n",
            "         [0.2634, 0.9067, 0.1386],\n",
            "         [0.4868, 0.3385, 0.6977],\n",
            "         ...,\n",
            "         [0.5054, 0.1870, 0.1086],\n",
            "         [0.4953, 0.6963, 0.9278],\n",
            "         [0.4911, 0.6636, 0.8384]],\n",
            "\n",
            "        ...,\n",
            "\n",
            "        [[0.4362, 0.5473, 0.0431],\n",
            "         [0.2064, 0.8011, 0.4617],\n",
            "         [0.0833, 0.1971, 0.7244],\n",
            "         ...,\n",
            "         [0.6992, 0.3330, 0.4892],\n",
            "         [0.5053, 0.1254, 0.4847],\n",
            "         [0.2267, 0.5472, 0.3805]],\n",
            "\n",
            "        [[0.8122, 0.6964, 0.6621],\n",
            "         [0.1236, 0.9604, 0.8430],\n",
            "         [0.2920, 0.0293, 0.7565],\n",
            "         ...,\n",
            "         [0.1613, 0.6785, 0.5116],\n",
            "         [0.1558, 0.5318, 0.5990],\n",
            "         [0.3846, 0.8064, 0.0839]],\n",
            "\n",
            "        [[0.3853, 0.2793, 0.9023],\n",
            "         [0.8307, 0.9937, 0.4360],\n",
            "         [0.5836, 0.9856, 0.0286],\n",
            "         ...,\n",
            "         [0.0651, 0.2683, 0.6135],\n",
            "         [0.7074, 0.6528, 0.8411],\n",
            "         [0.9282, 0.1921, 0.8631]]])\n",
            " and the dimension is torch.Size([224, 224, 3])\n",
            "\n",
            "The permuted tensor of exaple image:\n",
            "tensor([[[0.0603, 0.3555, 0.1947,  ..., 0.7104, 0.8788, 0.8714],\n",
            "         [0.6367, 0.1489, 0.3105,  ..., 0.3195, 0.4190, 0.5113],\n",
            "         [0.2420, 0.2634, 0.4868,  ..., 0.5054, 0.4953, 0.4911],\n",
            "         ...,\n",
            "         [0.4362, 0.2064, 0.0833,  ..., 0.6992, 0.5053, 0.2267],\n",
            "         [0.8122, 0.1236, 0.2920,  ..., 0.1613, 0.1558, 0.3846],\n",
            "         [0.3853, 0.8307, 0.5836,  ..., 0.0651, 0.7074, 0.9282]],\n",
            "\n",
            "        [[0.5368, 0.2751, 0.0741,  ..., 0.5801, 0.5613, 0.8797],\n",
            "         [0.5599, 0.1619, 0.0041,  ..., 0.0280, 0.8822, 0.4150],\n",
            "         [0.3357, 0.9067, 0.3385,  ..., 0.1870, 0.6963, 0.6636],\n",
            "         ...,\n",
            "         [0.5473, 0.8011, 0.1971,  ..., 0.3330, 0.1254, 0.5472],\n",
            "         [0.6964, 0.9604, 0.0293,  ..., 0.6785, 0.5318, 0.8064],\n",
            "         [0.2793, 0.9937, 0.9856,  ..., 0.2683, 0.6528, 0.1921]],\n",
            "\n",
            "        [[0.9000, 0.9075, 0.1379,  ..., 0.8449, 0.5476, 0.4299],\n",
            "         [0.0637, 0.1610, 0.3407,  ..., 0.0391, 0.1457, 0.7876],\n",
            "         [0.0998, 0.1386, 0.6977,  ..., 0.1086, 0.9278, 0.8384],\n",
            "         ...,\n",
            "         [0.0431, 0.4617, 0.7244,  ..., 0.4892, 0.4847, 0.3805],\n",
            "         [0.6621, 0.8430, 0.7565,  ..., 0.5116, 0.5990, 0.0839],\n",
            "         [0.9023, 0.4360, 0.0286,  ..., 0.6135, 0.8411, 0.8631]]])\n",
            " and the dimension is torch.Size([3, 224, 224])\n",
            "\n",
            "So we permute a [0, 1, 2] matrix dimesions to [2, 0, 1]\n"
          ]
        }
      ]
    },
    {
      "cell_type": "code",
      "source": [
        "tensor_image[0, 0, 0] = 85\n",
        "tensor_image_permuted[0, 0, 0]\n",
        "# So the permute is a view so any change on original will apllyed in permuted matrix"
      ],
      "metadata": {
        "colab": {
          "base_uri": "https://localhost:8080/"
        },
        "id": "FO9oJzRJGq14",
        "outputId": "3d71dd73-210c-43aa-c4bb-5979d308c853"
      },
      "execution_count": 90,
      "outputs": [
        {
          "output_type": "execute_result",
          "data": {
            "text/plain": [
              "tensor(85.)"
            ]
          },
          "metadata": {},
          "execution_count": 90
        }
      ]
    },
    {
      "cell_type": "code",
      "source": [
        "tensor_image_permuted[0, 0, 0] = 86\n",
        "tensor_image[0, 0, 0]\n",
        "# and its also true for opposite "
      ],
      "metadata": {
        "colab": {
          "base_uri": "https://localhost:8080/"
        },
        "id": "IupvP5BPI5BV",
        "outputId": "a3b5a14e-00b8-47ae-f729-b0e4e0c61702"
      },
      "execution_count": 92,
      "outputs": [
        {
          "output_type": "execute_result",
          "data": {
            "text/plain": [
              "tensor(86.)"
            ]
          },
          "metadata": {},
          "execution_count": 92
        }
      ]
    },
    {
      "cell_type": "code",
      "source": [],
      "metadata": {
        "id": "MyTWdhtOJRbt"
      },
      "execution_count": null,
      "outputs": []
    }
  ]
}